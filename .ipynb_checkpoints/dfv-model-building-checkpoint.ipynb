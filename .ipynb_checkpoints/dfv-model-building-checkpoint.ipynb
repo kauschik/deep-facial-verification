{
 "cells": [
  {
   "cell_type": "markdown",
   "id": "16a5867c",
   "metadata": {},
   "source": [
    "# 0. Self Introduction  \n",
    "Deep Facial Verification using Siamese Neural Network\n",
    "------------------------------------------------------------------------------------------------------------------------\n",
    "#### ***Final project for partial fulfilment of course Data Science at SCDE of Jawaharlal Nehru Technological University Hyderabad.***\n",
    "________________________________________________________________________________________________________________________\n",
    "\n",
    "\n",
    "Project by: ***Narra SuryaKoushik Reddy***\n",
    "\n",
    "E-Mail:  ***narrasuryakoushikreddy@gmail.com***\n",
    "\n",
    "Project Report: Yet to compleate\n"
   ]
  },
  {
   "cell_type": "markdown",
   "id": "26ab6a3a",
   "metadata": {},
   "source": [
    "# 1. Setup"
   ]
  },
  {
   "cell_type": "markdown",
   "id": "9125a797",
   "metadata": {},
   "source": [
    "## 1.1 Installing Dependencies'"
   ]
  },
  {
   "cell_type": "markdown",
   "id": "56d65327",
   "metadata": {},
   "source": [
    "only install this dependencies if you don't have them ***(I have already installed them in the beginning)***"
   ]
  },
  {
   "cell_type": "code",
   "execution_count": 1,
   "id": "4a46c34e",
   "metadata": {},
   "outputs": [],
   "source": [
    "# pip install tensorflow "
   ]
  },
  {
   "cell_type": "code",
   "execution_count": 2,
   "id": "80f1fede",
   "metadata": {},
   "outputs": [],
   "source": [
    "# pip install tensorflow-gpu"
   ]
  },
  {
   "cell_type": "code",
   "execution_count": 3,
   "id": "9e3ef244",
   "metadata": {},
   "outputs": [],
   "source": [
    "# pip install opencv-python"
   ]
  },
  {
   "cell_type": "code",
   "execution_count": 4,
   "id": "cb48b081",
   "metadata": {},
   "outputs": [],
   "source": [
    "# pip install matplotlib"
   ]
  },
  {
   "cell_type": "markdown",
   "id": "d6fed4b2",
   "metadata": {},
   "source": [
    "## 1.2 Import Dependencies"
   ]
  },
  {
   "cell_type": "code",
   "execution_count": 5,
   "id": "f939e144",
   "metadata": {},
   "outputs": [
    {
     "name": "stderr",
     "output_type": "stream",
     "text": [
      "2023-05-26 09:49:02.203549: I tensorflow/core/util/port.cc:110] oneDNN custom operations are on. You may see slightly different numerical results due to floating-point round-off errors from different computation orders. To turn them off, set the environment variable `TF_ENABLE_ONEDNN_OPTS=0`.\n",
      "2023-05-26 09:49:02.205020: I tensorflow/tsl/cuda/cudart_stub.cc:28] Could not find cuda drivers on your machine, GPU will not be used.\n",
      "2023-05-26 09:49:02.233988: I tensorflow/tsl/cuda/cudart_stub.cc:28] Could not find cuda drivers on your machine, GPU will not be used.\n",
      "2023-05-26 09:49:02.234521: I tensorflow/core/platform/cpu_feature_guard.cc:182] This TensorFlow binary is optimized to use available CPU instructions in performance-critical operations.\n",
      "To enable the following instructions: AVX2 AVX512F AVX512_VNNI FMA, in other operations, rebuild TensorFlow with the appropriate compiler flags.\n",
      "2023-05-26 09:49:02.745136: W tensorflow/compiler/tf2tensorrt/utils/py_utils.cc:38] TF-TRT Warning: Could not find TensorRT\n"
     ]
    }
   ],
   "source": [
    "# import standard dependencies \n",
    "import cv2\n",
    "import os\n",
    "import random #optional but i imported it just in case\n",
    "import numpy as np\n",
    "from matplotlib import pyplot as plt\n",
    "\n",
    "# importhing tensorflow dependencies \n",
    "# tensorflow functional API is lot more flexible for hard DL models like SNN\n",
    "from tensorflow.keras.models import Model\n",
    "from tensorflow.keras.layers import Layer, Conv2D, Dense, MaxPooling2D, Input, Flatten \n",
    "import tensorflow as tf"
   ]
  },
  {
   "cell_type": "markdown",
   "id": "139ad710",
   "metadata": {},
   "source": [
    "## 1.3 Set GPU Growth"
   ]
  },
  {
   "cell_type": "markdown",
   "id": "8d1361b2",
   "metadata": {},
   "source": [
    "**Using my GPU to avoid Out Of Memory (OOM) errors by setting GPU Memory Consumption Growth**"
   ]
  },
  {
   "cell_type": "code",
   "execution_count": 6,
   "id": "3caee061",
   "metadata": {},
   "outputs": [
    {
     "name": "stdout",
     "output_type": "stream",
     "text": [
      "WARNING:tensorflow:From C:\\Users\\Koushik Reddy\\AppData\\Local\\Temp\\ipykernel_2668\\138082233.py:1: is_gpu_available (from tensorflow.python.framework.test_util) is deprecated and will be removed in a future version.\n",
      "Instructions for updating:\n",
      "Use `tf.config.list_physical_devices('GPU')` instead.\n"
     ]
    },
    {
     "data": {
      "text/plain": [
       "True"
      ]
     },
     "execution_count": 6,
     "metadata": {},
     "output_type": "execute_result"
    }
   ],
   "source": [
    "tf.test.is_gpu_available() # just making sure Tensorflow is detecting my GPU if not we need to setup manually(pip install tensorflow-gpu)"
   ]
  },
  {
   "cell_type": "code",
   "execution_count": 6,
   "id": "54d986d8",
   "metadata": {},
   "outputs": [
    {
     "name": "stderr",
     "output_type": "stream",
     "text": [
      "2023-05-26 09:49:08.980592: I tensorflow/compiler/xla/stream_executor/cuda/cuda_gpu_executor.cc:996] successful NUMA node read from SysFS had negative value (-1), but there must be at least one NUMA node, so returning NUMA node zero. See more at https://github.com/torvalds/linux/blob/v6.0/Documentation/ABI/testing/sysfs-bus-pci#L344-L355\n",
      "2023-05-26 09:49:08.981369: W tensorflow/core/common_runtime/gpu/gpu_device.cc:1956] Cannot dlopen some GPU libraries. Please make sure the missing libraries mentioned above are installed properly if you would like to use GPU. Follow the guide at https://www.tensorflow.org/install/gpu for how to download and setup the required libraries for your platform.\n",
      "Skipping registering GPU devices...\n"
     ]
    }
   ],
   "source": [
    "# setting up GPU\n",
    "gpus = tf.config.experimental.list_physical_devices('GPU')\n",
    "for gpu in gpus:\n",
    "    tf.config.experimental.set_memory_growth(gpu, True)"
   ]
  },
  {
   "cell_type": "code",
   "execution_count": null,
   "id": "5c411ff3",
   "metadata": {},
   "outputs": [],
   "source": []
  },
  {
   "cell_type": "markdown",
   "id": "d7038b60",
   "metadata": {},
   "source": [
    "## 1.4 Create Folder Structures\n"
   ]
  },
  {
   "cell_type": "code",
   "execution_count": 7,
   "id": "6c5f512c",
   "metadata": {},
   "outputs": [],
   "source": [
    "POS_PATH = os.path.join('data', 'positive')\n",
    "NEG_PATH = os.path.join('data', 'negative')\n",
    "ANC_PATH = os.path.join('data', 'anchor')"
   ]
  },
  {
   "cell_type": "code",
   "execution_count": 8,
   "id": "e6dd7b78",
   "metadata": {},
   "outputs": [],
   "source": [
    "# making the directories \n",
    "os.makedirs(POS_PATH)\n",
    "os.makedirs(NEG_PATH)\n",
    "os.makedirs(ANC_PATH)"
   ]
  },
  {
   "cell_type": "markdown",
   "id": "428acd18",
   "metadata": {},
   "source": [
    "# 2 Collect Positives and Anchors "
   ]
  },
  {
   "cell_type": "markdown",
   "id": "11ee165e",
   "metadata": {},
   "source": [
    "## 2.1 Untar Labelled Faces in the Wild Dataset "
   ]
  },
  {
   "cell_type": "markdown",
   "id": "b1cb4e17",
   "metadata": {},
   "source": [
    "***This data set is downloaded from the inter net and the link for that is in the Resources and References section***"
   ]
  },
  {
   "cell_type": "code",
   "execution_count": 9,
   "id": "e1551a91",
   "metadata": {},
   "outputs": [],
   "source": [
    "# uncompressing TAR GZ Labelled faces in the Wild Dataset\n",
    "!tar -xf lfw.tgz"
   ]
  },
  {
   "cell_type": "code",
   "execution_count": 10,
   "id": "864d9fe9",
   "metadata": {},
   "outputs": [],
   "source": [
    "# moving LFW images to the following repository data/negative\n",
    "\n",
    "for directory in os.listdir('lfw'):\n",
    "    for file in os.listdir(os.path.join('lfw', directory)):\n",
    "        EX_PATH = os.path.join('lfw', directory, file)\n",
    "        NEW_PATH = os.path.join(NEG_PATH, file)\n",
    "        os.replace(EX_PATH, NEW_PATH)"
   ]
  },
  {
   "cell_type": "markdown",
   "id": "218f8a17",
   "metadata": {},
   "source": [
    "## 2.2 Collecting Positive and Anchor Samples"
   ]
  },
  {
   "cell_type": "code",
   "execution_count": 11,
   "id": "150582fd",
   "metadata": {},
   "outputs": [],
   "source": [
    "# import UUID library to generate unique image names\n",
    "import uuid"
   ]
  },
  {
   "cell_type": "code",
   "execution_count": 12,
   "id": "bfbd98c4",
   "metadata": {},
   "outputs": [
    {
     "data": {
      "text/plain": [
       "'data/anchor/7989c336-fb7c-11ed-b171-90e8685c3a0d.jpg'"
      ]
     },
     "execution_count": 12,
     "metadata": {},
     "output_type": "execute_result"
    }
   ],
   "source": [
    "os.path.join(ANC_PATH, '{}.jpg'.format(uuid.uuid1())) # checking if the UUID is working"
   ]
  },
  {
   "cell_type": "code",
   "execution_count": 13,
   "id": "8dae4012",
   "metadata": {},
   "outputs": [
    {
     "name": "stderr",
     "output_type": "stream",
     "text": [
      "QObject::moveToThread: Current thread (0x6a7a000) is not the object's thread (0x729d270).\n",
      "Cannot move to target thread (0x6a7a000)\n",
      "\n",
      "QObject::moveToThread: Current thread (0x6a7a000) is not the object's thread (0x729d270).\n",
      "Cannot move to target thread (0x6a7a000)\n",
      "\n",
      "QObject::moveToThread: Current thread (0x6a7a000) is not the object's thread (0x729d270).\n",
      "Cannot move to target thread (0x6a7a000)\n",
      "\n",
      "QObject::moveToThread: Current thread (0x6a7a000) is not the object's thread (0x729d270).\n",
      "Cannot move to target thread (0x6a7a000)\n",
      "\n",
      "QObject::moveToThread: Current thread (0x6a7a000) is not the object's thread (0x729d270).\n",
      "Cannot move to target thread (0x6a7a000)\n",
      "\n",
      "QObject::moveToThread: Current thread (0x6a7a000) is not the object's thread (0x729d270).\n",
      "Cannot move to target thread (0x6a7a000)\n",
      "\n",
      "QObject::moveToThread: Current thread (0x6a7a000) is not the object's thread (0x729d270).\n",
      "Cannot move to target thread (0x6a7a000)\n",
      "\n",
      "QObject::moveToThread: Current thread (0x6a7a000) is not the object's thread (0x729d270).\n",
      "Cannot move to target thread (0x6a7a000)\n",
      "\n",
      "QObject::moveToThread: Current thread (0x6a7a000) is not the object's thread (0x729d270).\n",
      "Cannot move to target thread (0x6a7a000)\n",
      "\n",
      "QObject::moveToThread: Current thread (0x6a7a000) is not the object's thread (0x729d270).\n",
      "Cannot move to target thread (0x6a7a000)\n",
      "\n",
      "QObject::moveToThread: Current thread (0x6a7a000) is not the object's thread (0x729d270).\n",
      "Cannot move to target thread (0x6a7a000)\n",
      "\n",
      "QObject::moveToThread: Current thread (0x6a7a000) is not the object's thread (0x729d270).\n",
      "Cannot move to target thread (0x6a7a000)\n",
      "\n",
      "QObject::moveToThread: Current thread (0x6a7a000) is not the object's thread (0x729d270).\n",
      "Cannot move to target thread (0x6a7a000)\n",
      "\n",
      "QObject::moveToThread: Current thread (0x6a7a000) is not the object's thread (0x729d270).\n",
      "Cannot move to target thread (0x6a7a000)\n",
      "\n",
      "QObject::moveToThread: Current thread (0x6a7a000) is not the object's thread (0x729d270).\n",
      "Cannot move to target thread (0x6a7a000)\n",
      "\n",
      "QObject::moveToThread: Current thread (0x6a7a000) is not the object's thread (0x729d270).\n",
      "Cannot move to target thread (0x6a7a000)\n",
      "\n",
      "QObject::moveToThread: Current thread (0x6a7a000) is not the object's thread (0x729d270).\n",
      "Cannot move to target thread (0x6a7a000)\n",
      "\n",
      "QObject::moveToThread: Current thread (0x6a7a000) is not the object's thread (0x729d270).\n",
      "Cannot move to target thread (0x6a7a000)\n",
      "\n",
      "QObject::moveToThread: Current thread (0x6a7a000) is not the object's thread (0x729d270).\n",
      "Cannot move to target thread (0x6a7a000)\n",
      "\n",
      "QObject::moveToThread: Current thread (0x6a7a000) is not the object's thread (0x729d270).\n",
      "Cannot move to target thread (0x6a7a000)\n",
      "\n",
      "QObject::moveToThread: Current thread (0x6a7a000) is not the object's thread (0x729d270).\n",
      "Cannot move to target thread (0x6a7a000)\n",
      "\n",
      "QObject::moveToThread: Current thread (0x6a7a000) is not the object's thread (0x729d270).\n",
      "Cannot move to target thread (0x6a7a000)\n",
      "\n",
      "QObject::moveToThread: Current thread (0x6a7a000) is not the object's thread (0x729d270).\n",
      "Cannot move to target thread (0x6a7a000)\n",
      "\n",
      "QObject::moveToThread: Current thread (0x6a7a000) is not the object's thread (0x729d270).\n",
      "Cannot move to target thread (0x6a7a000)\n",
      "\n",
      "QObject::moveToThread: Current thread (0x6a7a000) is not the object's thread (0x729d270).\n",
      "Cannot move to target thread (0x6a7a000)\n",
      "\n",
      "QObject::moveToThread: Current thread (0x6a7a000) is not the object's thread (0x729d270).\n",
      "Cannot move to target thread (0x6a7a000)\n",
      "\n",
      "QObject::moveToThread: Current thread (0x6a7a000) is not the object's thread (0x729d270).\n",
      "Cannot move to target thread (0x6a7a000)\n",
      "\n",
      "QObject::moveToThread: Current thread (0x6a7a000) is not the object's thread (0x729d270).\n",
      "Cannot move to target thread (0x6a7a000)\n",
      "\n",
      "QObject::moveToThread: Current thread (0x6a7a000) is not the object's thread (0x729d270).\n",
      "Cannot move to target thread (0x6a7a000)\n",
      "\n",
      "QObject::moveToThread: Current thread (0x6a7a000) is not the object's thread (0x729d270).\n",
      "Cannot move to target thread (0x6a7a000)\n",
      "\n",
      "QObject::moveToThread: Current thread (0x6a7a000) is not the object's thread (0x729d270).\n",
      "Cannot move to target thread (0x6a7a000)\n",
      "\n",
      "QObject::moveToThread: Current thread (0x6a7a000) is not the object's thread (0x729d270).\n",
      "Cannot move to target thread (0x6a7a000)\n",
      "\n",
      "QObject::moveToThread: Current thread (0x6a7a000) is not the object's thread (0x729d270).\n",
      "Cannot move to target thread (0x6a7a000)\n",
      "\n",
      "QObject::moveToThread: Current thread (0x6a7a000) is not the object's thread (0x729d270).\n",
      "Cannot move to target thread (0x6a7a000)\n",
      "\n",
      "QObject::moveToThread: Current thread (0x6a7a000) is not the object's thread (0x729d270).\n",
      "Cannot move to target thread (0x6a7a000)\n",
      "\n",
      "QObject::moveToThread: Current thread (0x6a7a000) is not the object's thread (0x729d270).\n",
      "Cannot move to target thread (0x6a7a000)\n",
      "\n",
      "QObject::moveToThread: Current thread (0x6a7a000) is not the object's thread (0x729d270).\n",
      "Cannot move to target thread (0x6a7a000)\n",
      "\n",
      "QObject::moveToThread: Current thread (0x6a7a000) is not the object's thread (0x729d270).\n",
      "Cannot move to target thread (0x6a7a000)\n",
      "\n",
      "QObject::moveToThread: Current thread (0x6a7a000) is not the object's thread (0x729d270).\n",
      "Cannot move to target thread (0x6a7a000)\n",
      "\n",
      "QObject::moveToThread: Current thread (0x6a7a000) is not the object's thread (0x729d270).\n",
      "Cannot move to target thread (0x6a7a000)\n",
      "\n",
      "QObject::moveToThread: Current thread (0x6a7a000) is not the object's thread (0x729d270).\n",
      "Cannot move to target thread (0x6a7a000)\n",
      "\n",
      "QObject::moveToThread: Current thread (0x6a7a000) is not the object's thread (0x729d270).\n",
      "Cannot move to target thread (0x6a7a000)\n",
      "\n",
      "QObject::moveToThread: Current thread (0x6a7a000) is not the object's thread (0x729d270).\n",
      "Cannot move to target thread (0x6a7a000)\n",
      "\n",
      "QObject::moveToThread: Current thread (0x6a7a000) is not the object's thread (0x729d270).\n",
      "Cannot move to target thread (0x6a7a000)\n",
      "\n",
      "QObject::moveToThread: Current thread (0x6a7a000) is not the object's thread (0x729d270).\n",
      "Cannot move to target thread (0x6a7a000)\n",
      "\n",
      "QObject::moveToThread: Current thread (0x6a7a000) is not the object's thread (0x729d270).\n",
      "Cannot move to target thread (0x6a7a000)\n",
      "\n",
      "QObject::moveToThread: Current thread (0x6a7a000) is not the object's thread (0x729d270).\n",
      "Cannot move to target thread (0x6a7a000)\n",
      "\n",
      "QObject::moveToThread: Current thread (0x6a7a000) is not the object's thread (0x729d270).\n",
      "Cannot move to target thread (0x6a7a000)\n",
      "\n",
      "QObject::moveToThread: Current thread (0x6a7a000) is not the object's thread (0x729d270).\n",
      "Cannot move to target thread (0x6a7a000)\n",
      "\n",
      "QObject::moveToThread: Current thread (0x6a7a000) is not the object's thread (0x729d270).\n",
      "Cannot move to target thread (0x6a7a000)\n",
      "\n",
      "QObject::moveToThread: Current thread (0x6a7a000) is not the object's thread (0x729d270).\n",
      "Cannot move to target thread (0x6a7a000)\n",
      "\n",
      "QObject::moveToThread: Current thread (0x6a7a000) is not the object's thread (0x729d270).\n",
      "Cannot move to target thread (0x6a7a000)\n",
      "\n",
      "QObject::moveToThread: Current thread (0x6a7a000) is not the object's thread (0x729d270).\n",
      "Cannot move to target thread (0x6a7a000)\n",
      "\n",
      "QObject::moveToThread: Current thread (0x6a7a000) is not the object's thread (0x729d270).\n",
      "Cannot move to target thread (0x6a7a000)\n",
      "\n",
      "QObject::moveToThread: Current thread (0x6a7a000) is not the object's thread (0x729d270).\n",
      "Cannot move to target thread (0x6a7a000)\n",
      "\n",
      "QObject::moveToThread: Current thread (0x6a7a000) is not the object's thread (0x729d270).\n",
      "Cannot move to target thread (0x6a7a000)\n",
      "\n",
      "QObject::moveToThread: Current thread (0x6a7a000) is not the object's thread (0x729d270).\n",
      "Cannot move to target thread (0x6a7a000)\n",
      "\n",
      "QObject::moveToThread: Current thread (0x6a7a000) is not the object's thread (0x729d270).\n",
      "Cannot move to target thread (0x6a7a000)\n",
      "\n",
      "QObject::moveToThread: Current thread (0x6a7a000) is not the object's thread (0x729d270).\n",
      "Cannot move to target thread (0x6a7a000)\n",
      "\n",
      "QObject::moveToThread: Current thread (0x6a7a000) is not the object's thread (0x729d270).\n",
      "Cannot move to target thread (0x6a7a000)\n",
      "\n",
      "QObject::moveToThread: Current thread (0x6a7a000) is not the object's thread (0x729d270).\n",
      "Cannot move to target thread (0x6a7a000)\n",
      "\n",
      "QObject::moveToThread: Current thread (0x6a7a000) is not the object's thread (0x729d270).\n",
      "Cannot move to target thread (0x6a7a000)\n",
      "\n",
      "QObject::moveToThread: Current thread (0x6a7a000) is not the object's thread (0x729d270).\n",
      "Cannot move to target thread (0x6a7a000)\n",
      "\n",
      "QObject::moveToThread: Current thread (0x6a7a000) is not the object's thread (0x729d270).\n",
      "Cannot move to target thread (0x6a7a000)\n",
      "\n",
      "QObject::moveToThread: Current thread (0x6a7a000) is not the object's thread (0x729d270).\n",
      "Cannot move to target thread (0x6a7a000)\n",
      "\n",
      "QObject::moveToThread: Current thread (0x6a7a000) is not the object's thread (0x729d270).\n",
      "Cannot move to target thread (0x6a7a000)\n",
      "\n",
      "QObject::moveToThread: Current thread (0x6a7a000) is not the object's thread (0x729d270).\n",
      "Cannot move to target thread (0x6a7a000)\n",
      "\n",
      "QObject::moveToThread: Current thread (0x6a7a000) is not the object's thread (0x729d270).\n",
      "Cannot move to target thread (0x6a7a000)\n",
      "\n",
      "QObject::moveToThread: Current thread (0x6a7a000) is not the object's thread (0x729d270).\n",
      "Cannot move to target thread (0x6a7a000)\n",
      "\n",
      "QObject::moveToThread: Current thread (0x6a7a000) is not the object's thread (0x729d270).\n",
      "Cannot move to target thread (0x6a7a000)\n",
      "\n",
      "QObject::moveToThread: Current thread (0x6a7a000) is not the object's thread (0x729d270).\n",
      "Cannot move to target thread (0x6a7a000)\n",
      "\n",
      "QObject::moveToThread: Current thread (0x6a7a000) is not the object's thread (0x729d270).\n",
      "Cannot move to target thread (0x6a7a000)\n",
      "\n",
      "QObject::moveToThread: Current thread (0x6a7a000) is not the object's thread (0x729d270).\n",
      "Cannot move to target thread (0x6a7a000)\n",
      "\n",
      "QObject::moveToThread: Current thread (0x6a7a000) is not the object's thread (0x729d270).\n",
      "Cannot move to target thread (0x6a7a000)\n",
      "\n",
      "QObject::moveToThread: Current thread (0x6a7a000) is not the object's thread (0x729d270).\n",
      "Cannot move to target thread (0x6a7a000)\n",
      "\n",
      "QObject::moveToThread: Current thread (0x6a7a000) is not the object's thread (0x729d270).\n",
      "Cannot move to target thread (0x6a7a000)\n",
      "\n",
      "QObject::moveToThread: Current thread (0x6a7a000) is not the object's thread (0x729d270).\n",
      "Cannot move to target thread (0x6a7a000)\n",
      "\n",
      "QObject::moveToThread: Current thread (0x6a7a000) is not the object's thread (0x729d270).\n",
      "Cannot move to target thread (0x6a7a000)\n",
      "\n",
      "QObject::moveToThread: Current thread (0x6a7a000) is not the object's thread (0x729d270).\n",
      "Cannot move to target thread (0x6a7a000)\n",
      "\n",
      "QObject::moveToThread: Current thread (0x6a7a000) is not the object's thread (0x729d270).\n",
      "Cannot move to target thread (0x6a7a000)\n",
      "\n",
      "QObject::moveToThread: Current thread (0x6a7a000) is not the object's thread (0x729d270).\n",
      "Cannot move to target thread (0x6a7a000)\n",
      "\n",
      "QObject::moveToThread: Current thread (0x6a7a000) is not the object's thread (0x729d270).\n",
      "Cannot move to target thread (0x6a7a000)\n",
      "\n",
      "QObject::moveToThread: Current thread (0x6a7a000) is not the object's thread (0x729d270).\n",
      "Cannot move to target thread (0x6a7a000)\n",
      "\n",
      "QObject::moveToThread: Current thread (0x6a7a000) is not the object's thread (0x729d270).\n",
      "Cannot move to target thread (0x6a7a000)\n",
      "\n",
      "QObject::moveToThread: Current thread (0x6a7a000) is not the object's thread (0x729d270).\n",
      "Cannot move to target thread (0x6a7a000)\n",
      "\n",
      "QObject::moveToThread: Current thread (0x6a7a000) is not the object's thread (0x729d270).\n",
      "Cannot move to target thread (0x6a7a000)\n",
      "\n",
      "QObject::moveToThread: Current thread (0x6a7a000) is not the object's thread (0x729d270).\n",
      "Cannot move to target thread (0x6a7a000)\n",
      "\n",
      "QObject::moveToThread: Current thread (0x6a7a000) is not the object's thread (0x729d270).\n",
      "Cannot move to target thread (0x6a7a000)\n",
      "\n",
      "QObject::moveToThread: Current thread (0x6a7a000) is not the object's thread (0x729d270).\n",
      "Cannot move to target thread (0x6a7a000)\n",
      "\n",
      "QObject::moveToThread: Current thread (0x6a7a000) is not the object's thread (0x729d270).\n",
      "Cannot move to target thread (0x6a7a000)\n",
      "\n",
      "QObject::moveToThread: Current thread (0x6a7a000) is not the object's thread (0x729d270).\n",
      "Cannot move to target thread (0x6a7a000)\n",
      "\n",
      "QObject::moveToThread: Current thread (0x6a7a000) is not the object's thread (0x729d270).\n",
      "Cannot move to target thread (0x6a7a000)\n",
      "\n",
      "QObject::moveToThread: Current thread (0x6a7a000) is not the object's thread (0x729d270).\n",
      "Cannot move to target thread (0x6a7a000)\n",
      "\n",
      "QObject::moveToThread: Current thread (0x6a7a000) is not the object's thread (0x729d270).\n",
      "Cannot move to target thread (0x6a7a000)\n",
      "\n",
      "QObject::moveToThread: Current thread (0x6a7a000) is not the object's thread (0x729d270).\n",
      "Cannot move to target thread (0x6a7a000)\n",
      "\n",
      "QObject::moveToThread: Current thread (0x6a7a000) is not the object's thread (0x729d270).\n",
      "Cannot move to target thread (0x6a7a000)\n",
      "\n",
      "QObject::moveToThread: Current thread (0x6a7a000) is not the object's thread (0x729d270).\n",
      "Cannot move to target thread (0x6a7a000)\n",
      "\n",
      "QObject::moveToThread: Current thread (0x6a7a000) is not the object's thread (0x729d270).\n",
      "Cannot move to target thread (0x6a7a000)\n",
      "\n",
      "QObject::moveToThread: Current thread (0x6a7a000) is not the object's thread (0x729d270).\n",
      "Cannot move to target thread (0x6a7a000)\n",
      "\n",
      "QObject::moveToThread: Current thread (0x6a7a000) is not the object's thread (0x729d270).\n",
      "Cannot move to target thread (0x6a7a000)\n",
      "\n",
      "QObject::moveToThread: Current thread (0x6a7a000) is not the object's thread (0x729d270).\n",
      "Cannot move to target thread (0x6a7a000)\n",
      "\n",
      "QObject::moveToThread: Current thread (0x6a7a000) is not the object's thread (0x729d270).\n",
      "Cannot move to target thread (0x6a7a000)\n",
      "\n",
      "QObject::moveToThread: Current thread (0x6a7a000) is not the object's thread (0x729d270).\n",
      "Cannot move to target thread (0x6a7a000)\n",
      "\n",
      "QObject::moveToThread: Current thread (0x6a7a000) is not the object's thread (0x729d270).\n",
      "Cannot move to target thread (0x6a7a000)\n",
      "\n",
      "QObject::moveToThread: Current thread (0x6a7a000) is not the object's thread (0x729d270).\n",
      "Cannot move to target thread (0x6a7a000)\n",
      "\n",
      "QObject::moveToThread: Current thread (0x6a7a000) is not the object's thread (0x729d270).\n",
      "Cannot move to target thread (0x6a7a000)\n",
      "\n",
      "QObject::moveToThread: Current thread (0x6a7a000) is not the object's thread (0x729d270).\n",
      "Cannot move to target thread (0x6a7a000)\n",
      "\n",
      "QObject::moveToThread: Current thread (0x6a7a000) is not the object's thread (0x729d270).\n",
      "Cannot move to target thread (0x6a7a000)\n",
      "\n",
      "QObject::moveToThread: Current thread (0x6a7a000) is not the object's thread (0x729d270).\n",
      "Cannot move to target thread (0x6a7a000)\n",
      "\n",
      "QObject::moveToThread: Current thread (0x6a7a000) is not the object's thread (0x729d270).\n",
      "Cannot move to target thread (0x6a7a000)\n",
      "\n",
      "QObject::moveToThread: Current thread (0x6a7a000) is not the object's thread (0x729d270).\n",
      "Cannot move to target thread (0x6a7a000)\n",
      "\n",
      "QObject::moveToThread: Current thread (0x6a7a000) is not the object's thread (0x729d270).\n",
      "Cannot move to target thread (0x6a7a000)\n",
      "\n",
      "QObject::moveToThread: Current thread (0x6a7a000) is not the object's thread (0x729d270).\n",
      "Cannot move to target thread (0x6a7a000)\n",
      "\n",
      "QObject::moveToThread: Current thread (0x6a7a000) is not the object's thread (0x729d270).\n",
      "Cannot move to target thread (0x6a7a000)\n",
      "\n",
      "QObject::moveToThread: Current thread (0x6a7a000) is not the object's thread (0x729d270).\n",
      "Cannot move to target thread (0x6a7a000)\n",
      "\n",
      "QObject::moveToThread: Current thread (0x6a7a000) is not the object's thread (0x729d270).\n",
      "Cannot move to target thread (0x6a7a000)\n",
      "\n",
      "QObject::moveToThread: Current thread (0x6a7a000) is not the object's thread (0x729d270).\n",
      "Cannot move to target thread (0x6a7a000)\n",
      "\n",
      "QObject::moveToThread: Current thread (0x6a7a000) is not the object's thread (0x729d270).\n",
      "Cannot move to target thread (0x6a7a000)\n",
      "\n",
      "QObject::moveToThread: Current thread (0x6a7a000) is not the object's thread (0x729d270).\n",
      "Cannot move to target thread (0x6a7a000)\n",
      "\n",
      "QObject::moveToThread: Current thread (0x6a7a000) is not the object's thread (0x729d270).\n",
      "Cannot move to target thread (0x6a7a000)\n",
      "\n",
      "QObject::moveToThread: Current thread (0x6a7a000) is not the object's thread (0x729d270).\n",
      "Cannot move to target thread (0x6a7a000)\n",
      "\n",
      "QObject::moveToThread: Current thread (0x6a7a000) is not the object's thread (0x729d270).\n",
      "Cannot move to target thread (0x6a7a000)\n",
      "\n",
      "QObject::moveToThread: Current thread (0x6a7a000) is not the object's thread (0x729d270).\n",
      "Cannot move to target thread (0x6a7a000)\n",
      "\n",
      "QObject::moveToThread: Current thread (0x6a7a000) is not the object's thread (0x729d270).\n",
      "Cannot move to target thread (0x6a7a000)\n",
      "\n",
      "QObject::moveToThread: Current thread (0x6a7a000) is not the object's thread (0x729d270).\n",
      "Cannot move to target thread (0x6a7a000)\n",
      "\n",
      "QObject::moveToThread: Current thread (0x6a7a000) is not the object's thread (0x729d270).\n",
      "Cannot move to target thread (0x6a7a000)\n",
      "\n",
      "QObject::moveToThread: Current thread (0x6a7a000) is not the object's thread (0x729d270).\n",
      "Cannot move to target thread (0x6a7a000)\n",
      "\n",
      "QObject::moveToThread: Current thread (0x6a7a000) is not the object's thread (0x729d270).\n",
      "Cannot move to target thread (0x6a7a000)\n",
      "\n",
      "QObject::moveToThread: Current thread (0x6a7a000) is not the object's thread (0x729d270).\n",
      "Cannot move to target thread (0x6a7a000)\n",
      "\n",
      "QObject::moveToThread: Current thread (0x6a7a000) is not the object's thread (0x729d270).\n",
      "Cannot move to target thread (0x6a7a000)\n",
      "\n",
      "QObject::moveToThread: Current thread (0x6a7a000) is not the object's thread (0x729d270).\n",
      "Cannot move to target thread (0x6a7a000)\n",
      "\n",
      "QObject::moveToThread: Current thread (0x6a7a000) is not the object's thread (0x729d270).\n",
      "Cannot move to target thread (0x6a7a000)\n",
      "\n",
      "QObject::moveToThread: Current thread (0x6a7a000) is not the object's thread (0x729d270).\n",
      "Cannot move to target thread (0x6a7a000)\n",
      "\n",
      "QObject::moveToThread: Current thread (0x6a7a000) is not the object's thread (0x729d270).\n",
      "Cannot move to target thread (0x6a7a000)\n",
      "\n",
      "QObject::moveToThread: Current thread (0x6a7a000) is not the object's thread (0x729d270).\n",
      "Cannot move to target thread (0x6a7a000)\n",
      "\n",
      "QObject::moveToThread: Current thread (0x6a7a000) is not the object's thread (0x729d270).\n",
      "Cannot move to target thread (0x6a7a000)\n",
      "\n",
      "QObject::moveToThread: Current thread (0x6a7a000) is not the object's thread (0x729d270).\n",
      "Cannot move to target thread (0x6a7a000)\n",
      "\n",
      "QObject::moveToThread: Current thread (0x6a7a000) is not the object's thread (0x729d270).\n",
      "Cannot move to target thread (0x6a7a000)\n",
      "\n",
      "QObject::moveToThread: Current thread (0x6a7a000) is not the object's thread (0x729d270).\n",
      "Cannot move to target thread (0x6a7a000)\n",
      "\n",
      "QObject::moveToThread: Current thread (0x6a7a000) is not the object's thread (0x729d270).\n",
      "Cannot move to target thread (0x6a7a000)\n",
      "\n",
      "QObject::moveToThread: Current thread (0x6a7a000) is not the object's thread (0x729d270).\n",
      "Cannot move to target thread (0x6a7a000)\n",
      "\n",
      "QObject::moveToThread: Current thread (0x6a7a000) is not the object's thread (0x729d270).\n",
      "Cannot move to target thread (0x6a7a000)\n",
      "\n",
      "QObject::moveToThread: Current thread (0x6a7a000) is not the object's thread (0x729d270).\n",
      "Cannot move to target thread (0x6a7a000)\n",
      "\n"
     ]
    }
   ],
   "source": [
    "# establishing a connection to the webcam\n",
    "cap = cv2.VideoCapture(0) # i'm using inbuilt webcam (laptop cam) so it's '0'\n",
    "while cap.isOpened():\n",
    "    ret, frame = cap.read()\n",
    "    \n",
    "    #cutting down the frame to 250x250 pixels\n",
    "    frame = frame[120:120+250, 200:200+250, :]\n",
    "    \n",
    "    # collectin anchors \n",
    "    if cv2.waitKey(1) & 0XFF == ord('a'): # if we click 'a' it will collect a anchor\n",
    "        imgname = os.path.join(ANC_PATH, '{}.jpg'.format(uuid.uuid1()))\n",
    "        cv2.imwrite(imgname, frame) # write out anchor image\n",
    "    \n",
    "    # collection positives\n",
    "    if cv2.waitKey(1) & 0XFF == ord('p'): # if we click 'p' it will collect a positive\n",
    "        imgname = os.path.join(POS_PATH, '{}.jpg'.format(uuid.uuid1()))\n",
    "        cv2.imwrite(imgname, frame) # write out positive image\n",
    "    \n",
    "    # showing image back to screen\n",
    "    cv2.imshow('capturing image', frame)\n",
    "    \n",
    "    # beaking greacefully (if we click 'q' the it should close the webcam window)\n",
    "    if cv2.waitKey(1) & 0XFF == ord('q'):\n",
    "        break\n",
    "\n",
    "        \n",
    "# release the webcam (if something went wrong we can reset)\n",
    "cap.release()\n",
    "\n",
    "# close the image show window/frame\n",
    "cv2.destroyAllWindows()"
   ]
  },
  {
   "cell_type": "code",
   "execution_count": 14,
   "id": "c23ef16f",
   "metadata": {},
   "outputs": [
    {
     "data": {
      "text/plain": [
       "<matplotlib.image.AxesImage at 0x7ff82393f190>"
      ]
     },
     "execution_count": 14,
     "metadata": {},
     "output_type": "execute_result"
    },
    {
     "data": {
      "image/png": "[encoded data removed]",
      "text/plain": [
       "<Figure size 640x480 with 1 Axes>"
      ]
     },
     "metadata": {},
     "output_type": "display_data"
    }
   ],
   "source": [
    "plt.imshow(frame)"
   ]
  },
  {
   "cell_type": "markdown",
   "id": "583b46c0",
   "metadata": {},
   "source": [
    "## 2.3 Data Augmentation"
   ]
  },
  {
   "cell_type": "code",
   "execution_count": 15,
   "id": "0160954e",
   "metadata": {},
   "outputs": [],
   "source": [
    "def data_aug(img):\n",
    "    img = tf.cast(img, tf.float32)\n",
    "    data = []\n",
    "    for i in range(9):\n",
    "        img = tf.image.stateless_random_brightness(img, max_delta=0.02, seed=(1,2))\n",
    "        img = tf.image.stateless_random_contrast(img, lower=0.6, upper=1, seed=(1,3))\n",
    "        #img = tf.image.stateless_random_crop(img, size=(20,20,3), seed=(1,2))\n",
    "        img = tf.image.stateless_random_flip_left_right(img, seed=(1,3))\n",
    "        img = tf.image.stateless_random_flip_up_down(img, seed=(1,2))\n",
    "        data.append(img)\n",
    "    return data\n",
    "\n"
   ]
  },
  {
   "cell_type": "code",
   "execution_count": 16,
   "id": "47025b5e",
   "metadata": {},
   "outputs": [],
   "source": [
    "import os\n",
    "import uuid"
   ]
  },
  {
   "cell_type": "code",
   "execution_count": 17,
   "id": "5a844818",
   "metadata": {},
   "outputs": [],
   "source": [
    "img_path = os.path.join(ANC_PATH, 'b0a1ad92-fb7d-11ed-b171-90e8685c3a0d.jpg')\n",
    "img = cv2.imread(img_path)\n",
    "if img is not None:\n",
    "    augmented_images = data_aug(img)\n",
    "    for image in augmented_images:\n",
    "        cv2.imwrite(os.path.join(ANC_PATH, '{}.jpg'.format(uuid.uuid1())), image.numpy())\n",
    "else:\n",
    "    print('Failed to read image')\n"
   ]
  },
  {
   "cell_type": "code",
   "execution_count": 18,
   "id": "b9a7c0fb",
   "metadata": {},
   "outputs": [],
   "source": [
    "for file_name in os.listdir(os.path.join(POS_PATH)):\n",
    "    img_path = os.path.join(POS_PATH, file_name)\n",
    "    img = cv2.imread(img_path)\n",
    "    augmented_images = data_aug(img) \n",
    "    \n",
    "    for image in augmented_images:\n",
    "        cv2.imwrite(os.path.join(POS_PATH, '{}.jpg'.format(uuid.uuid1())), image.numpy())"
   ]
  },
  {
   "cell_type": "code",
   "execution_count": null,
   "id": "86b0c67c",
   "metadata": {},
   "outputs": [],
   "source": []
  },
  {
   "cell_type": "markdown",
   "id": "2665d720",
   "metadata": {},
   "source": [
    "# 3. Images Loading and Preprocess"
   ]
  },
  {
   "cell_type": "code",
   "execution_count": null,
   "id": "8d5b83e9",
   "metadata": {},
   "outputs": [],
   "source": []
  },
  {
   "cell_type": "markdown",
   "id": "df788f5b",
   "metadata": {},
   "source": [
    "## 3.1 Get Image Directories"
   ]
  },
  {
   "cell_type": "code",
   "execution_count": 20,
   "id": "87275fcd",
   "metadata": {},
   "outputs": [],
   "source": [
    "anchor = tf.data.Dataset.list_files(ANC_PATH+'/*.jpg').take(300)\n",
    "positive = tf.data.Dataset.list_files(POS_PATH+'/*.jpg').take(300)\n",
    "negative = tf.data.Dataset.list_files(NEG_PATH+'/*.jpg').take(300)"
   ]
  },
  {
   "cell_type": "code",
   "execution_count": 21,
   "id": "ce8b6c54",
   "metadata": {},
   "outputs": [
    {
     "data": {
      "text/plain": [
       "'data/anchor\\\\*.jpg'"
      ]
     },
     "execution_count": 21,
     "metadata": {},
     "output_type": "execute_result"
    }
   ],
   "source": [
    "ANC_PATH+'\\*.jpg' # testing"
   ]
  },
  {
   "cell_type": "code",
   "execution_count": 22,
   "id": "0e78fc8f",
   "metadata": {},
   "outputs": [
    {
     "name": "stderr",
     "output_type": "stream",
     "text": [
      "2023-05-26 09:59:31.228096: I tensorflow/core/common_runtime/executor.cc:1197] [/device:CPU:0] (DEBUG INFO) Executor start aborting (this does not indicate an error and you can ignore this message): INVALID_ARGUMENT: You must feed a value for placeholder tensor 'Placeholder/_0' with dtype string and shape [311]\n",
      "\t [[{{node Placeholder/_0}}]]\n",
      "2023-05-26 09:59:31.228300: I tensorflow/core/common_runtime/executor.cc:1197] [/device:CPU:0] (DEBUG INFO) Executor start aborting (this does not indicate an error and you can ignore this message): INVALID_ARGUMENT: You must feed a value for placeholder tensor 'Placeholder/_0' with dtype string and shape [311]\n",
      "\t [[{{node Placeholder/_0}}]]\n"
     ]
    }
   ],
   "source": [
    "dir_test = anchor.as_numpy_iterator()  "
   ]
  },
  {
   "cell_type": "code",
   "execution_count": 23,
   "id": "35df7479",
   "metadata": {},
   "outputs": [],
   "source": [
    "abc = dir_test.next() # grabing a different image everytime we run"
   ]
  },
  {
   "cell_type": "code",
   "execution_count": 24,
   "id": "66e81e22",
   "metadata": {},
   "outputs": [
    {
     "data": {
      "text/plain": [
       "b'data/anchor/b52815cc-fb7d-11ed-b171-90e8685c3a0d.jpg'"
      ]
     },
     "execution_count": 24,
     "metadata": {},
     "output_type": "execute_result"
    }
   ],
   "source": [
    "abc"
   ]
  },
  {
   "cell_type": "markdown",
   "id": "9dcfdbdb",
   "metadata": {},
   "source": [
    "## 3.2 Preprocessing- Scale and Resize"
   ]
  },
  {
   "cell_type": "code",
   "execution_count": 25,
   "id": "a92a780a",
   "metadata": {},
   "outputs": [],
   "source": [
    "def preprocess (file_path):\n",
    "    byte_img = tf.io.read_file(file_path)  # reading the image\n",
    "    img = tf.io.decode_jpeg(byte_img)      # loading the image\n",
    "    img = tf.image.resize(img, (105,105))  # resizing the image to 105x105x3 same as in the research paper\n",
    "    img = img / 255.0                      # scaling image to be b/w 0 and 1\n",
    "    return img"
   ]
  },
  {
   "cell_type": "code",
   "execution_count": 26,
   "id": "ec7a1278",
   "metadata": {},
   "outputs": [],
   "source": [
    "img = preprocess(abc)"
   ]
  },
  {
   "cell_type": "code",
   "execution_count": 27,
   "id": "a3c977a0",
   "metadata": {},
   "outputs": [
    {
     "data": {
      "text/plain": [
       "<matplotlib.image.AxesImage at 0x7ff7e4115030>"
      ]
     },
     "execution_count": 27,
     "metadata": {},
     "output_type": "execute_result"
    },
    {
     "data": {
      "image/png": "[encoded data removed]",
      "text/plain": [
       "<Figure size 640x480 with 1 Axes>"
      ]
     },
     "metadata": {},
     "output_type": "display_data"
    }
   ],
   "source": [
    "plt.imshow(img)"
   ]
  },
  {
   "cell_type": "code",
   "execution_count": 28,
   "id": "5e4257d1",
   "metadata": {},
   "outputs": [
    {
     "data": {
      "text/plain": [
       "0.11376774"
      ]
     },
     "execution_count": 28,
     "metadata": {},
     "output_type": "execute_result"
    }
   ],
   "source": [
    "img.numpy().min()"
   ]
  },
  {
   "cell_type": "code",
   "execution_count": 29,
   "id": "83b42ec8",
   "metadata": {},
   "outputs": [
    {
     "data": {
      "text/plain": [
       "1.0"
      ]
     },
     "execution_count": 29,
     "metadata": {},
     "output_type": "execute_result"
    }
   ],
   "source": [
    "img.numpy().max() # make sure it's not passing '1'"
   ]
  },
  {
   "cell_type": "markdown",
   "id": "e8203f2a",
   "metadata": {},
   "source": [
    "## 3.3 Create Labelled Dataset"
   ]
  },
  {
   "cell_type": "code",
   "execution_count": 30,
   "id": "82276a82",
   "metadata": {},
   "outputs": [],
   "source": [
    "# (anchor, positive) => 1,1,1,1,1\n",
    "# (anchor, negative)=> 0,0,0,0,0"
   ]
  },
  {
   "cell_type": "code",
   "execution_count": 31,
   "id": "ece0c4c0",
   "metadata": {},
   "outputs": [
    {
     "data": {
      "text/plain": [
       "<tf.Tensor: shape=(300,), dtype=float32, numpy=\n",
       "array([1., 1., 1., 1., 1., 1., 1., 1., 1., 1., 1., 1., 1., 1., 1., 1., 1.,\n",
       "       1., 1., 1., 1., 1., 1., 1., 1., 1., 1., 1., 1., 1., 1., 1., 1., 1.,\n",
       "       1., 1., 1., 1., 1., 1., 1., 1., 1., 1., 1., 1., 1., 1., 1., 1., 1.,\n",
       "       1., 1., 1., 1., 1., 1., 1., 1., 1., 1., 1., 1., 1., 1., 1., 1., 1.,\n",
       "       1., 1., 1., 1., 1., 1., 1., 1., 1., 1., 1., 1., 1., 1., 1., 1., 1.,\n",
       "       1., 1., 1., 1., 1., 1., 1., 1., 1., 1., 1., 1., 1., 1., 1., 1., 1.,\n",
       "       1., 1., 1., 1., 1., 1., 1., 1., 1., 1., 1., 1., 1., 1., 1., 1., 1.,\n",
       "       1., 1., 1., 1., 1., 1., 1., 1., 1., 1., 1., 1., 1., 1., 1., 1., 1.,\n",
       "       1., 1., 1., 1., 1., 1., 1., 1., 1., 1., 1., 1., 1., 1., 1., 1., 1.,\n",
       "       1., 1., 1., 1., 1., 1., 1., 1., 1., 1., 1., 1., 1., 1., 1., 1., 1.,\n",
       "       1., 1., 1., 1., 1., 1., 1., 1., 1., 1., 1., 1., 1., 1., 1., 1., 1.,\n",
       "       1., 1., 1., 1., 1., 1., 1., 1., 1., 1., 1., 1., 1., 1., 1., 1., 1.,\n",
       "       1., 1., 1., 1., 1., 1., 1., 1., 1., 1., 1., 1., 1., 1., 1., 1., 1.,\n",
       "       1., 1., 1., 1., 1., 1., 1., 1., 1., 1., 1., 1., 1., 1., 1., 1., 1.,\n",
       "       1., 1., 1., 1., 1., 1., 1., 1., 1., 1., 1., 1., 1., 1., 1., 1., 1.,\n",
       "       1., 1., 1., 1., 1., 1., 1., 1., 1., 1., 1., 1., 1., 1., 1., 1., 1.,\n",
       "       1., 1., 1., 1., 1., 1., 1., 1., 1., 1., 1., 1., 1., 1., 1., 1., 1.,\n",
       "       1., 1., 1., 1., 1., 1., 1., 1., 1., 1., 1.], dtype=float32)>"
      ]
     },
     "execution_count": 31,
     "metadata": {},
     "output_type": "execute_result"
    }
   ],
   "source": [
    "tf.ones(len(anchor)) # effectively creating labelled positives"
   ]
  },
  {
   "cell_type": "code",
   "execution_count": 32,
   "id": "df479cc1",
   "metadata": {},
   "outputs": [
    {
     "data": {
      "text/plain": [
       "<tf.Tensor: shape=(300,), dtype=float32, numpy=\n",
       "array([0., 0., 0., 0., 0., 0., 0., 0., 0., 0., 0., 0., 0., 0., 0., 0., 0.,\n",
       "       0., 0., 0., 0., 0., 0., 0., 0., 0., 0., 0., 0., 0., 0., 0., 0., 0.,\n",
       "       0., 0., 0., 0., 0., 0., 0., 0., 0., 0., 0., 0., 0., 0., 0., 0., 0.,\n",
       "       0., 0., 0., 0., 0., 0., 0., 0., 0., 0., 0., 0., 0., 0., 0., 0., 0.,\n",
       "       0., 0., 0., 0., 0., 0., 0., 0., 0., 0., 0., 0., 0., 0., 0., 0., 0.,\n",
       "       0., 0., 0., 0., 0., 0., 0., 0., 0., 0., 0., 0., 0., 0., 0., 0., 0.,\n",
       "       0., 0., 0., 0., 0., 0., 0., 0., 0., 0., 0., 0., 0., 0., 0., 0., 0.,\n",
       "       0., 0., 0., 0., 0., 0., 0., 0., 0., 0., 0., 0., 0., 0., 0., 0., 0.,\n",
       "       0., 0., 0., 0., 0., 0., 0., 0., 0., 0., 0., 0., 0., 0., 0., 0., 0.,\n",
       "       0., 0., 0., 0., 0., 0., 0., 0., 0., 0., 0., 0., 0., 0., 0., 0., 0.,\n",
       "       0., 0., 0., 0., 0., 0., 0., 0., 0., 0., 0., 0., 0., 0., 0., 0., 0.,\n",
       "       0., 0., 0., 0., 0., 0., 0., 0., 0., 0., 0., 0., 0., 0., 0., 0., 0.,\n",
       "       0., 0., 0., 0., 0., 0., 0., 0., 0., 0., 0., 0., 0., 0., 0., 0., 0.,\n",
       "       0., 0., 0., 0., 0., 0., 0., 0., 0., 0., 0., 0., 0., 0., 0., 0., 0.,\n",
       "       0., 0., 0., 0., 0., 0., 0., 0., 0., 0., 0., 0., 0., 0., 0., 0., 0.,\n",
       "       0., 0., 0., 0., 0., 0., 0., 0., 0., 0., 0., 0., 0., 0., 0., 0., 0.,\n",
       "       0., 0., 0., 0., 0., 0., 0., 0., 0., 0., 0., 0., 0., 0., 0., 0., 0.,\n",
       "       0., 0., 0., 0., 0., 0., 0., 0., 0., 0., 0.], dtype=float32)>"
      ]
     },
     "execution_count": 32,
     "metadata": {},
     "output_type": "execute_result"
    }
   ],
   "source": [
    "tf.zeros(len(anchor)) # effectively creating labelled negatives"
   ]
  },
  {
   "cell_type": "code",
   "execution_count": 33,
   "id": "ae8579fb",
   "metadata": {},
   "outputs": [],
   "source": [
    "# </ checking with an example\n",
    "class_labels = tf.data.Dataset.from_tensor_slices(tf.zeros(len(anchor)))"
   ]
  },
  {
   "cell_type": "code",
   "execution_count": 34,
   "id": "68247551",
   "metadata": {},
   "outputs": [
    {
     "name": "stderr",
     "output_type": "stream",
     "text": [
      "2023-05-26 09:59:35.028360: I tensorflow/core/common_runtime/executor.cc:1197] [/device:CPU:0] (DEBUG INFO) Executor start aborting (this does not indicate an error and you can ignore this message): INVALID_ARGUMENT: You must feed a value for placeholder tensor 'Placeholder/_0' with dtype float and shape [300]\n",
      "\t [[{{node Placeholder/_0}}]]\n"
     ]
    }
   ],
   "source": [
    "iterator_labs = class_labels.as_numpy_iterator()"
   ]
  },
  {
   "cell_type": "code",
   "execution_count": 35,
   "id": "a4a9ded2",
   "metadata": {},
   "outputs": [
    {
     "data": {
      "text/plain": [
       "0.0"
      ]
     },
     "execution_count": 35,
     "metadata": {},
     "output_type": "execute_result"
    }
   ],
   "source": [
    "iterator_labs.next() # effectively looping through each lable in the class/>"
   ]
  },
  {
   "cell_type": "code",
   "execution_count": 36,
   "id": "7c7a425b",
   "metadata": {},
   "outputs": [],
   "source": [
    "# creating 2 different datasets for positives and negatives\n",
    "positives = tf.data.Dataset.zip((anchor, positive, tf.data.Dataset.from_tensor_slices(tf.ones(len(anchor)))))\n",
    "negatives = tf.data.Dataset.zip((anchor, negative, tf.data.Dataset.from_tensor_slices(tf.zeros(len(anchor)))))\n",
    "data = positives.concatenate(negatives)"
   ]
  },
  {
   "cell_type": "code",
   "execution_count": 37,
   "id": "a0287bbc",
   "metadata": {},
   "outputs": [
    {
     "name": "stderr",
     "output_type": "stream",
     "text": [
      "2023-05-26 09:59:35.580282: I tensorflow/core/common_runtime/executor.cc:1197] [/device:CPU:0] (DEBUG INFO) Executor start aborting (this does not indicate an error and you can ignore this message): INVALID_ARGUMENT: You must feed a value for placeholder tensor 'Placeholder/_30' with dtype string and shape [13233]\n",
      "\t [[{{node Placeholder/_30}}]]\n",
      "2023-05-26 09:59:35.580870: I tensorflow/core/common_runtime/executor.cc:1197] [/device:CPU:0] (DEBUG INFO) Executor start aborting (this does not indicate an error and you can ignore this message): INVALID_ARGUMENT: You must feed a value for placeholder tensor 'Placeholder/_39' with dtype float and shape [300]\n",
      "\t [[{{node Placeholder/_39}}]]\n"
     ]
    }
   ],
   "source": [
    "sample = data.as_numpy_iterator()"
   ]
  },
  {
   "cell_type": "code",
   "execution_count": 38,
   "id": "689d6b07",
   "metadata": {},
   "outputs": [],
   "source": [
    "example = sample.next() # as of now it is not shuffled, we have to compleate all positive iterators to reach negatives"
   ]
  },
  {
   "cell_type": "code",
   "execution_count": 39,
   "id": "c116de1d",
   "metadata": {},
   "outputs": [
    {
     "data": {
      "text/plain": [
       "(b'data/anchor/bb819948-fb7d-11ed-b171-90e8685c3a0d.jpg',\n",
       " b'data/positive/de4a0406-fb7d-11ed-b171-90e8685c3a0d.jpg',\n",
       " 1.0)"
      ]
     },
     "execution_count": 39,
     "metadata": {},
     "output_type": "execute_result"
    }
   ],
   "source": [
    "example"
   ]
  },
  {
   "cell_type": "markdown",
   "id": "ca63fcce",
   "metadata": {},
   "source": [
    "## 3.4 Train and Test Partitions "
   ]
  },
  {
   "cell_type": "code",
   "execution_count": 40,
   "id": "2678cb0c",
   "metadata": {},
   "outputs": [],
   "source": [
    "def preprocess_twin(input_img, validation_img, label):\n",
    "    return(preprocess(input_img), preprocess(validation_img), label)"
   ]
  },
  {
   "cell_type": "code",
   "execution_count": 41,
   "id": "1cd10523",
   "metadata": {},
   "outputs": [],
   "source": [
    "result = preprocess_twin(*example) # '*' is to unpack the values of 'example'"
   ]
  },
  {
   "cell_type": "code",
   "execution_count": 42,
   "id": "b605defa",
   "metadata": {},
   "outputs": [
    {
     "data": {
      "text/plain": [
       "(<tf.Tensor: shape=(105, 105, 3), dtype=float32, numpy=\n",
       " array([[[0.5822618 , 0.59010494, 0.58618337],\n",
       "         [0.5753435 , 0.5915899 , 0.5873883 ],\n",
       "         [0.5779534 , 0.6014828 , 0.5936397 ],\n",
       "         ...,\n",
       "         [0.5222222 , 0.5538749 , 0.543324  ],\n",
       "         [0.5082833 , 0.5433173 , 0.53163934],\n",
       "         [0.51101774, 0.55172735, 0.5372549 ]],\n",
       " \n",
       "        [[0.58646125, 0.5951447 , 0.5903828 ],\n",
       "         [0.5803922 , 0.59689873, 0.59187675],\n",
       "         [0.5768774 , 0.6004068 , 0.5887089 ],\n",
       "         ...,\n",
       "         [0.51994795, 0.56607306, 0.5410497 ],\n",
       "         [0.51064426, 0.5610644 , 0.5338935 ],\n",
       "         [0.5140056 , 0.56442577, 0.5372549 ]],\n",
       " \n",
       "        [[0.57701975, 0.5966276 , 0.5809413 ],\n",
       "         [0.5787448 , 0.6002801 , 0.58459383],\n",
       "         [0.58431375, 0.60784316, 0.5921569 ],\n",
       "         ...,\n",
       "         [0.53058785, 0.5560602 , 0.5394024 ],\n",
       "         [0.5292584 , 0.55160064, 0.535761  ],\n",
       "         [0.5311858 , 0.5529412 , 0.5372549 ]],\n",
       " \n",
       "        ...,\n",
       " \n",
       "        [[0.62530345, 0.62530345, 0.62530345],\n",
       "         [0.6297253 , 0.6297253 , 0.6297253 ],\n",
       "         [0.6295985 , 0.6295985 , 0.6295985 ],\n",
       "         ...,\n",
       "         [0.35994497, 0.3560234 , 0.37740526],\n",
       "         [0.30508915, 0.30116758, 0.3209021 ],\n",
       "         [0.25795427, 0.26187584, 0.2775621 ]],\n",
       " \n",
       "        [[0.6273643 , 0.6273643 , 0.6273643 ],\n",
       "         [0.6313726 , 0.6313726 , 0.6313726 ],\n",
       "         [0.6313726 , 0.6313726 , 0.6313726 ],\n",
       "         ...,\n",
       "         [0.5721291 , 0.571849  , 0.58053243],\n",
       "         [0.67056835, 0.67028826, 0.6789717 ],\n",
       "         [0.45835704, 0.4622786 , 0.47068194]],\n",
       " \n",
       "        [[0.6223156 , 0.6223156 , 0.6223156 ],\n",
       "         [0.630072  , 0.630072  , 0.630072  ],\n",
       "         [0.62717086, 0.62717086, 0.62717086],\n",
       "         ...,\n",
       "         [0.588142  , 0.588142  , 0.5832645 ],\n",
       "         [0.64325064, 0.64325064, 0.64043623],\n",
       "         [0.6576097 , 0.66545284, 0.66153127]]], dtype=float32)>,\n",
       " <tf.Tensor: shape=(105, 105, 3), dtype=float32, numpy=\n",
       " array([[[0.49925303, 0.49925303, 0.4914099 ],\n",
       "         [0.49803922, 0.49803922, 0.49019608],\n",
       "         [0.50074697, 0.50074697, 0.49290383],\n",
       "         ...,\n",
       "         [0.4678805 , 0.4678805 , 0.46003735],\n",
       "         [0.4740363 , 0.47039485, 0.4625517 ],\n",
       "         [0.47058824, 0.46666667, 0.45882353]],\n",
       " \n",
       "        [[0.5058824 , 0.5058824 , 0.49803922],\n",
       "         [0.5016807 , 0.5016807 , 0.49383754],\n",
       "         [0.49803922, 0.49803922, 0.49019608],\n",
       "         ...,\n",
       "         [0.47030813, 0.47086835, 0.4627451 ],\n",
       "         [0.4742097 , 0.47424972, 0.46638656],\n",
       "         [0.46666667, 0.46666667, 0.45882353]],\n",
       " \n",
       "        [[0.50262547, 0.50262547, 0.49478236],\n",
       "         [0.5000334 , 0.5000334 , 0.4921902 ],\n",
       "         [0.5019608 , 0.5019608 , 0.49411765],\n",
       "         ...,\n",
       "         [0.46328756, 0.4735383 , 0.46097106],\n",
       "         [0.4685341 , 0.47238895, 0.46261838],\n",
       "         [0.46666667, 0.47021475, 0.46059754]],\n",
       " \n",
       "        ...,\n",
       " \n",
       "        [[0.52726424, 0.5211951 , 0.5197946 ],\n",
       "         [0.5294118 , 0.5232159 , 0.5221956 ],\n",
       "         [0.5294118 , 0.52156866, 0.5254902 ],\n",
       "         ...,\n",
       "         [0.50138515, 0.4974636 , 0.48962048],\n",
       "         [0.49854606, 0.4946245 , 0.48678136],\n",
       "         [0.46656215, 0.46264058, 0.45479745]],\n",
       " \n",
       "        [[0.5266173 , 0.51877415, 0.5226957 ],\n",
       "         [0.5254902 , 0.5176471 , 0.5220888 ],\n",
       "         [0.5254902 , 0.5176471 , 0.52885157],\n",
       "         ...,\n",
       "         [0.52716434, 0.5232428 , 0.51539963],\n",
       "         [0.53821546, 0.5342939 , 0.52645075],\n",
       "         [0.46087766, 0.4569561 , 0.44911295]],\n",
       " \n",
       "        [[0.5306256 , 0.52278244, 0.53454715],\n",
       "         [0.5257703 , 0.51792717, 0.5296919 ],\n",
       "         [0.53333336, 0.5254902 , 0.5372549 ],\n",
       "         ...,\n",
       "         [0.5096616 , 0.5018185 , 0.50574005],\n",
       "         [0.5064226 , 0.4985794 , 0.502501  ],\n",
       "         [0.46629316, 0.45845002, 0.4623716 ]]], dtype=float32)>,\n",
       " 1.0)"
      ]
     },
     "execution_count": 42,
     "metadata": {},
     "output_type": "execute_result"
    }
   ],
   "source": [
    "result"
   ]
  },
  {
   "cell_type": "code",
   "execution_count": 43,
   "id": "0f746b4b",
   "metadata": {},
   "outputs": [
    {
     "data": {
      "text/plain": [
       "<tf.Tensor: shape=(105, 105, 3), dtype=float32, numpy=\n",
       "array([[[0.5822618 , 0.59010494, 0.58618337],\n",
       "        [0.5753435 , 0.5915899 , 0.5873883 ],\n",
       "        [0.5779534 , 0.6014828 , 0.5936397 ],\n",
       "        ...,\n",
       "        [0.5222222 , 0.5538749 , 0.543324  ],\n",
       "        [0.5082833 , 0.5433173 , 0.53163934],\n",
       "        [0.51101774, 0.55172735, 0.5372549 ]],\n",
       "\n",
       "       [[0.58646125, 0.5951447 , 0.5903828 ],\n",
       "        [0.5803922 , 0.59689873, 0.59187675],\n",
       "        [0.5768774 , 0.6004068 , 0.5887089 ],\n",
       "        ...,\n",
       "        [0.51994795, 0.56607306, 0.5410497 ],\n",
       "        [0.51064426, 0.5610644 , 0.5338935 ],\n",
       "        [0.5140056 , 0.56442577, 0.5372549 ]],\n",
       "\n",
       "       [[0.57701975, 0.5966276 , 0.5809413 ],\n",
       "        [0.5787448 , 0.6002801 , 0.58459383],\n",
       "        [0.58431375, 0.60784316, 0.5921569 ],\n",
       "        ...,\n",
       "        [0.53058785, 0.5560602 , 0.5394024 ],\n",
       "        [0.5292584 , 0.55160064, 0.535761  ],\n",
       "        [0.5311858 , 0.5529412 , 0.5372549 ]],\n",
       "\n",
       "       ...,\n",
       "\n",
       "       [[0.62530345, 0.62530345, 0.62530345],\n",
       "        [0.6297253 , 0.6297253 , 0.6297253 ],\n",
       "        [0.6295985 , 0.6295985 , 0.6295985 ],\n",
       "        ...,\n",
       "        [0.35994497, 0.3560234 , 0.37740526],\n",
       "        [0.30508915, 0.30116758, 0.3209021 ],\n",
       "        [0.25795427, 0.26187584, 0.2775621 ]],\n",
       "\n",
       "       [[0.6273643 , 0.6273643 , 0.6273643 ],\n",
       "        [0.6313726 , 0.6313726 , 0.6313726 ],\n",
       "        [0.6313726 , 0.6313726 , 0.6313726 ],\n",
       "        ...,\n",
       "        [0.5721291 , 0.571849  , 0.58053243],\n",
       "        [0.67056835, 0.67028826, 0.6789717 ],\n",
       "        [0.45835704, 0.4622786 , 0.47068194]],\n",
       "\n",
       "       [[0.6223156 , 0.6223156 , 0.6223156 ],\n",
       "        [0.630072  , 0.630072  , 0.630072  ],\n",
       "        [0.62717086, 0.62717086, 0.62717086],\n",
       "        ...,\n",
       "        [0.588142  , 0.588142  , 0.5832645 ],\n",
       "        [0.64325064, 0.64325064, 0.64043623],\n",
       "        [0.6576097 , 0.66545284, 0.66153127]]], dtype=float32)>"
      ]
     },
     "execution_count": 43,
     "metadata": {},
     "output_type": "execute_result"
    }
   ],
   "source": [
    "result[0]"
   ]
  },
  {
   "cell_type": "code",
   "execution_count": 44,
   "id": "145c66f5",
   "metadata": {},
   "outputs": [
    {
     "data": {
      "text/plain": [
       "<matplotlib.image.AxesImage at 0x7ff7e4163cd0>"
      ]
     },
     "execution_count": 44,
     "metadata": {},
     "output_type": "execute_result"
    },
    {
     "data": {
      "image/png": "[encoded data removed]",
      "text/plain": [
       "<Figure size 640x480 with 1 Axes>"
      ]
     },
     "metadata": {},
     "output_type": "display_data"
    }
   ],
   "source": [
    "plt.imshow(result[1])"
   ]
  },
  {
   "cell_type": "code",
   "execution_count": 45,
   "id": "e5fc6f63",
   "metadata": {},
   "outputs": [
    {
     "data": {
      "text/plain": [
       "1.0"
      ]
     },
     "execution_count": 45,
     "metadata": {},
     "output_type": "execute_result"
    }
   ],
   "source": [
    "result[2]"
   ]
  },
  {
   "cell_type": "code",
   "execution_count": 46,
   "id": "0b6eb9ac",
   "metadata": {},
   "outputs": [],
   "source": [
    "# building dataloader pipeline\n",
    "data = data.map(preprocess_twin)\n",
    "data = data.cache()\n",
    "data = data.shuffle(buffer_size=1024) # shuffling the data"
   ]
  },
  {
   "cell_type": "code",
   "execution_count": 47,
   "id": "f4e53e1c",
   "metadata": {},
   "outputs": [
    {
     "data": {
      "text/plain": [
       "<_ShuffleDataset element_spec=(TensorSpec(shape=(105, 105, None), dtype=tf.float32, name=None), TensorSpec(shape=(105, 105, None), dtype=tf.float32, name=None), TensorSpec(shape=(), dtype=tf.float32, name=None))>"
      ]
     },
     "execution_count": 47,
     "metadata": {},
     "output_type": "execute_result"
    }
   ],
   "source": [
    "data"
   ]
  },
  {
   "cell_type": "code",
   "execution_count": 48,
   "id": "21f45dcd",
   "metadata": {},
   "outputs": [
    {
     "name": "stderr",
     "output_type": "stream",
     "text": [
      "2023-05-26 09:59:38.774202: I tensorflow/core/common_runtime/executor.cc:1197] [/device:CPU:0] (DEBUG INFO) Executor start aborting (this does not indicate an error and you can ignore this message): INVALID_ARGUMENT: You must feed a value for placeholder tensor 'Placeholder/_30' with dtype string and shape [13233]\n",
      "\t [[{{node Placeholder/_30}}]]\n",
      "2023-05-26 09:59:38.774768: I tensorflow/core/common_runtime/executor.cc:1197] [/device:CPU:0] (DEBUG INFO) Executor start aborting (this does not indicate an error and you can ignore this message): INVALID_ARGUMENT: You must feed a value for placeholder tensor 'Placeholder/_30' with dtype string and shape [13233]\n",
      "\t [[{{node Placeholder/_30}}]]\n"
     ]
    },
    {
     "data": {
      "text/plain": [
       "<tensorflow.python.data.ops.dataset_ops._NumpyIterator at 0x7ff7e41cbfa0>"
      ]
     },
     "execution_count": 48,
     "metadata": {},
     "output_type": "execute_result"
    }
   ],
   "source": [
    "data.as_numpy_iterator()"
   ]
  },
  {
   "cell_type": "code",
   "execution_count": 49,
   "id": "2393ab5e",
   "metadata": {},
   "outputs": [],
   "source": [
    "samples = data.as_numpy_iterator()"
   ]
  },
  {
   "cell_type": "code",
   "execution_count": 50,
   "id": "fac473d3",
   "metadata": {},
   "outputs": [
    {
     "data": {
      "text/plain": [
       "(array([[[0.58636564, 0.58636564, 0.58636564],\n",
       "         [0.5771242 , 0.58552754, 0.581606  ],\n",
       "         [0.5743119 , 0.5899982 , 0.5860766 ],\n",
       "         ...,\n",
       "         [0.5329598 , 0.54509807, 0.5411765 ],\n",
       "         [0.52455646, 0.54024273, 0.53632116],\n",
       "         [0.5269841 , 0.54267037, 0.5387488 ]],\n",
       " \n",
       "        [[0.58067894, 0.5890823 , 0.58516073],\n",
       "         [0.57511   , 0.5840336 , 0.58011204],\n",
       "         [0.5686275 , 0.58431375, 0.5803922 ],\n",
       "         ...,\n",
       "         [0.537535  , 0.54537815, 0.54089636],\n",
       "         [0.5266106 , 0.5419968 , 0.5372549 ],\n",
       "         [0.5254902 , 0.54901963, 0.5406163 ]],\n",
       " \n",
       "        [[0.5674025 , 0.5866369 , 0.5809413 ],\n",
       "         [0.564986  , 0.58422035, 0.5785247 ],\n",
       "         [0.57335156, 0.5925859 , 0.5868903 ],\n",
       "         ...,\n",
       "         [0.5340803 , 0.5509626 , 0.53645235],\n",
       "         [0.52791786, 0.5492997 , 0.53361344],\n",
       "         [0.52267796, 0.54620737, 0.5305211 ]],\n",
       " \n",
       "        ...,\n",
       " \n",
       "        [[0.63529414, 0.63529414, 0.63529414],\n",
       "         [0.63529414, 0.63529414, 0.63529414],\n",
       "         [0.63432264, 0.63432264, 0.63787067],\n",
       "         ...,\n",
       "         [0.27623934, 0.27623934, 0.2797874 ],\n",
       "         [0.31163162, 0.3131522 , 0.3246701 ],\n",
       "         [0.30837035, 0.31229192, 0.3236831 ]],\n",
       " \n",
       "        [[0.6313726 , 0.6313726 , 0.6313726 ],\n",
       "         [0.6313726 , 0.6313726 , 0.63189274],\n",
       "         [0.63301986, 0.63301986, 0.6405562 ],\n",
       "         ...,\n",
       "         [0.51469237, 0.51633966, 0.50386137],\n",
       "         [0.4793118 , 0.4793118 , 0.4793118 ],\n",
       "         [0.5703615 , 0.57064164, 0.5784848 ]],\n",
       " \n",
       "        [[0.63987154, 0.63987154, 0.63987154],\n",
       "         [0.6315659 , 0.6315659 , 0.63212615],\n",
       "         [0.63622785, 0.63622785, 0.644071  ],\n",
       "         ...,\n",
       "         [0.53782624, 0.53427815, 0.5360522 ],\n",
       "         [0.53380024, 0.53380024, 0.53380024],\n",
       "         [0.5953226 , 0.5953226 , 0.5953226 ]]], dtype=float32),\n",
       " array([[[0.94631183, 0.96591973, 0.9384687 ],\n",
       "         [0.937535  , 0.95714283, 0.92969185],\n",
       "         [0.9411765 , 0.9607843 , 0.93333334],\n",
       "         ...,\n",
       "         [0.9372549 , 0.9529412 , 0.8862745 ],\n",
       "         [0.9408964 , 0.9529412 , 0.8862745 ],\n",
       "         [0.9490196 , 0.9529412 , 0.8901961 ]],\n",
       " \n",
       "        [[0.94631183, 0.96591973, 0.9384687 ],\n",
       "         [0.937535  , 0.95714283, 0.92969185],\n",
       "         [0.9411765 , 0.9607843 , 0.93333334],\n",
       "         ...,\n",
       "         [0.9372549 , 0.9529412 , 0.8862745 ],\n",
       "         [0.9408964 , 0.9529412 , 0.8862745 ],\n",
       "         [0.9490196 , 0.9529412 , 0.8901961 ]],\n",
       " \n",
       "        [[0.94631183, 0.96591973, 0.9384687 ],\n",
       "         [0.937535  , 0.95714283, 0.92969185],\n",
       "         [0.9411765 , 0.9607843 , 0.93333334],\n",
       "         ...,\n",
       "         [0.9372549 , 0.9529412 , 0.8862745 ],\n",
       "         [0.9408964 , 0.9529412 , 0.8862745 ],\n",
       "         [0.9490196 , 0.9529412 , 0.8901961 ]],\n",
       " \n",
       "        ...,\n",
       " \n",
       "        [[0.915324  , 0.76575524, 0.48842204],\n",
       "         [0.9218487 , 0.7728291 , 0.49010268],\n",
       "         [0.9282357 , 0.7792161 , 0.49294162],\n",
       "         ...,\n",
       "         [0.96686906, 0.93924916, 0.8418079 ],\n",
       "         [0.9729358 , 0.96270514, 0.88704145],\n",
       "         [0.9626851 , 0.95863676, 0.89282155]],\n",
       " \n",
       "        [[0.9094304 , 0.7604108 , 0.4743097 ],\n",
       "         [0.9257503 , 0.7767307 , 0.48317322],\n",
       "         [0.9292584 , 0.7802388 , 0.48612112],\n",
       "         ...,\n",
       "         [0.9351943 , 0.8856212 , 0.76704043],\n",
       "         [0.9708683 , 0.94705874, 0.8453581 ],\n",
       "         [0.9543484 , 0.94639856, 0.8645191 ]],\n",
       " \n",
       "        [[0.8919701 , 0.7429505 , 0.44883284],\n",
       "         [0.91792715, 0.7691876 , 0.4742297 ],\n",
       "         [0.9290382 , 0.7839402 , 0.47695968],\n",
       "         ...,\n",
       "         [0.78310037, 0.7231676 , 0.5871042 ],\n",
       "         [0.97396964, 0.9381153 , 0.8235495 ],\n",
       "         [0.965544  , 0.9481815 , 0.8509804 ]]], dtype=float32),\n",
       " 0.0)"
      ]
     },
     "execution_count": 50,
     "metadata": {},
     "output_type": "execute_result"
    }
   ],
   "source": [
    "samples.next()"
   ]
  },
  {
   "cell_type": "code",
   "execution_count": 51,
   "id": "ed318a51",
   "metadata": {},
   "outputs": [],
   "source": [
    "samp = samples.next()"
   ]
  },
  {
   "cell_type": "code",
   "execution_count": 52,
   "id": "d241b582",
   "metadata": {},
   "outputs": [
    {
     "data": {
      "text/plain": [
       "<matplotlib.image.AxesImage at 0x7ff7e4145f90>"
      ]
     },
     "execution_count": 52,
     "metadata": {},
     "output_type": "execute_result"
    },
    {
     "data": {
      "image/png": "[encoded data removed]",
      "text/plain": [
       "<Figure size 640x480 with 1 Axes>"
      ]
     },
     "metadata": {},
     "output_type": "display_data"
    }
   ],
   "source": [
    "plt.imshow(samp[0])"
   ]
  },
  {
   "cell_type": "code",
   "execution_count": 53,
   "id": "03ed9b74",
   "metadata": {},
   "outputs": [
    {
     "data": {
      "text/plain": [
       "<matplotlib.image.AxesImage at 0x7ff7c4781f30>"
      ]
     },
     "execution_count": 53,
     "metadata": {},
     "output_type": "execute_result"
    },
    {
     "data": {
      "image/png": "[encoded data removed]",
      "text/plain": [
       "<Figure size 640x480 with 1 Axes>"
      ]
     },
     "metadata": {},
     "output_type": "display_data"
    }
   ],
   "source": [
    "plt.imshow(samp[1])"
   ]
  },
  {
   "cell_type": "code",
   "execution_count": 54,
   "id": "0e55cbb1",
   "metadata": {},
   "outputs": [
    {
     "data": {
      "text/plain": [
       "0.0"
      ]
     },
     "execution_count": 54,
     "metadata": {},
     "output_type": "execute_result"
    }
   ],
   "source": [
    "samp[2]"
   ]
  },
  {
   "cell_type": "code",
   "execution_count": 55,
   "id": "1d27baf2",
   "metadata": {},
   "outputs": [
    {
     "data": {
      "text/plain": [
       "420"
      ]
     },
     "execution_count": 55,
     "metadata": {},
     "output_type": "execute_result"
    }
   ],
   "source": [
    "round(len(data)*.7)"
   ]
  },
  {
   "cell_type": "code",
   "execution_count": 56,
   "id": "815293b0",
   "metadata": {},
   "outputs": [
    {
     "data": {
      "text/plain": [
       "<_ShuffleDataset element_spec=(TensorSpec(shape=(105, 105, None), dtype=tf.float32, name=None), TensorSpec(shape=(105, 105, None), dtype=tf.float32, name=None), TensorSpec(shape=(), dtype=tf.float32, name=None))>"
      ]
     },
     "execution_count": 56,
     "metadata": {},
     "output_type": "execute_result"
    }
   ],
   "source": [
    "data"
   ]
  },
  {
   "cell_type": "code",
   "execution_count": null,
   "id": "2e7ef56b",
   "metadata": {},
   "outputs": [],
   "source": []
  },
  {
   "cell_type": "code",
   "execution_count": 57,
   "id": "00afe7a3",
   "metadata": {},
   "outputs": [],
   "source": [
    "# creating training partition\n",
    "train_data = data.take(round(len(data)*.7))\n",
    "train_data = train_data.batch(16)\n",
    "train_data = train_data.prefetch(8)"
   ]
  },
  {
   "cell_type": "code",
   "execution_count": 58,
   "id": "8d5403d9",
   "metadata": {},
   "outputs": [
    {
     "data": {
      "text/plain": [
       "<_PrefetchDataset element_spec=(TensorSpec(shape=(None, 105, 105, None), dtype=tf.float32, name=None), TensorSpec(shape=(None, 105, 105, None), dtype=tf.float32, name=None), TensorSpec(shape=(None,), dtype=tf.float32, name=None))>"
      ]
     },
     "execution_count": 58,
     "metadata": {},
     "output_type": "execute_result"
    }
   ],
   "source": [
    "train_data"
   ]
  },
  {
   "cell_type": "code",
   "execution_count": 59,
   "id": "da1b2b4e",
   "metadata": {},
   "outputs": [
    {
     "name": "stderr",
     "output_type": "stream",
     "text": [
      "2023-05-26 09:59:41.101065: I tensorflow/core/common_runtime/executor.cc:1197] [/device:CPU:0] (DEBUG INFO) Executor start aborting (this does not indicate an error and you can ignore this message): INVALID_ARGUMENT: You must feed a value for placeholder tensor 'Placeholder/_30' with dtype string and shape [13233]\n",
      "\t [[{{node Placeholder/_30}}]]\n",
      "2023-05-26 09:59:41.101668: I tensorflow/core/common_runtime/executor.cc:1197] [/device:CPU:0] (DEBUG INFO) Executor start aborting (this does not indicate an error and you can ignore this message): INVALID_ARGUMENT: You must feed a value for placeholder tensor 'Placeholder/_9' with dtype string and shape [3020]\n",
      "\t [[{{node Placeholder/_9}}]]\n"
     ]
    }
   ],
   "source": [
    "train_samples = train_data.as_numpy_iterator()"
   ]
  },
  {
   "cell_type": "code",
   "execution_count": 60,
   "id": "86b21873",
   "metadata": {},
   "outputs": [],
   "source": [
    "train_sample = train_samples.next()"
   ]
  },
  {
   "cell_type": "code",
   "execution_count": 61,
   "id": "f68593b9",
   "metadata": {},
   "outputs": [
    {
     "data": {
      "text/plain": [
       "16"
      ]
     },
     "execution_count": 61,
     "metadata": {},
     "output_type": "execute_result"
    }
   ],
   "source": [
    "len(train_sample[0])"
   ]
  },
  {
   "cell_type": "code",
   "execution_count": 62,
   "id": "382c6872",
   "metadata": {},
   "outputs": [],
   "source": [
    "# creating testing partition\n",
    "test_data = data.skip(round(len(data)*.7))\n",
    "test_data = test_data.take(round(len(data)*.3))\n",
    "test_data = test_data.batch(16)\n",
    "test_data = test_data.prefetch(8)"
   ]
  },
  {
   "cell_type": "markdown",
   "id": "62d8e0bc",
   "metadata": {},
   "source": [
    "# 4. Model Engineering "
   ]
  },
  {
   "cell_type": "markdown",
   "id": "1d76df6d",
   "metadata": {},
   "source": [
    "# 4.1 Build Embedding Layer"
   ]
  },
  {
   "cell_type": "code",
   "execution_count": 63,
   "id": "23699f3e",
   "metadata": {},
   "outputs": [],
   "source": [
    "def make_embedding():\n",
    "    inp = Input(shape=(105, 105, 3), name='input_image')\n",
    "    \n",
    "    # 1st block\n",
    "    c1 = Conv2D(64,(10,10), activation = 'relu')(inp)\n",
    "    m1 = MaxPooling2D(64, (2,2), padding='same')(c1)\n",
    "    \n",
    "    # 2nd block\n",
    "    c2 = Conv2D(128, (7,7), activation = 'relu')(m1)\n",
    "    m2 = MaxPooling2D(64, (2,2), padding= 'same')(c2)\n",
    "    \n",
    "    # 3rd block\n",
    "    c3 = Conv2D(128, (4,4), activation = 'relu')(m2)\n",
    "    m3 = MaxPooling2D(64, (2,2), padding= 'same')(c3)\n",
    "    \n",
    "    # 4th / final embedding block\n",
    "    c4 = Conv2D(256, (4,4), activation= 'relu')(m3)\n",
    "    f1 = Flatten()(c4)                              # flatenning the output\n",
    "    d1 = Dense(4096, activation= 'sigmoid')(f1)     # making the flatten layer to a dense layer\n",
    "    \n",
    "    \n",
    "    return Model(inputs=[inp], outputs=[d1], name='embedding')"
   ]
  },
  {
   "cell_type": "code",
   "execution_count": 64,
   "id": "2ddc1909",
   "metadata": {},
   "outputs": [],
   "source": [
    "embedding = make_embedding()"
   ]
  },
  {
   "cell_type": "code",
   "execution_count": 65,
   "id": "dbb681d3",
   "metadata": {
    "scrolled": true
   },
   "outputs": [
    {
     "name": "stdout",
     "output_type": "stream",
     "text": [
      "Model: \"embedding\"\n",
      "_________________________________________________________________\n",
      " Layer (type)                Output Shape              Param #   \n",
      "=================================================================\n",
      " input_image (InputLayer)    [(None, 105, 105, 3)]     0         \n",
      "                                                                 \n",
      " conv2d (Conv2D)             (None, 96, 96, 64)        19264     \n",
      "                                                                 \n",
      " max_pooling2d (MaxPooling2D  (None, 48, 48, 64)       0         \n",
      " )                                                               \n",
      "                                                                 \n",
      " conv2d_1 (Conv2D)           (None, 42, 42, 128)       401536    \n",
      "                                                                 \n",
      " max_pooling2d_1 (MaxPooling  (None, 21, 21, 128)      0         \n",
      " 2D)                                                             \n",
      "                                                                 \n",
      " conv2d_2 (Conv2D)           (None, 18, 18, 128)       262272    \n",
      "                                                                 \n",
      " max_pooling2d_2 (MaxPooling  (None, 9, 9, 128)        0         \n",
      " 2D)                                                             \n",
      "                                                                 \n",
      " conv2d_3 (Conv2D)           (None, 6, 6, 256)         524544    \n",
      "                                                                 \n",
      " flatten (Flatten)           (None, 9216)              0         \n",
      "                                                                 \n",
      " dense (Dense)               (None, 4096)              37752832  \n",
      "                                                                 \n",
      "=================================================================\n",
      "Total params: 38,960,448\n",
      "Trainable params: 38,960,448\n",
      "Non-trainable params: 0\n",
      "_________________________________________________________________\n"
     ]
    }
   ],
   "source": [
    "embedding.summary()"
   ]
  },
  {
   "cell_type": "markdown",
   "id": "a9f9d063",
   "metadata": {},
   "source": [
    "## 4.2 Build Distance Layer"
   ]
  },
  {
   "cell_type": "code",
   "execution_count": 66,
   "id": "6b1c17b8",
   "metadata": {},
   "outputs": [],
   "source": [
    "class L1Dist(Layer):               # siamese L1 distance class \n",
    "     \n",
    "    def __init__(self, **kwargs):  # inheritance \n",
    "        super().__init__()\n",
    "        \n",
    "    # similarity calculation     \n",
    "    def call(self, input_embedding, validation_embedding):\n",
    "        return tf.math.abs(input_embedding - validation_embedding)"
   ]
  },
  {
   "cell_type": "code",
   "execution_count": 67,
   "id": "a953cde4",
   "metadata": {},
   "outputs": [],
   "source": [
    "l1 = L1Dist()"
   ]
  },
  {
   "cell_type": "code",
   "execution_count": 68,
   "id": "b1b9b3bd",
   "metadata": {},
   "outputs": [
    {
     "data": {
      "text/plain": [
       "<__main__.L1Dist at 0x7ff7c4618940>"
      ]
     },
     "execution_count": 68,
     "metadata": {},
     "output_type": "execute_result"
    }
   ],
   "source": [
    "l1"
   ]
  },
  {
   "cell_type": "markdown",
   "id": "c801ea22",
   "metadata": {},
   "source": [
    "## 4.3 Make Siamese Model"
   ]
  },
  {
   "cell_type": "code",
   "execution_count": 69,
   "id": "253b03d2",
   "metadata": {},
   "outputs": [],
   "source": [
    "input_image = Input(name= 'input_img', shape= (105,105,3)) \n",
    "validation_image = Input(name= 'validation_img', shape = (105,105,3))"
   ]
  },
  {
   "cell_type": "code",
   "execution_count": 70,
   "id": "e9a3767a",
   "metadata": {},
   "outputs": [],
   "source": [
    "inp_embedding = embedding(input_image)\n",
    "val_embedding = embedding(validation_image)"
   ]
  },
  {
   "cell_type": "code",
   "execution_count": 71,
   "id": "262153e4",
   "metadata": {},
   "outputs": [
    {
     "data": {
      "text/plain": [
       "<KerasTensor: shape=(None, 4096) dtype=float32 (created by layer 'embedding')>"
      ]
     },
     "execution_count": 71,
     "metadata": {},
     "output_type": "execute_result"
    }
   ],
   "source": [
    "inp_embedding"
   ]
  },
  {
   "cell_type": "code",
   "execution_count": 72,
   "id": "904c56b9",
   "metadata": {},
   "outputs": [
    {
     "data": {
      "text/plain": [
       "<KerasTensor: shape=(None, 4096) dtype=float32 (created by layer 'embedding')>"
      ]
     },
     "execution_count": 72,
     "metadata": {},
     "output_type": "execute_result"
    }
   ],
   "source": [
    "val_embedding"
   ]
  },
  {
   "cell_type": "code",
   "execution_count": 73,
   "id": "4d51e157",
   "metadata": {},
   "outputs": [],
   "source": [
    "siamese_layer = L1Dist()"
   ]
  },
  {
   "cell_type": "code",
   "execution_count": 74,
   "id": "bb4f2411",
   "metadata": {},
   "outputs": [],
   "source": [
    "distances = siamese_layer(inp_embedding, val_embedding)"
   ]
  },
  {
   "cell_type": "code",
   "execution_count": 75,
   "id": "e408cf44",
   "metadata": {},
   "outputs": [],
   "source": [
    "classsifier = Dense(1, activation='sigmoid')(distances)"
   ]
  },
  {
   "cell_type": "code",
   "execution_count": 76,
   "id": "34330b09",
   "metadata": {},
   "outputs": [
    {
     "data": {
      "text/plain": [
       "<KerasTensor: shape=(None, 1) dtype=float32 (created by layer 'dense_1')>"
      ]
     },
     "execution_count": 76,
     "metadata": {},
     "output_type": "execute_result"
    }
   ],
   "source": [
    "classsifier"
   ]
  },
  {
   "cell_type": "code",
   "execution_count": 77,
   "id": "cf5f0015",
   "metadata": {},
   "outputs": [],
   "source": [
    "def make_siamese_model():\n",
    "    \n",
    "    input_image = Input(name= 'input_img', shape= (105,105,3)) # anchor image in the network\n",
    "    validation_image = Input(name= 'validation_img', shape = (105,105,3)) # validation image in the network\n",
    "    \n",
    "    \n",
    "    # combine siamese distance components\n",
    "    siamese_layer = L1Dist()\n",
    "    siamese_layer._name = 'distance'\n",
    "    distances = siamese_layer(embedding(input_image), embedding(validation_image))\n",
    "    \n",
    "    # clasification layer\n",
    "    classsifier = Dense(1, activation='sigmoid')(distances)\n",
    "    \n",
    "    return Model(inputs=[input_image, validation_image], outputs= classsifier, name='SiameseNetwork')"
   ]
  },
  {
   "cell_type": "code",
   "execution_count": 78,
   "id": "0dd4fbe8",
   "metadata": {},
   "outputs": [],
   "source": [
    "siamese_model = make_siamese_model()"
   ]
  },
  {
   "cell_type": "code",
   "execution_count": 79,
   "id": "0d03ce8b",
   "metadata": {
    "scrolled": true
   },
   "outputs": [
    {
     "name": "stdout",
     "output_type": "stream",
     "text": [
      "Model: \"SiameseNetwork\"\n",
      "__________________________________________________________________________________________________\n",
      " Layer (type)                   Output Shape         Param #     Connected to                     \n",
      "==================================================================================================\n",
      " input_img (InputLayer)         [(None, 105, 105, 3  0           []                               \n",
      "                                )]                                                                \n",
      "                                                                                                  \n",
      " validation_img (InputLayer)    [(None, 105, 105, 3  0           []                               \n",
      "                                )]                                                                \n",
      "                                                                                                  \n",
      " embedding (Functional)         (None, 4096)         38960448    ['input_img[0][0]',              \n",
      "                                                                  'validation_img[0][0]']         \n",
      "                                                                                                  \n",
      " distance (L1Dist)              (None, 4096)         0           ['embedding[2][0]',              \n",
      "                                                                  'embedding[3][0]']              \n",
      "                                                                                                  \n",
      " dense_2 (Dense)                (None, 1)            4097        ['distance[0][0]']               \n",
      "                                                                                                  \n",
      "==================================================================================================\n",
      "Total params: 38,964,545\n",
      "Trainable params: 38,964,545\n",
      "Non-trainable params: 0\n",
      "__________________________________________________________________________________________________\n"
     ]
    }
   ],
   "source": [
    "siamese_model.summary()"
   ]
  },
  {
   "cell_type": "markdown",
   "id": "1da99d78",
   "metadata": {},
   "source": [
    "# 5. Training Model"
   ]
  },
  {
   "cell_type": "markdown",
   "id": "c4f53887",
   "metadata": {},
   "source": [
    "## 5.1 Setup Loss and Optimizer"
   ]
  },
  {
   "cell_type": "code",
   "execution_count": 80,
   "id": "08eb3375",
   "metadata": {},
   "outputs": [],
   "source": [
    "binary_cross_loss = tf.losses.BinaryCrossentropy()"
   ]
  },
  {
   "cell_type": "code",
   "execution_count": 81,
   "id": "72ac9490",
   "metadata": {},
   "outputs": [],
   "source": [
    "opt = tf.keras.optimizers.Adam(1e-4) # 0.0001"
   ]
  },
  {
   "cell_type": "markdown",
   "id": "f909f699",
   "metadata": {},
   "source": [
    "## 5.2 Establish Checkpoints"
   ]
  },
  {
   "cell_type": "code",
   "execution_count": 82,
   "id": "48fa088d",
   "metadata": {},
   "outputs": [],
   "source": [
    "checkpoint_dir = './training_checkpoints'\n",
    "checkpoint_prefix = os.path.join(checkpoint_dir, 'ckpt')\n",
    "checkpoint = tf.train.Checkpoint(opt=opt, siamese_model= siamese_model)"
   ]
  },
  {
   "cell_type": "code",
   "execution_count": null,
   "id": "0b892f0b",
   "metadata": {},
   "outputs": [],
   "source": []
  },
  {
   "cell_type": "markdown",
   "id": "e63cc082",
   "metadata": {},
   "source": [
    "## 5.3 Build Train Step Function "
   ]
  },
  {
   "cell_type": "code",
   "execution_count": 83,
   "id": "1f42f78c",
   "metadata": {},
   "outputs": [],
   "source": [
    "test_batch = train_data.as_numpy_iterator()"
   ]
  },
  {
   "cell_type": "code",
   "execution_count": 84,
   "id": "75d301cc",
   "metadata": {},
   "outputs": [],
   "source": [
    "batch_1 = test_batch.next()"
   ]
  },
  {
   "cell_type": "code",
   "execution_count": 85,
   "id": "f0f659e4",
   "metadata": {},
   "outputs": [
    {
     "data": {
      "text/plain": [
       "3"
      ]
     },
     "execution_count": 85,
     "metadata": {},
     "output_type": "execute_result"
    }
   ],
   "source": [
    "len(batch_1)"
   ]
  },
  {
   "cell_type": "code",
   "execution_count": 86,
   "id": "673063e3",
   "metadata": {},
   "outputs": [],
   "source": [
    "batch_1 = test_batch.next()"
   ]
  },
  {
   "cell_type": "code",
   "execution_count": 87,
   "id": "eed49603",
   "metadata": {},
   "outputs": [],
   "source": [
    "X = batch_1[:2]"
   ]
  },
  {
   "cell_type": "code",
   "execution_count": 88,
   "id": "97ebbaf2",
   "metadata": {},
   "outputs": [
    {
     "data": {
      "text/plain": [
       "(2, 16, 105, 105, 3)"
      ]
     },
     "execution_count": 88,
     "metadata": {},
     "output_type": "execute_result"
    }
   ],
   "source": [
    "np.array(X).shape"
   ]
  },
  {
   "cell_type": "code",
   "execution_count": 89,
   "id": "de7314c3",
   "metadata": {},
   "outputs": [],
   "source": [
    "Y = batch_1[2]"
   ]
  },
  {
   "cell_type": "code",
   "execution_count": 90,
   "id": "caaa7f9a",
   "metadata": {},
   "outputs": [
    {
     "data": {
      "text/plain": [
       "array([0., 1., 0., 1., 1., 1., 1., 1., 1., 1., 1., 0., 0., 0., 1., 0.],\n",
       "      dtype=float32)"
      ]
     },
     "execution_count": 90,
     "metadata": {},
     "output_type": "execute_result"
    }
   ],
   "source": [
    "Y"
   ]
  },
  {
   "cell_type": "code",
   "execution_count": 91,
   "id": "a43b610e",
   "metadata": {},
   "outputs": [],
   "source": [
    "@tf.function\n",
    "def train_step(batch):\n",
    "    \n",
    "    with tf.GradientTape() as tape:\n",
    "        \n",
    "        X = batch[:2] # get anchor and positive/negative image\n",
    "        \n",
    "        Y = batch[2] # get label\n",
    "        \n",
    "        \n",
    "        # forwoard pass\n",
    "        yhat = siamese_model(X, training= True)\n",
    "        \n",
    "        # calculate losss\n",
    "        loss = binary_cross_loss(Y, yhat)\n",
    "    print(loss)\n",
    "        \n",
    "    # calculate gradients\n",
    "    grad = tape.gradient(loss, siamese_model.trainable_variables)\n",
    "    \n",
    "    # calculate updated weights and apply to siamese model\n",
    "    opt.apply_gradients(zip(grad,siamese_model.trainable_variables))\n",
    "    \n",
    "    return loss\n",
    "\n",
    "    pass"
   ]
  },
  {
   "cell_type": "markdown",
   "id": "b9768268",
   "metadata": {},
   "source": [
    "## 5.4 Build Training Loop"
   ]
  },
  {
   "cell_type": "code",
   "execution_count": 92,
   "id": "32c28efe",
   "metadata": {},
   "outputs": [],
   "source": [
    "# Import metric calculations\n",
    "from tensorflow.keras.metrics import Precision, Recall"
   ]
  },
  {
   "cell_type": "code",
   "execution_count": 93,
   "id": "b248346d",
   "metadata": {},
   "outputs": [],
   "source": [
    "def train(data, EPOCHS):\n",
    "    # Loop through epochs\n",
    "    for epoch in range(1, EPOCHS+1):\n",
    "        print('\\n Epoch {}/{}'.format(epoch, EPOCHS))\n",
    "        progbar = tf.keras.utils.Progbar(len(data))\n",
    "        \n",
    "        # Creating a metric object \n",
    "        r = Recall()\n",
    "        p = Precision()\n",
    "        \n",
    "        # Loop through each batch\n",
    "        for idx, batch in enumerate(data):\n",
    "            # Run train step here\n",
    "            loss = train_step(batch)\n",
    "            yhat = siamese_model.predict(batch[:2])\n",
    "            r.update_state(batch[2], yhat)\n",
    "            p.update_state(batch[2], yhat) \n",
    "            progbar.update(idx+1)\n",
    "        print(loss.numpy(), r.result().numpy(), p.result().numpy())\n",
    "        \n",
    "        # Save checkpoints\n",
    "        if epoch % 10 == 0: \n",
    "            checkpoint.save(file_prefix=checkpoint_prefix)"
   ]
  },
  {
   "cell_type": "markdown",
   "id": "bcc4ddbb",
   "metadata": {},
   "source": [
    "## 5.5 Train the model"
   ]
  },
  {
   "cell_type": "code",
   "execution_count": 94,
   "id": "3a5e2fa4",
   "metadata": {},
   "outputs": [],
   "source": [
    "EPOCHS = 50"
   ]
  },
  {
   "cell_type": "code",
   "execution_count": 95,
   "id": "097ff6f1",
   "metadata": {},
   "outputs": [
    {
     "name": "stdout",
     "output_type": "stream",
     "text": [
      "\n",
      " Epoch 1/50\n",
      "Tensor(\"binary_crossentropy/weighted_loss/value:0\", shape=(), dtype=float32)\n",
      "Tensor(\"binary_crossentropy/weighted_loss/value:0\", shape=(), dtype=float32)\n",
      "1/1 [==============================] - 0s 382ms/step\n",
      "1/1 [==============================] - 0s 325ms/step\n",
      "1/1 [==============================] - 0s 309ms/step\n",
      "1/1 [==============================] - 0s 315ms/step\n",
      "1/1 [==============================] - 0s 309ms/step\n",
      "1/1 [==============================] - 0s 334ms/step\n",
      "1/1 [==============================] - 0s 331ms/step\n",
      "1/1 [==============================] - 0s 331ms/step\n",
      "1/1 [==============================] - 0s 322ms/step\n",
      "1/1 [==============================] - 0s 304ms/step\n",
      "1/1 [==============================] - 0s 300ms/step\n",
      "1/1 [==============================] - 0s 302ms/step\n",
      "1/1 [==============================] - 0s 306ms/step\n",
      "1/1 [==============================] - 0s 304ms/step\n",
      "1/1 [==============================] - 0s 309ms/step\n",
      "1/1 [==============================] - 0s 303ms/step\n",
      "1/1 [==============================] - 0s 323ms/step\n",
      "1/1 [==============================] - 0s 328ms/step\n",
      "1/1 [==============================] - 0s 308ms/step\n",
      "1/1 [==============================] - 0s 310ms/step\n",
      "1/1 [==============================] - 0s 305ms/step\n",
      "1/1 [==============================] - 0s 308ms/step\n",
      "1/1 [==============================] - 0s 311ms/step\n",
      "1/1 [==============================] - 0s 303ms/step\n",
      "1/1 [==============================] - 0s 308ms/step\n",
      "1/1 [==============================] - 0s 306ms/step\n",
      "26/27 [===========================>..] - ETA: 1sTensor(\"binary_crossentropy/weighted_loss/value:0\", shape=(), dtype=float32)\n",
      "1/1 [==============================] - 0s 117ms/step\n",
      "27/27 [==============================] - 40s 1s/step\n",
      "0.056189932 0.92537314 0.9893617\n",
      "\n",
      " Epoch 2/50\n",
      "1/1 [==============================] - 0s 320ms/step\n",
      "1/1 [==============================] - 0s 316ms/step\n",
      "1/1 [==============================] - 0s 306ms/step\n",
      "1/1 [==============================] - 0s 303ms/step\n",
      "1/1 [==============================] - 0s 305ms/step\n",
      "1/1 [==============================] - 0s 302ms/step\n",
      "1/1 [==============================] - 0s 327ms/step\n",
      "1/1 [==============================] - 0s 315ms/step\n",
      "1/1 [==============================] - 0s 303ms/step\n",
      "1/1 [==============================] - 0s 311ms/step\n",
      "1/1 [==============================] - 0s 312ms/step\n",
      "1/1 [==============================] - 0s 319ms/step\n",
      "1/1 [==============================] - 0s 324ms/step\n",
      "1/1 [==============================] - 0s 307ms/step\n",
      "1/1 [==============================] - 0s 313ms/step\n",
      "1/1 [==============================] - 0s 306ms/step\n",
      "1/1 [==============================] - 0s 304ms/step\n",
      "1/1 [==============================] - 0s 304ms/step\n",
      "1/1 [==============================] - 0s 308ms/step\n",
      "1/1 [==============================] - 0s 319ms/step\n",
      "1/1 [==============================] - 0s 312ms/step\n",
      "1/1 [==============================] - 0s 304ms/step\n",
      "1/1 [==============================] - 0s 317ms/step\n",
      "1/1 [==============================] - 0s 331ms/step\n",
      "1/1 [==============================] - 0s 302ms/step\n",
      "1/1 [==============================] - 0s 298ms/step\n",
      "1/1 [==============================] - 0s 109ms/step\n",
      "27/27 [==============================] - 39s 1s/step\n",
      "0.008811635 0.98623854 1.0\n",
      "\n",
      " Epoch 3/50\n",
      "1/1 [==============================] - 0s 303ms/step\n",
      "1/1 [==============================] - 0s 309ms/step\n",
      "1/1 [==============================] - 0s 309ms/step\n",
      "1/1 [==============================] - 0s 311ms/step\n",
      "1/1 [==============================] - 0s 315ms/step\n",
      "1/1 [==============================] - 0s 306ms/step\n",
      "1/1 [==============================] - 0s 309ms/step\n",
      "1/1 [==============================] - 0s 338ms/step\n",
      "1/1 [==============================] - 0s 320ms/step\n",
      "1/1 [==============================] - 0s 302ms/step\n",
      "1/1 [==============================] - 0s 303ms/step\n",
      "1/1 [==============================] - 0s 303ms/step\n",
      "1/1 [==============================] - 0s 304ms/step\n",
      "1/1 [==============================] - 0s 300ms/step\n",
      "1/1 [==============================] - 0s 312ms/step\n",
      "1/1 [==============================] - 0s 307ms/step\n",
      "1/1 [==============================] - 0s 311ms/step\n",
      "1/1 [==============================] - 0s 304ms/step\n",
      "1/1 [==============================] - 0s 319ms/step\n",
      "1/1 [==============================] - 0s 325ms/step\n",
      "1/1 [==============================] - 0s 309ms/step\n",
      "1/1 [==============================] - 0s 305ms/step\n",
      "1/1 [==============================] - 0s 308ms/step\n",
      "1/1 [==============================] - 0s 309ms/step\n",
      "1/1 [==============================] - 0s 306ms/step\n",
      "1/1 [==============================] - 0s 308ms/step\n",
      "1/1 [==============================] - 0s 114ms/step\n",
      "27/27 [==============================] - 38s 1s/step\n",
      "0.00011113278 1.0 1.0\n",
      "\n",
      " Epoch 4/50\n",
      "1/1 [==============================] - 0s 314ms/step\n",
      "1/1 [==============================] - 0s 303ms/step\n",
      "1/1 [==============================] - 0s 301ms/step\n",
      "1/1 [==============================] - 0s 327ms/step\n",
      "1/1 [==============================] - 0s 308ms/step\n",
      "1/1 [==============================] - 0s 301ms/step\n",
      "1/1 [==============================] - 0s 314ms/step\n",
      "1/1 [==============================] - 0s 307ms/step\n",
      "1/1 [==============================] - 0s 320ms/step\n",
      "1/1 [==============================] - 0s 312ms/step\n",
      "1/1 [==============================] - 0s 305ms/step\n",
      "1/1 [==============================] - 0s 303ms/step\n",
      "1/1 [==============================] - 0s 304ms/step\n",
      "1/1 [==============================] - 0s 309ms/step\n",
      "1/1 [==============================] - 0s 324ms/step\n",
      "1/1 [==============================] - 0s 316ms/step\n",
      "1/1 [==============================] - 0s 305ms/step\n",
      "1/1 [==============================] - 0s 303ms/step\n",
      "1/1 [==============================] - 0s 300ms/step\n",
      "1/1 [==============================] - 0s 301ms/step\n",
      "1/1 [==============================] - 0s 308ms/step\n",
      "1/1 [==============================] - 0s 302ms/step\n",
      "1/1 [==============================] - 0s 305ms/step\n",
      "1/1 [==============================] - 0s 307ms/step\n",
      "1/1 [==============================] - 0s 302ms/step\n",
      "1/1 [==============================] - 0s 315ms/step\n",
      "1/1 [==============================] - 0s 116ms/step\n",
      "27/27 [==============================] - 38s 1s/step\n",
      "6.374998e-05 1.0 1.0\n",
      "\n",
      " Epoch 5/50\n",
      "1/1 [==============================] - 0s 304ms/step\n",
      "1/1 [==============================] - 0s 300ms/step\n",
      "1/1 [==============================] - 0s 303ms/step\n",
      "1/1 [==============================] - 0s 312ms/step\n",
      "1/1 [==============================] - 0s 305ms/step\n",
      "1/1 [==============================] - 0s 312ms/step\n",
      "1/1 [==============================] - 0s 305ms/step\n",
      "1/1 [==============================] - 0s 305ms/step\n",
      "1/1 [==============================] - 0s 307ms/step\n",
      "1/1 [==============================] - 0s 306ms/step\n",
      "1/1 [==============================] - 0s 344ms/step\n",
      "1/1 [==============================] - 0s 320ms/step\n",
      "1/1 [==============================] - 0s 302ms/step\n",
      "1/1 [==============================] - 0s 307ms/step\n",
      "1/1 [==============================] - 0s 313ms/step\n",
      "1/1 [==============================] - 0s 308ms/step\n",
      "1/1 [==============================] - 0s 304ms/step\n",
      "1/1 [==============================] - 0s 305ms/step\n",
      "1/1 [==============================] - 0s 309ms/step\n",
      "1/1 [==============================] - 0s 303ms/step\n",
      "1/1 [==============================] - 0s 308ms/step\n",
      "1/1 [==============================] - 0s 329ms/step\n",
      "1/1 [==============================] - 0s 317ms/step\n",
      "1/1 [==============================] - 0s 305ms/step\n",
      "1/1 [==============================] - 0s 298ms/step\n",
      "1/1 [==============================] - 0s 303ms/step\n",
      "1/1 [==============================] - 0s 113ms/step\n",
      "27/27 [==============================] - 38s 1s/step\n",
      "0.10924246 1.0 1.0\n",
      "\n",
      " Epoch 6/50\n",
      "1/1 [==============================] - 0s 307ms/step\n",
      "1/1 [==============================] - 0s 297ms/step\n",
      "1/1 [==============================] - 0s 303ms/step\n",
      "1/1 [==============================] - 0s 299ms/step\n",
      "1/1 [==============================] - 0s 308ms/step\n"
     ]
    },
    {
     "name": "stdout",
     "output_type": "stream",
     "text": [
      "1/1 [==============================] - 0s 316ms/step\n",
      "1/1 [==============================] - 0s 321ms/step\n",
      "1/1 [==============================] - 0s 311ms/step\n",
      "1/1 [==============================] - 0s 308ms/step\n",
      "1/1 [==============================] - 0s 307ms/step\n",
      "1/1 [==============================] - 0s 307ms/step\n",
      "1/1 [==============================] - 0s 302ms/step\n",
      "1/1 [==============================] - 0s 304ms/step\n",
      "1/1 [==============================] - 0s 308ms/step\n",
      "1/1 [==============================] - 0s 307ms/step\n",
      "1/1 [==============================] - 0s 306ms/step\n",
      "1/1 [==============================] - 0s 326ms/step\n",
      "1/1 [==============================] - 0s 322ms/step\n",
      "1/1 [==============================] - 0s 306ms/step\n",
      "1/1 [==============================] - 0s 305ms/step\n",
      "1/1 [==============================] - 0s 308ms/step\n",
      "1/1 [==============================] - 0s 308ms/step\n",
      "1/1 [==============================] - 0s 304ms/step\n",
      "1/1 [==============================] - 0s 303ms/step\n",
      "1/1 [==============================] - 0s 303ms/step\n",
      "1/1 [==============================] - 0s 306ms/step\n",
      "1/1 [==============================] - 0s 115ms/step\n",
      "27/27 [==============================] - 38s 1s/step\n",
      "3.1517113e-05 1.0 1.0\n",
      "\n",
      " Epoch 7/50\n",
      "1/1 [==============================] - 0s 306ms/step\n",
      "1/1 [==============================] - 0s 334ms/step\n",
      "1/1 [==============================] - 0s 325ms/step\n",
      "1/1 [==============================] - 0s 313ms/step\n",
      "1/1 [==============================] - 0s 312ms/step\n",
      "1/1 [==============================] - 0s 337ms/step\n",
      "1/1 [==============================] - 0s 323ms/step\n",
      "1/1 [==============================] - 0s 300ms/step\n",
      "1/1 [==============================] - 0s 305ms/step\n",
      "1/1 [==============================] - 0s 302ms/step\n",
      "1/1 [==============================] - 0s 305ms/step\n",
      "1/1 [==============================] - 0s 300ms/step\n",
      "1/1 [==============================] - 0s 323ms/step\n",
      "1/1 [==============================] - 0s 318ms/step\n",
      "1/1 [==============================] - 0s 305ms/step\n",
      "1/1 [==============================] - 0s 310ms/step\n",
      "1/1 [==============================] - 0s 306ms/step\n",
      "1/1 [==============================] - 0s 297ms/step\n",
      "1/1 [==============================] - 0s 300ms/step\n",
      "1/1 [==============================] - 0s 305ms/step\n",
      "1/1 [==============================] - 0s 317ms/step\n",
      "1/1 [==============================] - 0s 305ms/step\n",
      "1/1 [==============================] - 0s 299ms/step\n",
      "1/1 [==============================] - 0s 324ms/step\n",
      "1/1 [==============================] - 0s 316ms/step\n",
      "1/1 [==============================] - 0s 307ms/step\n",
      "1/1 [==============================] - 0s 114ms/step\n",
      "27/27 [==============================] - 38s 1s/step\n",
      "6.628481e-05 1.0 1.0\n",
      "\n",
      " Epoch 8/50\n",
      "1/1 [==============================] - 0s 301ms/step\n",
      "1/1 [==============================] - 0s 303ms/step\n",
      "1/1 [==============================] - 0s 307ms/step\n",
      "1/1 [==============================] - 0s 305ms/step\n",
      "1/1 [==============================] - 0s 308ms/step\n",
      "1/1 [==============================] - 0s 305ms/step\n",
      "1/1 [==============================] - 0s 301ms/step\n",
      "1/1 [==============================] - 0s 311ms/step\n",
      "1/1 [==============================] - 0s 318ms/step\n",
      "1/1 [==============================] - 0s 312ms/step\n",
      "1/1 [==============================] - 0s 302ms/step\n",
      "1/1 [==============================] - 0s 308ms/step\n",
      "1/1 [==============================] - 0s 303ms/step\n",
      "1/1 [==============================] - 0s 304ms/step\n",
      "1/1 [==============================] - 0s 303ms/step\n",
      "1/1 [==============================] - 0s 310ms/step\n",
      "1/1 [==============================] - 0s 305ms/step\n",
      "1/1 [==============================] - 0s 305ms/step\n",
      "1/1 [==============================] - 0s 300ms/step\n",
      "1/1 [==============================] - 0s 327ms/step\n",
      "1/1 [==============================] - 0s 313ms/step\n",
      "1/1 [==============================] - 0s 297ms/step\n",
      "1/1 [==============================] - 0s 310ms/step\n",
      "1/1 [==============================] - 0s 306ms/step\n",
      "1/1 [==============================] - 0s 305ms/step\n",
      "1/1 [==============================] - 0s 303ms/step\n",
      "1/1 [==============================] - 0s 111ms/step\n",
      "27/27 [==============================] - 38s 1s/step\n",
      "0.024265325 1.0 1.0\n",
      "\n",
      " Epoch 9/50\n",
      "1/1 [==============================] - 0s 301ms/step\n",
      "1/1 [==============================] - 0s 305ms/step\n",
      "1/1 [==============================] - 0s 304ms/step\n",
      "1/1 [==============================] - 0s 315ms/step\n",
      "1/1 [==============================] - 0s 323ms/step\n",
      "1/1 [==============================] - 0s 304ms/step\n",
      "1/1 [==============================] - 0s 288ms/step\n",
      "1/1 [==============================] - 0s 309ms/step\n",
      "1/1 [==============================] - 0s 305ms/step\n",
      "1/1 [==============================] - 0s 297ms/step\n",
      "1/1 [==============================] - 0s 301ms/step\n",
      "1/1 [==============================] - 0s 308ms/step\n",
      "1/1 [==============================] - 0s 303ms/step\n",
      "1/1 [==============================] - 0s 317ms/step\n",
      "1/1 [==============================] - 0s 334ms/step\n",
      "1/1 [==============================] - 0s 340ms/step\n",
      "1/1 [==============================] - 0s 321ms/step\n",
      "1/1 [==============================] - 0s 337ms/step\n",
      "1/1 [==============================] - 0s 310ms/step\n",
      "1/1 [==============================] - 0s 306ms/step\n",
      "1/1 [==============================] - 0s 304ms/step\n",
      "1/1 [==============================] - 0s 300ms/step\n",
      "1/1 [==============================] - 0s 304ms/step\n",
      "1/1 [==============================] - 0s 304ms/step\n",
      "1/1 [==============================] - 0s 306ms/step\n",
      "1/1 [==============================] - 0s 314ms/step\n",
      "1/1 [==============================] - 0s 115ms/step\n",
      "27/27 [==============================] - 39s 1s/step\n",
      "0.13678963 0.98067635 0.9902439\n",
      "\n",
      " Epoch 10/50\n",
      "1/1 [==============================] - 0s 307ms/step\n",
      "1/1 [==============================] - 0s 299ms/step\n",
      "1/1 [==============================] - 0s 300ms/step\n",
      "1/1 [==============================] - 0s 305ms/step\n",
      "1/1 [==============================] - 0s 305ms/step\n",
      "1/1 [==============================] - 0s 302ms/step\n",
      "1/1 [==============================] - 0s 300ms/step\n",
      "1/1 [==============================] - 0s 300ms/step\n",
      "1/1 [==============================] - 0s 304ms/step\n",
      "1/1 [==============================] - 0s 320ms/step\n",
      "1/1 [==============================] - 0s 342ms/step\n",
      "1/1 [==============================] - 0s 310ms/step\n",
      "1/1 [==============================] - 0s 299ms/step\n",
      "1/1 [==============================] - 0s 305ms/step\n",
      "1/1 [==============================] - 0s 305ms/step\n",
      "1/1 [==============================] - 0s 304ms/step\n",
      "1/1 [==============================] - 0s 306ms/step\n",
      "1/1 [==============================] - 0s 299ms/step\n",
      "1/1 [==============================] - 0s 296ms/step\n",
      "1/1 [==============================] - 0s 309ms/step\n",
      "1/1 [==============================] - 0s 300ms/step\n",
      "1/1 [==============================] - 0s 323ms/step\n",
      "1/1 [==============================] - 0s 324ms/step\n",
      "1/1 [==============================] - 0s 310ms/step\n",
      "1/1 [==============================] - 0s 302ms/step\n",
      "1/1 [==============================] - 0s 302ms/step\n",
      "1/1 [==============================] - 0s 112ms/step\n",
      "27/27 [==============================] - 38s 1s/step\n",
      "0.004839355 1.0 1.0\n",
      "\n",
      " Epoch 11/50\n",
      "1/1 [==============================] - 0s 303ms/step\n",
      "1/1 [==============================] - 0s 304ms/step\n",
      "1/1 [==============================] - 0s 304ms/step\n",
      "1/1 [==============================] - 0s 302ms/step\n",
      "1/1 [==============================] - 0s 300ms/step\n",
      "1/1 [==============================] - 0s 329ms/step\n",
      "1/1 [==============================] - 0s 331ms/step\n",
      "1/1 [==============================] - 0s 296ms/step\n",
      "1/1 [==============================] - 0s 303ms/step\n",
      "1/1 [==============================] - 0s 301ms/step\n",
      "1/1 [==============================] - 0s 303ms/step\n",
      "1/1 [==============================] - 0s 293ms/step\n",
      "1/1 [==============================] - 0s 300ms/step\n",
      "1/1 [==============================] - 0s 300ms/step\n",
      "1/1 [==============================] - 0s 299ms/step\n",
      "1/1 [==============================] - 0s 304ms/step\n"
     ]
    },
    {
     "name": "stdout",
     "output_type": "stream",
     "text": [
      "1/1 [==============================] - 0s 329ms/step\n",
      "1/1 [==============================] - 0s 319ms/step\n",
      "1/1 [==============================] - 0s 304ms/step\n",
      "1/1 [==============================] - 0s 313ms/step\n",
      "1/1 [==============================] - 0s 302ms/step\n",
      "1/1 [==============================] - 0s 309ms/step\n",
      "1/1 [==============================] - 0s 307ms/step\n",
      "1/1 [==============================] - 0s 298ms/step\n",
      "1/1 [==============================] - 0s 296ms/step\n",
      "1/1 [==============================] - 0s 302ms/step\n",
      "1/1 [==============================] - 0s 112ms/step\n",
      "27/27 [==============================] - 38s 1s/step\n",
      "0.0026055784 1.0 1.0\n",
      "\n",
      " Epoch 12/50\n",
      "1/1 [==============================] - 0s 306ms/step\n",
      "1/1 [==============================] - 0s 324ms/step\n",
      "1/1 [==============================] - 0s 320ms/step\n",
      "1/1 [==============================] - 0s 315ms/step\n",
      "1/1 [==============================] - 0s 297ms/step\n",
      "1/1 [==============================] - 0s 306ms/step\n",
      "1/1 [==============================] - 0s 303ms/step\n",
      "1/1 [==============================] - 0s 312ms/step\n",
      "1/1 [==============================] - 0s 298ms/step\n",
      "1/1 [==============================] - 0s 304ms/step\n",
      "1/1 [==============================] - 0s 301ms/step\n",
      "1/1 [==============================] - 0s 306ms/step\n",
      "1/1 [==============================] - 0s 315ms/step\n",
      "1/1 [==============================] - 0s 319ms/step\n",
      "1/1 [==============================] - 0s 309ms/step\n",
      "1/1 [==============================] - 0s 298ms/step\n",
      "1/1 [==============================] - 0s 296ms/step\n",
      "1/1 [==============================] - 0s 300ms/step\n",
      "1/1 [==============================] - 0s 304ms/step\n",
      "1/1 [==============================] - 0s 299ms/step\n",
      "1/1 [==============================] - 0s 304ms/step\n",
      "1/1 [==============================] - 0s 302ms/step\n",
      "1/1 [==============================] - 0s 306ms/step\n",
      "1/1 [==============================] - 0s 323ms/step\n",
      "1/1 [==============================] - 0s 334ms/step\n",
      "1/1 [==============================] - 0s 300ms/step\n",
      "1/1 [==============================] - 0s 109ms/step\n",
      "27/27 [==============================] - 38s 1s/step\n",
      "1.9118563e-05 1.0 1.0\n",
      "\n",
      " Epoch 13/50\n",
      "1/1 [==============================] - 0s 301ms/step\n",
      "1/1 [==============================] - 0s 300ms/step\n",
      "1/1 [==============================] - 0s 304ms/step\n",
      "1/1 [==============================] - 0s 301ms/step\n",
      "1/1 [==============================] - 0s 300ms/step\n",
      "1/1 [==============================] - 0s 302ms/step\n",
      "1/1 [==============================] - 0s 294ms/step\n",
      "1/1 [==============================] - 0s 301ms/step\n",
      "1/1 [==============================] - 0s 327ms/step\n",
      "1/1 [==============================] - 0s 323ms/step\n",
      "1/1 [==============================] - 0s 308ms/step\n",
      "1/1 [==============================] - 0s 298ms/step\n",
      "1/1 [==============================] - 0s 303ms/step\n",
      "1/1 [==============================] - 0s 304ms/step\n",
      "1/1 [==============================] - 0s 308ms/step\n",
      "1/1 [==============================] - 0s 304ms/step\n",
      "1/1 [==============================] - 0s 306ms/step\n",
      "1/1 [==============================] - 0s 300ms/step\n",
      "1/1 [==============================] - 0s 297ms/step\n",
      "1/1 [==============================] - 0s 325ms/step\n",
      "1/1 [==============================] - 0s 319ms/step\n",
      "1/1 [==============================] - 0s 301ms/step\n",
      "1/1 [==============================] - 0s 301ms/step\n",
      "1/1 [==============================] - 0s 300ms/step\n",
      "1/1 [==============================] - 0s 295ms/step\n",
      "1/1 [==============================] - 0s 301ms/step\n",
      "1/1 [==============================] - 0s 111ms/step\n",
      "27/27 [==============================] - 38s 1s/step\n",
      "2.5183017e-06 1.0 1.0\n",
      "\n",
      " Epoch 14/50\n",
      "1/1 [==============================] - 0s 300ms/step\n",
      "1/1 [==============================] - 0s 299ms/step\n",
      "1/1 [==============================] - 0s 304ms/step\n",
      "1/1 [==============================] - 0s 304ms/step\n",
      "1/1 [==============================] - 0s 326ms/step\n",
      "1/1 [==============================] - 0s 313ms/step\n",
      "1/1 [==============================] - 0s 301ms/step\n",
      "1/1 [==============================] - 0s 302ms/step\n",
      "1/1 [==============================] - 0s 310ms/step\n",
      "1/1 [==============================] - 0s 306ms/step\n",
      "1/1 [==============================] - 0s 304ms/step\n",
      "1/1 [==============================] - 0s 303ms/step\n",
      "1/1 [==============================] - 0s 305ms/step\n",
      "1/1 [==============================] - 0s 304ms/step\n",
      "1/1 [==============================] - 0s 298ms/step\n",
      "1/1 [==============================] - 0s 319ms/step\n",
      "1/1 [==============================] - 0s 321ms/step\n",
      "1/1 [==============================] - 0s 309ms/step\n",
      "1/1 [==============================] - 0s 306ms/step\n",
      "1/1 [==============================] - 0s 297ms/step\n",
      "1/1 [==============================] - 0s 301ms/step\n",
      "1/1 [==============================] - 0s 305ms/step\n",
      "1/1 [==============================] - 0s 303ms/step\n",
      "1/1 [==============================] - 0s 294ms/step\n",
      "1/1 [==============================] - 0s 305ms/step\n",
      "1/1 [==============================] - 0s 302ms/step\n",
      "1/1 [==============================] - 0s 116ms/step\n",
      "27/27 [==============================] - 38s 1s/step\n",
      "0.0004521578 1.0 1.0\n",
      "\n",
      " Epoch 15/50\n",
      "1/1 [==============================] - 0s 314ms/step\n",
      "1/1 [==============================] - 0s 300ms/step\n",
      "1/1 [==============================] - 0s 297ms/step\n",
      "1/1 [==============================] - 0s 305ms/step\n",
      "1/1 [==============================] - 0s 305ms/step\n",
      "1/1 [==============================] - 0s 306ms/step\n",
      "1/1 [==============================] - 0s 297ms/step\n",
      "1/1 [==============================] - 0s 324ms/step\n",
      "1/1 [==============================] - 0s 297ms/step\n",
      "1/1 [==============================] - 0s 305ms/step\n",
      "1/1 [==============================] - 0s 324ms/step\n",
      "1/1 [==============================] - 0s 316ms/step\n",
      "1/1 [==============================] - 0s 302ms/step\n",
      "1/1 [==============================] - 0s 311ms/step\n",
      "1/1 [==============================] - 0s 307ms/step\n",
      "1/1 [==============================] - 0s 305ms/step\n",
      "1/1 [==============================] - 0s 301ms/step\n",
      "1/1 [==============================] - 0s 305ms/step\n",
      "1/1 [==============================] - 0s 303ms/step\n",
      "1/1 [==============================] - 0s 307ms/step\n",
      "1/1 [==============================] - 0s 301ms/step\n",
      "1/1 [==============================] - 0s 310ms/step\n",
      "1/1 [==============================] - 0s 324ms/step\n",
      "1/1 [==============================] - 0s 311ms/step\n",
      "1/1 [==============================] - 0s 297ms/step\n",
      "1/1 [==============================] - 0s 302ms/step\n",
      "1/1 [==============================] - 0s 112ms/step\n",
      "27/27 [==============================] - 38s 1s/step\n",
      "1.0743895e-05 1.0 1.0\n",
      "\n",
      " Epoch 16/50\n",
      "1/1 [==============================] - 0s 299ms/step\n",
      "1/1 [==============================] - 0s 297ms/step\n",
      "1/1 [==============================] - 0s 300ms/step\n",
      "1/1 [==============================] - 0s 296ms/step\n",
      "1/1 [==============================] - 0s 303ms/step\n",
      "1/1 [==============================] - 0s 305ms/step\n",
      "1/1 [==============================] - 0s 328ms/step\n",
      "1/1 [==============================] - 0s 310ms/step\n",
      "1/1 [==============================] - 0s 303ms/step\n",
      "1/1 [==============================] - 0s 305ms/step\n",
      "1/1 [==============================] - 0s 306ms/step\n",
      "1/1 [==============================] - 0s 303ms/step\n",
      "1/1 [==============================] - 0s 308ms/step\n",
      "1/1 [==============================] - 0s 306ms/step\n",
      "1/1 [==============================] - 0s 303ms/step\n",
      "1/1 [==============================] - 0s 300ms/step\n",
      "1/1 [==============================] - 0s 304ms/step\n",
      "1/1 [==============================] - 0s 314ms/step\n",
      "1/1 [==============================] - 0s 317ms/step\n",
      "1/1 [==============================] - 0s 306ms/step\n",
      "1/1 [==============================] - 0s 299ms/step\n",
      "1/1 [==============================] - 0s 302ms/step\n",
      "1/1 [==============================] - 0s 304ms/step\n",
      "1/1 [==============================] - 0s 295ms/step\n",
      "1/1 [==============================] - 0s 301ms/step\n",
      "1/1 [==============================] - 0s 303ms/step\n",
      "1/1 [==============================] - 0s 111ms/step\n",
      "27/27 [==============================] - 38s 1s/step\n"
     ]
    },
    {
     "name": "stdout",
     "output_type": "stream",
     "text": [
      "8.590427e-05 1.0 1.0\n",
      "\n",
      " Epoch 17/50\n",
      "1/1 [==============================] - 0s 300ms/step\n",
      "1/1 [==============================] - 0s 303ms/step\n",
      "1/1 [==============================] - 0s 320ms/step\n",
      "1/1 [==============================] - 0s 331ms/step\n",
      "1/1 [==============================] - 0s 307ms/step\n",
      "1/1 [==============================] - 0s 307ms/step\n",
      "1/1 [==============================] - 0s 300ms/step\n",
      "1/1 [==============================] - 0s 301ms/step\n",
      "1/1 [==============================] - 0s 298ms/step\n",
      "1/1 [==============================] - 0s 289ms/step\n",
      "1/1 [==============================] - 0s 298ms/step\n",
      "1/1 [==============================] - 0s 302ms/step\n",
      "1/1 [==============================] - 0s 289ms/step\n",
      "1/1 [==============================] - 0s 317ms/step\n",
      "1/1 [==============================] - 0s 316ms/step\n",
      "1/1 [==============================] - 0s 300ms/step\n",
      "1/1 [==============================] - 0s 301ms/step\n",
      "1/1 [==============================] - 0s 299ms/step\n",
      "1/1 [==============================] - 0s 299ms/step\n",
      "1/1 [==============================] - 0s 301ms/step\n",
      "1/1 [==============================] - 0s 305ms/step\n",
      "1/1 [==============================] - 0s 298ms/step\n",
      "1/1 [==============================] - 0s 303ms/step\n",
      "1/1 [==============================] - 0s 304ms/step\n",
      "1/1 [==============================] - 0s 313ms/step\n",
      "1/1 [==============================] - 0s 312ms/step\n",
      "1/1 [==============================] - 0s 121ms/step\n",
      "27/27 [==============================] - 38s 1s/step\n",
      "3.799813e-06 1.0 1.0\n",
      "\n",
      " Epoch 18/50\n",
      "1/1 [==============================] - 0s 304ms/step\n",
      "1/1 [==============================] - 0s 295ms/step\n",
      "1/1 [==============================] - 0s 307ms/step\n",
      "1/1 [==============================] - 0s 301ms/step\n",
      "1/1 [==============================] - 0s 301ms/step\n",
      "1/1 [==============================] - 0s 310ms/step\n",
      "1/1 [==============================] - 0s 303ms/step\n",
      "1/1 [==============================] - 0s 300ms/step\n",
      "1/1 [==============================] - 0s 308ms/step\n",
      "1/1 [==============================] - 0s 314ms/step\n",
      "1/1 [==============================] - 0s 327ms/step\n",
      "1/1 [==============================] - 0s 316ms/step\n",
      "1/1 [==============================] - 0s 305ms/step\n",
      "1/1 [==============================] - 0s 306ms/step\n",
      "1/1 [==============================] - 0s 305ms/step\n",
      "1/1 [==============================] - 0s 296ms/step\n",
      "1/1 [==============================] - 0s 299ms/step\n",
      "1/1 [==============================] - 0s 301ms/step\n",
      "1/1 [==============================] - 0s 299ms/step\n",
      "1/1 [==============================] - 0s 308ms/step\n",
      "1/1 [==============================] - 0s 313ms/step\n",
      "1/1 [==============================] - 0s 323ms/step\n",
      "1/1 [==============================] - 0s 299ms/step\n",
      "1/1 [==============================] - 0s 299ms/step\n",
      "1/1 [==============================] - 0s 303ms/step\n",
      "1/1 [==============================] - 0s 305ms/step\n",
      "1/1 [==============================] - 0s 117ms/step\n",
      "27/27 [==============================] - 38s 1s/step\n",
      "0.00017777579 1.0 1.0\n",
      "\n",
      " Epoch 19/50\n",
      "1/1 [==============================] - 0s 306ms/step\n",
      "1/1 [==============================] - 0s 295ms/step\n",
      "1/1 [==============================] - 0s 302ms/step\n",
      "1/1 [==============================] - 0s 308ms/step\n",
      "1/1 [==============================] - 0s 312ms/step\n",
      "1/1 [==============================] - 0s 327ms/step\n",
      "1/1 [==============================] - 0s 321ms/step\n",
      "1/1 [==============================] - 0s 302ms/step\n",
      "1/1 [==============================] - 0s 307ms/step\n",
      "1/1 [==============================] - 0s 303ms/step\n",
      "1/1 [==============================] - 0s 299ms/step\n",
      "1/1 [==============================] - 0s 314ms/step\n",
      "1/1 [==============================] - 0s 299ms/step\n",
      "1/1 [==============================] - 0s 311ms/step\n",
      "1/1 [==============================] - 0s 306ms/step\n",
      "1/1 [==============================] - 0s 306ms/step\n",
      "1/1 [==============================] - 0s 325ms/step\n",
      "1/1 [==============================] - 0s 327ms/step\n",
      "1/1 [==============================] - 0s 308ms/step\n",
      "1/1 [==============================] - 0s 303ms/step\n",
      "1/1 [==============================] - 0s 303ms/step\n",
      "1/1 [==============================] - 0s 303ms/step\n",
      "1/1 [==============================] - 0s 309ms/step\n",
      "1/1 [==============================] - 0s 306ms/step\n",
      "1/1 [==============================] - 0s 303ms/step\n",
      "1/1 [==============================] - 0s 303ms/step\n",
      "1/1 [==============================] - 0s 112ms/step\n",
      "27/27 [==============================] - 38s 1s/step\n",
      "4.3958685e-06 1.0 1.0\n",
      "\n",
      " Epoch 20/50\n",
      "1/1 [==============================] - 0s 321ms/step\n",
      "1/1 [==============================] - 0s 316ms/step\n",
      "1/1 [==============================] - 0s 299ms/step\n",
      "1/1 [==============================] - 0s 311ms/step\n",
      "1/1 [==============================] - 0s 306ms/step\n",
      "1/1 [==============================] - 0s 297ms/step\n",
      "1/1 [==============================] - 0s 311ms/step\n",
      "1/1 [==============================] - 0s 302ms/step\n",
      "1/1 [==============================] - 0s 298ms/step\n",
      "1/1 [==============================] - 0s 303ms/step\n",
      "1/1 [==============================] - 0s 297ms/step\n",
      "1/1 [==============================] - 0s 312ms/step\n",
      "1/1 [==============================] - 0s 316ms/step\n",
      "1/1 [==============================] - 0s 314ms/step\n",
      "1/1 [==============================] - 0s 304ms/step\n",
      "1/1 [==============================] - 0s 301ms/step\n",
      "1/1 [==============================] - 0s 306ms/step\n",
      "1/1 [==============================] - 0s 299ms/step\n",
      "1/1 [==============================] - 0s 301ms/step\n",
      "1/1 [==============================] - 0s 306ms/step\n",
      "1/1 [==============================] - 0s 303ms/step\n",
      "1/1 [==============================] - 0s 299ms/step\n",
      "1/1 [==============================] - 0s 298ms/step\n",
      "1/1 [==============================] - 0s 321ms/step\n",
      "1/1 [==============================] - 0s 309ms/step\n",
      "1/1 [==============================] - 0s 307ms/step\n",
      "1/1 [==============================] - 0s 116ms/step\n",
      "27/27 [==============================] - 39s 1s/step\n",
      "2.5481072e-06 1.0 1.0\n",
      "\n",
      " Epoch 21/50\n",
      "1/1 [==============================] - 0s 310ms/step\n",
      "1/1 [==============================] - 0s 309ms/step\n",
      "1/1 [==============================] - 0s 301ms/step\n",
      "1/1 [==============================] - 0s 303ms/step\n",
      "1/1 [==============================] - 0s 307ms/step\n",
      "1/1 [==============================] - 0s 307ms/step\n",
      "1/1 [==============================] - 0s 303ms/step\n",
      "1/1 [==============================] - 0s 330ms/step\n",
      "1/1 [==============================] - 0s 326ms/step\n",
      "1/1 [==============================] - 0s 305ms/step\n",
      "1/1 [==============================] - 0s 306ms/step\n",
      "1/1 [==============================] - 0s 311ms/step\n",
      "1/1 [==============================] - 0s 300ms/step\n",
      "1/1 [==============================] - 0s 318ms/step\n",
      "1/1 [==============================] - 0s 304ms/step\n",
      "1/1 [==============================] - 0s 303ms/step\n",
      "1/1 [==============================] - 0s 313ms/step\n",
      "1/1 [==============================] - 0s 309ms/step\n",
      "1/1 [==============================] - 0s 321ms/step\n",
      "1/1 [==============================] - 0s 321ms/step\n",
      "1/1 [==============================] - 0s 304ms/step\n",
      "1/1 [==============================] - 0s 304ms/step\n",
      "1/1 [==============================] - 0s 305ms/step\n",
      "1/1 [==============================] - 0s 305ms/step\n",
      "1/1 [==============================] - 0s 308ms/step\n",
      "1/1 [==============================] - 0s 308ms/step\n",
      "1/1 [==============================] - 0s 115ms/step\n",
      "27/27 [==============================] - 38s 1s/step\n",
      "0.00017181538 1.0 1.0\n",
      "\n",
      " Epoch 22/50\n",
      "1/1 [==============================] - 0s 304ms/step\n",
      "1/1 [==============================] - 0s 304ms/step\n",
      "1/1 [==============================] - 0s 324ms/step\n",
      "1/1 [==============================] - 0s 317ms/step\n",
      "1/1 [==============================] - 0s 302ms/step\n",
      "1/1 [==============================] - 0s 297ms/step\n",
      "1/1 [==============================] - 0s 306ms/step\n",
      "1/1 [==============================] - 0s 309ms/step\n",
      "1/1 [==============================] - 0s 297ms/step\n",
      "1/1 [==============================] - 0s 299ms/step\n"
     ]
    },
    {
     "name": "stdout",
     "output_type": "stream",
     "text": [
      "1/1 [==============================] - 0s 300ms/step\n",
      "1/1 [==============================] - 0s 300ms/step\n",
      "1/1 [==============================] - 0s 305ms/step\n",
      "1/1 [==============================] - 0s 302ms/step\n",
      "1/1 [==============================] - 0s 315ms/step\n",
      "1/1 [==============================] - 0s 301ms/step\n",
      "1/1 [==============================] - 0s 295ms/step\n",
      "1/1 [==============================] - 0s 303ms/step\n",
      "1/1 [==============================] - 0s 302ms/step\n",
      "1/1 [==============================] - 0s 311ms/step\n",
      "1/1 [==============================] - 0s 303ms/step\n",
      "1/1 [==============================] - 0s 307ms/step\n",
      "1/1 [==============================] - 0s 302ms/step\n",
      "1/1 [==============================] - 0s 317ms/step\n",
      "1/1 [==============================] - 0s 304ms/step\n",
      "1/1 [==============================] - 0s 324ms/step\n",
      "1/1 [==============================] - 0s 117ms/step\n",
      "27/27 [==============================] - 38s 1s/step\n",
      "3.9356666e-05 1.0 1.0\n",
      "\n",
      " Epoch 23/50\n",
      "1/1 [==============================] - 0s 306ms/step\n",
      "1/1 [==============================] - 0s 303ms/step\n",
      "1/1 [==============================] - 0s 300ms/step\n",
      "1/1 [==============================] - 0s 304ms/step\n",
      "1/1 [==============================] - 0s 307ms/step\n",
      "1/1 [==============================] - 0s 302ms/step\n",
      "1/1 [==============================] - 0s 296ms/step\n",
      "1/1 [==============================] - 0s 295ms/step\n",
      "1/1 [==============================] - 0s 300ms/step\n",
      "1/1 [==============================] - 0s 327ms/step\n",
      "1/1 [==============================] - 0s 324ms/step\n",
      "1/1 [==============================] - 0s 299ms/step\n",
      "1/1 [==============================] - 0s 302ms/step\n",
      "1/1 [==============================] - 0s 298ms/step\n",
      "1/1 [==============================] - 0s 299ms/step\n",
      "1/1 [==============================] - 0s 300ms/step\n",
      "1/1 [==============================] - 0s 306ms/step\n",
      "1/1 [==============================] - 0s 318ms/step\n",
      "1/1 [==============================] - 0s 307ms/step\n",
      "1/1 [==============================] - 0s 303ms/step\n",
      "1/1 [==============================] - 0s 298ms/step\n",
      "1/1 [==============================] - 0s 312ms/step\n",
      "1/1 [==============================] - 0s 320ms/step\n",
      "1/1 [==============================] - 0s 305ms/step\n",
      "1/1 [==============================] - 0s 301ms/step\n",
      "1/1 [==============================] - 0s 306ms/step\n",
      "1/1 [==============================] - 0s 107ms/step\n",
      "27/27 [==============================] - 38s 1s/step\n",
      "3.2931666e-06 1.0 1.0\n",
      "\n",
      " Epoch 24/50\n",
      "1/1 [==============================] - 0s 301ms/step\n",
      "1/1 [==============================] - 0s 304ms/step\n",
      "1/1 [==============================] - 0s 301ms/step\n",
      "1/1 [==============================] - 0s 305ms/step\n",
      "1/1 [==============================] - 0s 304ms/step\n",
      "1/1 [==============================] - 0s 323ms/step\n",
      "1/1 [==============================] - 0s 314ms/step\n",
      "1/1 [==============================] - 0s 302ms/step\n",
      "1/1 [==============================] - 0s 300ms/step\n",
      "1/1 [==============================] - 0s 309ms/step\n",
      "1/1 [==============================] - 0s 302ms/step\n",
      "1/1 [==============================] - 0s 307ms/step\n",
      "1/1 [==============================] - 0s 305ms/step\n",
      "1/1 [==============================] - 0s 303ms/step\n",
      "1/1 [==============================] - 0s 307ms/step\n",
      "1/1 [==============================] - 0s 302ms/step\n",
      "1/1 [==============================] - 0s 316ms/step\n",
      "1/1 [==============================] - 0s 334ms/step\n",
      "1/1 [==============================] - 0s 308ms/step\n",
      "1/1 [==============================] - 0s 305ms/step\n",
      "1/1 [==============================] - 0s 305ms/step\n",
      "1/1 [==============================] - 0s 308ms/step\n",
      "1/1 [==============================] - 0s 304ms/step\n",
      "1/1 [==============================] - 0s 304ms/step\n",
      "1/1 [==============================] - 0s 307ms/step\n",
      "1/1 [==============================] - 0s 308ms/step\n",
      "1/1 [==============================] - 0s 112ms/step\n",
      "27/27 [==============================] - 38s 1s/step\n",
      "2.875932e-06 1.0 1.0\n",
      "\n",
      " Epoch 25/50\n",
      "1/1 [==============================] - 0s 293ms/step\n",
      "1/1 [==============================] - 0s 324ms/step\n",
      "1/1 [==============================] - 0s 321ms/step\n",
      "1/1 [==============================] - 0s 307ms/step\n",
      "1/1 [==============================] - 0s 302ms/step\n",
      "1/1 [==============================] - 0s 302ms/step\n",
      "1/1 [==============================] - 0s 307ms/step\n",
      "1/1 [==============================] - 0s 304ms/step\n",
      "1/1 [==============================] - 0s 301ms/step\n",
      "1/1 [==============================] - 0s 305ms/step\n",
      "1/1 [==============================] - 0s 312ms/step\n",
      "1/1 [==============================] - 0s 302ms/step\n",
      "1/1 [==============================] - 0s 321ms/step\n",
      "1/1 [==============================] - 0s 319ms/step\n",
      "1/1 [==============================] - 0s 309ms/step\n",
      "1/1 [==============================] - 0s 306ms/step\n",
      "1/1 [==============================] - 0s 302ms/step\n",
      "1/1 [==============================] - 0s 310ms/step\n",
      "1/1 [==============================] - 0s 305ms/step\n",
      "1/1 [==============================] - 0s 305ms/step\n",
      "1/1 [==============================] - 0s 304ms/step\n",
      "1/1 [==============================] - 0s 302ms/step\n",
      "1/1 [==============================] - 0s 296ms/step\n",
      "1/1 [==============================] - 0s 329ms/step\n",
      "1/1 [==============================] - 0s 306ms/step\n",
      "1/1 [==============================] - 0s 307ms/step\n",
      "1/1 [==============================] - 0s 113ms/step\n",
      "27/27 [==============================] - 38s 1s/step\n",
      "5.2154087e-07 1.0 1.0\n",
      "\n",
      " Epoch 26/50\n",
      "1/1 [==============================] - 0s 308ms/step\n",
      "1/1 [==============================] - 0s 307ms/step\n",
      "1/1 [==============================] - 0s 301ms/step\n",
      "1/1 [==============================] - 0s 300ms/step\n",
      "1/1 [==============================] - 0s 302ms/step\n",
      "1/1 [==============================] - 0s 300ms/step\n",
      "1/1 [==============================] - 0s 302ms/step\n",
      "1/1 [==============================] - 0s 302ms/step\n",
      "1/1 [==============================] - 0s 322ms/step\n",
      "1/1 [==============================] - 0s 313ms/step\n",
      "1/1 [==============================] - 0s 301ms/step\n",
      "1/1 [==============================] - 0s 304ms/step\n",
      "1/1 [==============================] - 0s 310ms/step\n",
      "1/1 [==============================] - 0s 303ms/step\n",
      "1/1 [==============================] - 0s 310ms/step\n",
      "1/1 [==============================] - 0s 305ms/step\n",
      "1/1 [==============================] - 0s 301ms/step\n",
      "1/1 [==============================] - 0s 305ms/step\n",
      "1/1 [==============================] - 0s 302ms/step\n",
      "1/1 [==============================] - 0s 318ms/step\n",
      "1/1 [==============================] - 0s 316ms/step\n",
      "1/1 [==============================] - 0s 300ms/step\n",
      "1/1 [==============================] - 0s 308ms/step\n",
      "1/1 [==============================] - 0s 294ms/step\n",
      "1/1 [==============================] - 0s 306ms/step\n",
      "1/1 [==============================] - 0s 300ms/step\n",
      "1/1 [==============================] - 0s 113ms/step\n",
      "27/27 [==============================] - 38s 1s/step\n",
      "1.926793e-05 1.0 1.0\n",
      "\n",
      " Epoch 27/50\n",
      "1/1 [==============================] - 0s 297ms/step\n",
      "1/1 [==============================] - 0s 304ms/step\n",
      "1/1 [==============================] - 0s 302ms/step\n",
      "1/1 [==============================] - 0s 326ms/step\n",
      "1/1 [==============================] - 0s 309ms/step\n",
      "1/1 [==============================] - 0s 306ms/step\n",
      "1/1 [==============================] - 0s 306ms/step\n",
      "1/1 [==============================] - 0s 307ms/step\n",
      "1/1 [==============================] - 0s 305ms/step\n",
      "1/1 [==============================] - 0s 305ms/step\n",
      "1/1 [==============================] - 0s 307ms/step\n",
      "1/1 [==============================] - 0s 305ms/step\n",
      "1/1 [==============================] - 0s 302ms/step\n",
      "1/1 [==============================] - 0s 301ms/step\n",
      "1/1 [==============================] - 0s 303ms/step\n",
      "1/1 [==============================] - 0s 326ms/step\n",
      "1/1 [==============================] - 0s 313ms/step\n",
      "1/1 [==============================] - 0s 304ms/step\n",
      "1/1 [==============================] - 0s 308ms/step\n",
      "1/1 [==============================] - 0s 300ms/step\n",
      "1/1 [==============================] - 0s 304ms/step\n"
     ]
    },
    {
     "name": "stdout",
     "output_type": "stream",
     "text": [
      "1/1 [==============================] - 0s 314ms/step\n",
      "1/1 [==============================] - 0s 300ms/step\n",
      "1/1 [==============================] - 0s 293ms/step\n",
      "1/1 [==============================] - 0s 302ms/step\n",
      "1/1 [==============================] - 0s 310ms/step\n",
      "1/1 [==============================] - 0s 115ms/step\n",
      "27/27 [==============================] - 38s 1s/step\n",
      "0.00011947597 1.0 1.0\n",
      "\n",
      " Epoch 28/50\n",
      "1/1 [==============================] - 0s 314ms/step\n",
      "1/1 [==============================] - 0s 304ms/step\n",
      "1/1 [==============================] - 0s 298ms/step\n",
      "1/1 [==============================] - 0s 300ms/step\n",
      "1/1 [==============================] - 0s 299ms/step\n",
      "1/1 [==============================] - 0s 305ms/step\n",
      "1/1 [==============================] - 0s 297ms/step\n",
      "1/1 [==============================] - 0s 302ms/step\n",
      "1/1 [==============================] - 0s 304ms/step\n",
      "1/1 [==============================] - 0s 299ms/step\n",
      "1/1 [==============================] - 0s 306ms/step\n",
      "1/1 [==============================] - 0s 313ms/step\n",
      "1/1 [==============================] - 0s 310ms/step\n",
      "1/1 [==============================] - 0s 297ms/step\n",
      "1/1 [==============================] - 0s 305ms/step\n",
      "1/1 [==============================] - 0s 302ms/step\n",
      "1/1 [==============================] - 0s 297ms/step\n",
      "1/1 [==============================] - 0s 306ms/step\n",
      "1/1 [==============================] - 0s 300ms/step\n",
      "1/1 [==============================] - 0s 300ms/step\n",
      "1/1 [==============================] - 0s 301ms/step\n",
      "1/1 [==============================] - 0s 304ms/step\n",
      "1/1 [==============================] - 0s 321ms/step\n",
      "1/1 [==============================] - 0s 314ms/step\n",
      "1/1 [==============================] - 0s 303ms/step\n",
      "1/1 [==============================] - 0s 301ms/step\n",
      "1/1 [==============================] - 0s 111ms/step\n",
      "27/27 [==============================] - 38s 1s/step\n",
      "1.1920946e-06 1.0 1.0\n",
      "\n",
      " Epoch 29/50\n",
      "1/1 [==============================] - 0s 307ms/step\n",
      "1/1 [==============================] - 0s 303ms/step\n",
      "1/1 [==============================] - 0s 305ms/step\n",
      "1/1 [==============================] - 0s 300ms/step\n",
      "1/1 [==============================] - 0s 300ms/step\n",
      "1/1 [==============================] - 0s 309ms/step\n",
      "1/1 [==============================] - 0s 319ms/step\n",
      "1/1 [==============================] - 0s 321ms/step\n",
      "1/1 [==============================] - 0s 322ms/step\n",
      "1/1 [==============================] - 0s 324ms/step\n",
      "1/1 [==============================] - 0s 304ms/step\n",
      "1/1 [==============================] - 0s 303ms/step\n",
      "1/1 [==============================] - 0s 304ms/step\n",
      "1/1 [==============================] - 0s 304ms/step\n",
      "1/1 [==============================] - 0s 303ms/step\n",
      "1/1 [==============================] - 0s 302ms/step\n",
      "1/1 [==============================] - 0s 299ms/step\n",
      "1/1 [==============================] - 0s 320ms/step\n",
      "1/1 [==============================] - 0s 325ms/step\n",
      "1/1 [==============================] - 0s 298ms/step\n",
      "1/1 [==============================] - 0s 302ms/step\n",
      "1/1 [==============================] - 0s 303ms/step\n",
      "1/1 [==============================] - 0s 317ms/step\n",
      "1/1 [==============================] - 0s 303ms/step\n",
      "1/1 [==============================] - 0s 302ms/step\n",
      "1/1 [==============================] - 0s 301ms/step\n",
      "1/1 [==============================] - 0s 115ms/step\n",
      "27/27 [==============================] - 38s 1s/step\n",
      "1.3411046e-07 1.0 1.0\n",
      "\n",
      " Epoch 30/50\n",
      "1/1 [==============================] - 0s 306ms/step\n",
      "1/1 [==============================] - 0s 304ms/step\n",
      "1/1 [==============================] - 0s 311ms/step\n",
      "1/1 [==============================] - 0s 319ms/step\n",
      "1/1 [==============================] - 0s 303ms/step\n",
      "1/1 [==============================] - 0s 301ms/step\n",
      "1/1 [==============================] - 0s 306ms/step\n",
      "1/1 [==============================] - 0s 304ms/step\n",
      "1/1 [==============================] - 0s 299ms/step\n",
      "1/1 [==============================] - 0s 299ms/step\n",
      "1/1 [==============================] - 0s 304ms/step\n",
      "1/1 [==============================] - 0s 301ms/step\n",
      "1/1 [==============================] - 0s 302ms/step\n",
      "1/1 [==============================] - 0s 319ms/step\n",
      "1/1 [==============================] - 0s 317ms/step\n",
      "1/1 [==============================] - 0s 314ms/step\n",
      "1/1 [==============================] - 0s 308ms/step\n",
      "1/1 [==============================] - 0s 318ms/step\n",
      "1/1 [==============================] - 0s 304ms/step\n",
      "1/1 [==============================] - 0s 318ms/step\n",
      "1/1 [==============================] - 0s 308ms/step\n",
      "1/1 [==============================] - 0s 293ms/step\n",
      "1/1 [==============================] - 0s 313ms/step\n",
      "1/1 [==============================] - 0s 312ms/step\n",
      "1/1 [==============================] - 0s 329ms/step\n",
      "1/1 [==============================] - 0s 326ms/step\n",
      "1/1 [==============================] - 0s 110ms/step\n",
      "27/27 [==============================] - 39s 1s/step\n",
      "7.450585e-07 1.0 1.0\n",
      "\n",
      " Epoch 31/50\n",
      "1/1 [==============================] - 0s 305ms/step\n",
      "1/1 [==============================] - 0s 302ms/step\n",
      "1/1 [==============================] - 0s 301ms/step\n",
      "1/1 [==============================] - 0s 300ms/step\n",
      "1/1 [==============================] - 0s 303ms/step\n",
      "1/1 [==============================] - 0s 300ms/step\n",
      "1/1 [==============================] - 0s 303ms/step\n",
      "1/1 [==============================] - 0s 303ms/step\n",
      "1/1 [==============================] - 0s 317ms/step\n",
      "1/1 [==============================] - 0s 332ms/step\n",
      "1/1 [==============================] - 0s 313ms/step\n",
      "1/1 [==============================] - 0s 305ms/step\n",
      "1/1 [==============================] - 0s 303ms/step\n",
      "1/1 [==============================] - 0s 306ms/step\n",
      "1/1 [==============================] - 0s 301ms/step\n",
      "1/1 [==============================] - 0s 299ms/step\n",
      "1/1 [==============================] - 0s 301ms/step\n",
      "1/1 [==============================] - 0s 299ms/step\n",
      "1/1 [==============================] - 0s 307ms/step\n",
      "1/1 [==============================] - 0s 309ms/step\n",
      "1/1 [==============================] - 0s 318ms/step\n",
      "1/1 [==============================] - 0s 292ms/step\n",
      "1/1 [==============================] - 0s 307ms/step\n",
      "1/1 [==============================] - 0s 300ms/step\n",
      "1/1 [==============================] - 0s 305ms/step\n",
      "1/1 [==============================] - 0s 307ms/step\n",
      "1/1 [==============================] - 0s 113ms/step\n",
      "27/27 [==============================] - 38s 1s/step\n",
      "1.2666003e-06 1.0 1.0\n",
      "\n",
      " Epoch 32/50\n",
      "1/1 [==============================] - 0s 304ms/step\n",
      "1/1 [==============================] - 0s 297ms/step\n",
      "1/1 [==============================] - 0s 299ms/step\n",
      "1/1 [==============================] - 0s 309ms/step\n",
      "1/1 [==============================] - 0s 332ms/step\n",
      "1/1 [==============================] - 0s 325ms/step\n",
      "1/1 [==============================] - 0s 308ms/step\n",
      "1/1 [==============================] - 0s 311ms/step\n",
      "1/1 [==============================] - 0s 304ms/step\n",
      "1/1 [==============================] - 0s 305ms/step\n",
      "1/1 [==============================] - 0s 305ms/step\n",
      "1/1 [==============================] - 0s 307ms/step\n",
      "1/1 [==============================] - 0s 309ms/step\n",
      "1/1 [==============================] - 0s 305ms/step\n",
      "1/1 [==============================] - 0s 302ms/step\n",
      "1/1 [==============================] - 0s 324ms/step\n",
      "1/1 [==============================] - 0s 321ms/step\n",
      "1/1 [==============================] - 0s 302ms/step\n",
      "1/1 [==============================] - 0s 307ms/step\n",
      "1/1 [==============================] - 0s 301ms/step\n",
      "1/1 [==============================] - 0s 305ms/step\n",
      "1/1 [==============================] - 0s 305ms/step\n",
      "1/1 [==============================] - 0s 302ms/step\n",
      "1/1 [==============================] - 0s 304ms/step\n",
      "1/1 [==============================] - 0s 299ms/step\n",
      "1/1 [==============================] - 0s 302ms/step\n",
      "1/1 [==============================] - 0s 119ms/step\n",
      "27/27 [==============================] - 38s 1s/step\n",
      "6.258491e-07 1.0 1.0\n",
      "\n",
      " Epoch 33/50\n",
      "1/1 [==============================] - 0s 329ms/step\n",
      "1/1 [==============================] - 0s 311ms/step\n",
      "1/1 [==============================] - 0s 301ms/step\n"
     ]
    },
    {
     "name": "stdout",
     "output_type": "stream",
     "text": [
      "1/1 [==============================] - 0s 301ms/step\n",
      "1/1 [==============================] - 0s 306ms/step\n",
      "1/1 [==============================] - 0s 303ms/step\n",
      "1/1 [==============================] - 0s 309ms/step\n",
      "1/1 [==============================] - 0s 310ms/step\n",
      "1/1 [==============================] - 0s 303ms/step\n",
      "1/1 [==============================] - 0s 311ms/step\n",
      "1/1 [==============================] - 0s 304ms/step\n",
      "1/1 [==============================] - 0s 326ms/step\n",
      "1/1 [==============================] - 0s 325ms/step\n",
      "1/1 [==============================] - 0s 307ms/step\n",
      "1/1 [==============================] - 0s 308ms/step\n",
      "1/1 [==============================] - 0s 303ms/step\n",
      "1/1 [==============================] - 0s 302ms/step\n",
      "1/1 [==============================] - 0s 301ms/step\n",
      "1/1 [==============================] - 0s 300ms/step\n",
      "1/1 [==============================] - 0s 298ms/step\n",
      "1/1 [==============================] - 0s 306ms/step\n",
      "1/1 [==============================] - 0s 310ms/step\n",
      "1/1 [==============================] - 0s 316ms/step\n",
      "1/1 [==============================] - 0s 322ms/step\n",
      "1/1 [==============================] - 0s 306ms/step\n",
      "1/1 [==============================] - 0s 312ms/step\n",
      "1/1 [==============================] - 0s 109ms/step\n",
      "27/27 [==============================] - 38s 1s/step\n",
      "4.8237413e-05 1.0 1.0\n",
      "\n",
      " Epoch 34/50\n",
      "1/1 [==============================] - 0s 302ms/step\n",
      "1/1 [==============================] - 0s 308ms/step\n",
      "1/1 [==============================] - 0s 306ms/step\n",
      "1/1 [==============================] - 0s 307ms/step\n",
      "1/1 [==============================] - 0s 299ms/step\n",
      "1/1 [==============================] - 0s 303ms/step\n",
      "1/1 [==============================] - 0s 319ms/step\n",
      "1/1 [==============================] - 0s 317ms/step\n",
      "1/1 [==============================] - 0s 303ms/step\n",
      "1/1 [==============================] - 0s 306ms/step\n",
      "1/1 [==============================] - 0s 301ms/step\n",
      "1/1 [==============================] - 0s 302ms/step\n",
      "1/1 [==============================] - 0s 294ms/step\n",
      "1/1 [==============================] - 0s 303ms/step\n",
      "1/1 [==============================] - 0s 299ms/step\n",
      "1/1 [==============================] - 0s 304ms/step\n",
      "1/1 [==============================] - 0s 306ms/step\n",
      "1/1 [==============================] - 0s 316ms/step\n",
      "1/1 [==============================] - 0s 326ms/step\n",
      "1/1 [==============================] - 0s 302ms/step\n",
      "1/1 [==============================] - 0s 303ms/step\n",
      "1/1 [==============================] - 0s 308ms/step\n",
      "1/1 [==============================] - 0s 305ms/step\n",
      "1/1 [==============================] - 0s 301ms/step\n",
      "1/1 [==============================] - 0s 302ms/step\n",
      "1/1 [==============================] - 0s 303ms/step\n",
      "1/1 [==============================] - 0s 115ms/step\n",
      "27/27 [==============================] - 38s 1s/step\n",
      "1.0430813e-07 1.0 1.0\n",
      "\n",
      " Epoch 35/50\n",
      "1/1 [==============================] - 0s 300ms/step\n",
      "1/1 [==============================] - 0s 297ms/step\n",
      "1/1 [==============================] - 0s 327ms/step\n",
      "1/1 [==============================] - 0s 312ms/step\n",
      "1/1 [==============================] - 0s 307ms/step\n",
      "1/1 [==============================] - 0s 301ms/step\n",
      "1/1 [==============================] - 0s 306ms/step\n",
      "1/1 [==============================] - 0s 304ms/step\n",
      "1/1 [==============================] - 0s 303ms/step\n",
      "1/1 [==============================] - 0s 305ms/step\n",
      "1/1 [==============================] - 0s 302ms/step\n",
      "1/1 [==============================] - 0s 297ms/step\n",
      "1/1 [==============================] - 0s 300ms/step\n",
      "1/1 [==============================] - 0s 326ms/step\n",
      "1/1 [==============================] - 0s 323ms/step\n",
      "1/1 [==============================] - 0s 302ms/step\n",
      "1/1 [==============================] - 0s 306ms/step\n",
      "1/1 [==============================] - 0s 304ms/step\n",
      "1/1 [==============================] - 0s 304ms/step\n",
      "1/1 [==============================] - 0s 303ms/step\n",
      "1/1 [==============================] - 0s 307ms/step\n",
      "1/1 [==============================] - 0s 302ms/step\n",
      "1/1 [==============================] - 0s 301ms/step\n",
      "1/1 [==============================] - 0s 303ms/step\n",
      "1/1 [==============================] - 0s 323ms/step\n",
      "1/1 [==============================] - 0s 312ms/step\n",
      "1/1 [==============================] - 0s 112ms/step\n",
      "27/27 [==============================] - 38s 1s/step\n",
      "1.4454533e-05 1.0 1.0\n",
      "\n",
      " Epoch 36/50\n",
      "1/1 [==============================] - 0s 307ms/step\n",
      "1/1 [==============================] - 0s 298ms/step\n",
      "1/1 [==============================] - 0s 304ms/step\n",
      "1/1 [==============================] - 0s 296ms/step\n",
      "1/1 [==============================] - 0s 307ms/step\n",
      "1/1 [==============================] - 0s 297ms/step\n",
      "1/1 [==============================] - 0s 308ms/step\n",
      "1/1 [==============================] - 0s 303ms/step\n",
      "1/1 [==============================] - 0s 310ms/step\n",
      "1/1 [==============================] - 0s 314ms/step\n",
      "1/1 [==============================] - 0s 318ms/step\n",
      "1/1 [==============================] - 0s 305ms/step\n",
      "1/1 [==============================] - 0s 301ms/step\n",
      "1/1 [==============================] - 0s 306ms/step\n",
      "1/1 [==============================] - 0s 300ms/step\n",
      "1/1 [==============================] - 0s 302ms/step\n",
      "1/1 [==============================] - 0s 304ms/step\n",
      "1/1 [==============================] - 0s 302ms/step\n",
      "1/1 [==============================] - 0s 302ms/step\n",
      "1/1 [==============================] - 0s 301ms/step\n",
      "1/1 [==============================] - 0s 320ms/step\n",
      "1/1 [==============================] - 0s 319ms/step\n",
      "1/1 [==============================] - 0s 307ms/step\n",
      "1/1 [==============================] - 0s 304ms/step\n",
      "1/1 [==============================] - 0s 299ms/step\n",
      "1/1 [==============================] - 0s 298ms/step\n",
      "1/1 [==============================] - 0s 115ms/step\n",
      "27/27 [==============================] - 38s 1s/step\n",
      "2.9802322e-08 1.0 1.0\n",
      "\n",
      " Epoch 37/50\n",
      "1/1 [==============================] - 0s 298ms/step\n",
      "1/1 [==============================] - 0s 301ms/step\n",
      "1/1 [==============================] - 0s 299ms/step\n",
      "1/1 [==============================] - 0s 305ms/step\n",
      "1/1 [==============================] - 0s 323ms/step\n",
      "1/1 [==============================] - 0s 321ms/step\n",
      "1/1 [==============================] - 0s 300ms/step\n",
      "1/1 [==============================] - 0s 303ms/step\n",
      "1/1 [==============================] - 0s 303ms/step\n",
      "1/1 [==============================] - 0s 300ms/step\n",
      "1/1 [==============================] - 0s 308ms/step\n",
      "1/1 [==============================] - 0s 311ms/step\n",
      "1/1 [==============================] - 0s 309ms/step\n",
      "1/1 [==============================] - 0s 303ms/step\n",
      "1/1 [==============================] - 0s 304ms/step\n",
      "1/1 [==============================] - 0s 305ms/step\n",
      "1/1 [==============================] - 0s 330ms/step\n",
      "1/1 [==============================] - 0s 312ms/step\n",
      "1/1 [==============================] - 0s 297ms/step\n",
      "1/1 [==============================] - 0s 302ms/step\n",
      "1/1 [==============================] - 0s 303ms/step\n",
      "1/1 [==============================] - 0s 305ms/step\n",
      "1/1 [==============================] - 0s 304ms/step\n",
      "1/1 [==============================] - 0s 301ms/step\n",
      "1/1 [==============================] - 0s 297ms/step\n",
      "1/1 [==============================] - 0s 297ms/step\n",
      "1/1 [==============================] - 0s 110ms/step\n",
      "27/27 [==============================] - 38s 1s/step\n",
      "1.4156499e-05 1.0 1.0\n",
      "\n",
      " Epoch 38/50\n",
      "1/1 [==============================] - 0s 328ms/step\n",
      "1/1 [==============================] - 0s 321ms/step\n",
      "1/1 [==============================] - 0s 308ms/step\n",
      "1/1 [==============================] - 0s 313ms/step\n",
      "1/1 [==============================] - 0s 297ms/step\n",
      "1/1 [==============================] - 0s 309ms/step\n",
      "1/1 [==============================] - 0s 302ms/step\n",
      "1/1 [==============================] - 0s 299ms/step\n",
      "1/1 [==============================] - 0s 291ms/step\n",
      "1/1 [==============================] - 0s 306ms/step\n",
      "1/1 [==============================] - 0s 305ms/step\n",
      "1/1 [==============================] - 0s 315ms/step\n",
      "1/1 [==============================] - 0s 319ms/step\n",
      "1/1 [==============================] - 0s 303ms/step\n"
     ]
    },
    {
     "name": "stdout",
     "output_type": "stream",
     "text": [
      "1/1 [==============================] - 0s 301ms/step\n",
      "1/1 [==============================] - 0s 298ms/step\n",
      "1/1 [==============================] - 0s 311ms/step\n",
      "1/1 [==============================] - 0s 300ms/step\n",
      "1/1 [==============================] - 0s 302ms/step\n",
      "1/1 [==============================] - 0s 298ms/step\n",
      "1/1 [==============================] - 0s 304ms/step\n",
      "1/1 [==============================] - 0s 301ms/step\n",
      "1/1 [==============================] - 0s 304ms/step\n",
      "1/1 [==============================] - 0s 317ms/step\n",
      "1/1 [==============================] - 0s 310ms/step\n",
      "1/1 [==============================] - 0s 308ms/step\n",
      "1/1 [==============================] - 0s 110ms/step\n",
      "27/27 [==============================] - 38s 1s/step\n",
      "1.52442835e-05 1.0 1.0\n",
      "\n",
      " Epoch 39/50\n",
      "1/1 [==============================] - 0s 309ms/step\n",
      "1/1 [==============================] - 0s 295ms/step\n",
      "1/1 [==============================] - 0s 302ms/step\n",
      "1/1 [==============================] - 0s 303ms/step\n",
      "1/1 [==============================] - 0s 300ms/step\n",
      "1/1 [==============================] - 0s 302ms/step\n",
      "1/1 [==============================] - 0s 303ms/step\n",
      "1/1 [==============================] - 0s 313ms/step\n",
      "1/1 [==============================] - 0s 317ms/step\n",
      "1/1 [==============================] - 0s 311ms/step\n",
      "1/1 [==============================] - 0s 303ms/step\n",
      "1/1 [==============================] - 0s 302ms/step\n",
      "1/1 [==============================] - 0s 307ms/step\n",
      "1/1 [==============================] - 0s 305ms/step\n",
      "1/1 [==============================] - 0s 302ms/step\n",
      "1/1 [==============================] - 0s 299ms/step\n",
      "1/1 [==============================] - 0s 299ms/step\n",
      "1/1 [==============================] - 0s 298ms/step\n",
      "1/1 [==============================] - 0s 309ms/step\n",
      "1/1 [==============================] - 0s 353ms/step\n",
      "1/1 [==============================] - 0s 325ms/step\n",
      "1/1 [==============================] - 0s 325ms/step\n",
      "1/1 [==============================] - 0s 302ms/step\n",
      "1/1 [==============================] - 0s 322ms/step\n",
      "1/1 [==============================] - 0s 303ms/step\n",
      "1/1 [==============================] - 0s 323ms/step\n",
      "1/1 [==============================] - 0s 114ms/step\n",
      "27/27 [==============================] - 38s 1s/step\n",
      "1.20105915e-05 1.0 1.0\n",
      "\n",
      " Epoch 40/50\n",
      "1/1 [==============================] - 0s 321ms/step\n",
      "1/1 [==============================] - 0s 305ms/step\n",
      "1/1 [==============================] - 0s 303ms/step\n",
      "1/1 [==============================] - 0s 333ms/step\n",
      "1/1 [==============================] - 0s 318ms/step\n",
      "1/1 [==============================] - 0s 297ms/step\n",
      "1/1 [==============================] - 0s 306ms/step\n",
      "1/1 [==============================] - 0s 305ms/step\n",
      "1/1 [==============================] - 0s 301ms/step\n",
      "1/1 [==============================] - 0s 330ms/step\n",
      "1/1 [==============================] - 0s 307ms/step\n",
      "1/1 [==============================] - 0s 305ms/step\n",
      "1/1 [==============================] - 0s 307ms/step\n",
      "1/1 [==============================] - 0s 299ms/step\n",
      "1/1 [==============================] - 0s 317ms/step\n",
      "1/1 [==============================] - 0s 312ms/step\n",
      "1/1 [==============================] - 0s 303ms/step\n",
      "1/1 [==============================] - 0s 302ms/step\n",
      "1/1 [==============================] - 0s 301ms/step\n",
      "1/1 [==============================] - 0s 312ms/step\n",
      "1/1 [==============================] - 0s 300ms/step\n",
      "1/1 [==============================] - 0s 300ms/step\n",
      "1/1 [==============================] - 0s 304ms/step\n",
      "1/1 [==============================] - 0s 302ms/step\n",
      "1/1 [==============================] - 0s 311ms/step\n",
      "1/1 [==============================] - 0s 326ms/step\n",
      "1/1 [==============================] - 0s 126ms/step\n",
      "27/27 [==============================] - 39s 1s/step\n",
      "0.0 1.0 1.0\n",
      "\n",
      " Epoch 41/50\n",
      "1/1 [==============================] - 0s 301ms/step\n",
      "1/1 [==============================] - 0s 301ms/step\n",
      "1/1 [==============================] - 0s 298ms/step\n",
      "1/1 [==============================] - 0s 302ms/step\n",
      "1/1 [==============================] - 0s 296ms/step\n",
      "1/1 [==============================] - 0s 302ms/step\n",
      "1/1 [==============================] - 0s 299ms/step\n",
      "1/1 [==============================] - 0s 299ms/step\n",
      "1/1 [==============================] - 0s 303ms/step\n",
      "1/1 [==============================] - 0s 317ms/step\n",
      "1/1 [==============================] - 0s 327ms/step\n",
      "1/1 [==============================] - 0s 295ms/step\n",
      "1/1 [==============================] - 0s 303ms/step\n",
      "1/1 [==============================] - 0s 303ms/step\n",
      "1/1 [==============================] - 0s 302ms/step\n",
      "1/1 [==============================] - 0s 298ms/step\n",
      "1/1 [==============================] - 0s 305ms/step\n",
      "1/1 [==============================] - 0s 304ms/step\n",
      "1/1 [==============================] - 0s 301ms/step\n",
      "1/1 [==============================] - 0s 298ms/step\n",
      "1/1 [==============================] - 0s 319ms/step\n",
      "1/1 [==============================] - 0s 324ms/step\n",
      "1/1 [==============================] - 0s 313ms/step\n",
      "1/1 [==============================] - 0s 310ms/step\n",
      "1/1 [==============================] - 0s 305ms/step\n",
      "1/1 [==============================] - 0s 306ms/step\n",
      "1/1 [==============================] - 0s 109ms/step\n",
      "27/27 [==============================] - 38s 1s/step\n",
      "2.9802322e-08 1.0 1.0\n",
      "\n",
      " Epoch 42/50\n",
      "1/1 [==============================] - 0s 302ms/step\n",
      "1/1 [==============================] - 0s 303ms/step\n",
      "1/1 [==============================] - 0s 309ms/step\n",
      "1/1 [==============================] - 0s 307ms/step\n",
      "1/1 [==============================] - 0s 303ms/step\n",
      "1/1 [==============================] - 0s 315ms/step\n",
      "1/1 [==============================] - 0s 322ms/step\n",
      "1/1 [==============================] - 0s 308ms/step\n",
      "1/1 [==============================] - 0s 300ms/step\n",
      "1/1 [==============================] - 0s 302ms/step\n",
      "1/1 [==============================] - 0s 309ms/step\n",
      "1/1 [==============================] - 0s 300ms/step\n",
      "1/1 [==============================] - 0s 306ms/step\n",
      "1/1 [==============================] - 0s 301ms/step\n",
      "1/1 [==============================] - 0s 293ms/step\n",
      "1/1 [==============================] - 0s 298ms/step\n",
      "1/1 [==============================] - 0s 320ms/step\n",
      "1/1 [==============================] - 0s 319ms/step\n",
      "1/1 [==============================] - 0s 305ms/step\n",
      "1/1 [==============================] - 0s 309ms/step\n",
      "1/1 [==============================] - 0s 302ms/step\n",
      "1/1 [==============================] - 0s 303ms/step\n",
      "1/1 [==============================] - 0s 306ms/step\n",
      "1/1 [==============================] - 0s 298ms/step\n",
      "1/1 [==============================] - 0s 331ms/step\n",
      "1/1 [==============================] - 0s 330ms/step\n",
      "1/1 [==============================] - 0s 112ms/step\n",
      "27/27 [==============================] - 38s 1s/step\n",
      "1.639128e-07 1.0 1.0\n",
      "\n",
      " Epoch 43/50\n",
      "1/1 [==============================] - 0s 305ms/step\n",
      "1/1 [==============================] - 0s 327ms/step\n",
      "1/1 [==============================] - 0s 320ms/step\n",
      "1/1 [==============================] - 0s 311ms/step\n",
      "1/1 [==============================] - 0s 308ms/step\n",
      "1/1 [==============================] - 0s 313ms/step\n",
      "1/1 [==============================] - 0s 306ms/step\n",
      "1/1 [==============================] - 0s 311ms/step\n",
      "1/1 [==============================] - 0s 310ms/step\n",
      "1/1 [==============================] - 0s 304ms/step\n",
      "1/1 [==============================] - 0s 309ms/step\n",
      "1/1 [==============================] - 0s 310ms/step\n",
      "1/1 [==============================] - 0s 330ms/step\n",
      "1/1 [==============================] - 0s 310ms/step\n",
      "1/1 [==============================] - 0s 316ms/step\n",
      "1/1 [==============================] - 0s 304ms/step\n",
      "1/1 [==============================] - 0s 310ms/step\n",
      "1/1 [==============================] - 0s 309ms/step\n",
      "1/1 [==============================] - 0s 314ms/step\n",
      "1/1 [==============================] - 0s 305ms/step\n",
      "1/1 [==============================] - 0s 302ms/step\n",
      "1/1 [==============================] - 0s 311ms/step\n",
      "1/1 [==============================] - 0s 304ms/step\n",
      "1/1 [==============================] - 0s 317ms/step\n",
      "1/1 [==============================] - 0s 318ms/step\n"
     ]
    },
    {
     "name": "stdout",
     "output_type": "stream",
     "text": [
      "1/1 [==============================] - 0s 306ms/step\n",
      "1/1 [==============================] - 0s 115ms/step\n",
      "27/27 [==============================] - 39s 1s/step\n",
      "2.9802322e-08 1.0 1.0\n",
      "\n",
      " Epoch 44/50\n",
      "1/1 [==============================] - 0s 306ms/step\n",
      "1/1 [==============================] - 0s 304ms/step\n",
      "1/1 [==============================] - 0s 298ms/step\n",
      "1/1 [==============================] - 0s 302ms/step\n",
      "1/1 [==============================] - 0s 305ms/step\n",
      "1/1 [==============================] - 0s 303ms/step\n",
      "1/1 [==============================] - 0s 301ms/step\n",
      "1/1 [==============================] - 0s 327ms/step\n",
      "1/1 [==============================] - 0s 322ms/step\n",
      "1/1 [==============================] - 0s 299ms/step\n",
      "1/1 [==============================] - 0s 304ms/step\n",
      "1/1 [==============================] - 0s 305ms/step\n",
      "1/1 [==============================] - 0s 302ms/step\n",
      "1/1 [==============================] - 0s 306ms/step\n",
      "1/1 [==============================] - 0s 302ms/step\n",
      "1/1 [==============================] - 0s 311ms/step\n",
      "1/1 [==============================] - 0s 306ms/step\n",
      "1/1 [==============================] - 0s 299ms/step\n",
      "1/1 [==============================] - 0s 316ms/step\n",
      "1/1 [==============================] - 0s 322ms/step\n",
      "1/1 [==============================] - 0s 315ms/step\n",
      "1/1 [==============================] - 0s 305ms/step\n",
      "1/1 [==============================] - 0s 308ms/step\n",
      "1/1 [==============================] - 0s 302ms/step\n",
      "1/1 [==============================] - 0s 312ms/step\n",
      "1/1 [==============================] - 0s 306ms/step\n",
      "1/1 [==============================] - 0s 113ms/step\n",
      "27/27 [==============================] - 38s 1s/step\n",
      "4.4852873e-06 1.0 1.0\n",
      "\n",
      " Epoch 45/50\n",
      "1/1 [==============================] - 0s 303ms/step\n",
      "1/1 [==============================] - 0s 307ms/step\n",
      "1/1 [==============================] - 0s 305ms/step\n",
      "1/1 [==============================] - 0s 325ms/step\n",
      "1/1 [==============================] - 0s 328ms/step\n",
      "1/1 [==============================] - 0s 299ms/step\n",
      "1/1 [==============================] - 0s 301ms/step\n",
      "1/1 [==============================] - 0s 302ms/step\n",
      "1/1 [==============================] - 0s 301ms/step\n",
      "1/1 [==============================] - 0s 311ms/step\n",
      "1/1 [==============================] - 0s 304ms/step\n",
      "1/1 [==============================] - 0s 303ms/step\n",
      "1/1 [==============================] - 0s 306ms/step\n",
      "1/1 [==============================] - 0s 291ms/step\n",
      "1/1 [==============================] - 0s 322ms/step\n",
      "1/1 [==============================] - 0s 321ms/step\n",
      "1/1 [==============================] - 0s 305ms/step\n",
      "1/1 [==============================] - 0s 305ms/step\n",
      "1/1 [==============================] - 0s 300ms/step\n",
      "1/1 [==============================] - 0s 303ms/step\n",
      "1/1 [==============================] - 0s 304ms/step\n",
      "1/1 [==============================] - 0s 303ms/step\n",
      "1/1 [==============================] - 0s 308ms/step\n",
      "1/1 [==============================] - 0s 310ms/step\n",
      "1/1 [==============================] - 0s 307ms/step\n",
      "1/1 [==============================] - 0s 339ms/step\n",
      "1/1 [==============================] - 0s 121ms/step\n",
      "27/27 [==============================] - 38s 1s/step\n",
      "2.0861633e-07 1.0 1.0\n",
      "\n",
      " Epoch 46/50\n",
      "1/1 [==============================] - 0s 308ms/step\n",
      "1/1 [==============================] - 0s 304ms/step\n",
      "1/1 [==============================] - 0s 305ms/step\n",
      "1/1 [==============================] - 0s 297ms/step\n",
      "1/1 [==============================] - 0s 307ms/step\n",
      "1/1 [==============================] - 0s 313ms/step\n",
      "1/1 [==============================] - 0s 295ms/step\n",
      "1/1 [==============================] - 0s 302ms/step\n",
      "1/1 [==============================] - 0s 309ms/step\n",
      "1/1 [==============================] - 0s 330ms/step\n",
      "1/1 [==============================] - 0s 326ms/step\n",
      "1/1 [==============================] - 0s 310ms/step\n",
      "1/1 [==============================] - 0s 306ms/step\n",
      "1/1 [==============================] - 0s 305ms/step\n",
      "1/1 [==============================] - 0s 304ms/step\n",
      "1/1 [==============================] - 0s 294ms/step\n",
      "1/1 [==============================] - 0s 309ms/step\n",
      "1/1 [==============================] - 0s 299ms/step\n",
      "1/1 [==============================] - 0s 298ms/step\n",
      "1/1 [==============================] - 0s 305ms/step\n",
      "1/1 [==============================] - 0s 307ms/step\n",
      "1/1 [==============================] - 0s 317ms/step\n",
      "1/1 [==============================] - 0s 318ms/step\n",
      "1/1 [==============================] - 0s 306ms/step\n",
      "1/1 [==============================] - 0s 305ms/step\n",
      "1/1 [==============================] - 0s 305ms/step\n",
      "1/1 [==============================] - 0s 112ms/step\n",
      "27/27 [==============================] - 38s 1s/step\n",
      "4.4703487e-08 1.0 1.0\n",
      "\n",
      " Epoch 47/50\n",
      "1/1 [==============================] - 0s 306ms/step\n",
      "1/1 [==============================] - 0s 304ms/step\n",
      "1/1 [==============================] - 0s 304ms/step\n",
      "1/1 [==============================] - 0s 301ms/step\n",
      "1/1 [==============================] - 0s 310ms/step\n",
      "1/1 [==============================] - 0s 320ms/step\n",
      "1/1 [==============================] - 0s 326ms/step\n",
      "1/1 [==============================] - 0s 303ms/step\n",
      "1/1 [==============================] - 0s 304ms/step\n",
      "1/1 [==============================] - 0s 299ms/step\n",
      "1/1 [==============================] - 0s 305ms/step\n",
      "1/1 [==============================] - 0s 306ms/step\n",
      "1/1 [==============================] - 0s 312ms/step\n",
      "1/1 [==============================] - 0s 302ms/step\n",
      "1/1 [==============================] - 0s 299ms/step\n",
      "1/1 [==============================] - 0s 306ms/step\n",
      "1/1 [==============================] - 0s 341ms/step\n",
      "1/1 [==============================] - 0s 337ms/step\n",
      "1/1 [==============================] - 0s 343ms/step\n",
      "1/1 [==============================] - 0s 305ms/step\n",
      "1/1 [==============================] - 0s 308ms/step\n",
      "1/1 [==============================] - 0s 305ms/step\n",
      "1/1 [==============================] - 0s 309ms/step\n",
      "1/1 [==============================] - 0s 317ms/step\n",
      "1/1 [==============================] - 0s 307ms/step\n",
      "1/1 [==============================] - 0s 305ms/step\n",
      "1/1 [==============================] - 0s 110ms/step\n",
      "27/27 [==============================] - 39s 1s/step\n",
      "1.1920932e-07 1.0 1.0\n",
      "\n",
      " Epoch 48/50\n",
      "1/1 [==============================] - 0s 308ms/step\n",
      "1/1 [==============================] - 0s 324ms/step\n",
      "1/1 [==============================] - 0s 301ms/step\n",
      "1/1 [==============================] - 0s 300ms/step\n",
      "1/1 [==============================] - 0s 306ms/step\n",
      "1/1 [==============================] - 0s 300ms/step\n",
      "1/1 [==============================] - 0s 303ms/step\n",
      "1/1 [==============================] - 0s 307ms/step\n",
      "1/1 [==============================] - 0s 304ms/step\n",
      "1/1 [==============================] - 0s 303ms/step\n",
      "1/1 [==============================] - 0s 301ms/step\n",
      "1/1 [==============================] - 0s 290ms/step\n",
      "1/1 [==============================] - 0s 319ms/step\n",
      "1/1 [==============================] - 0s 324ms/step\n",
      "1/1 [==============================] - 0s 303ms/step\n",
      "1/1 [==============================] - 0s 304ms/step\n",
      "1/1 [==============================] - 0s 299ms/step\n",
      "1/1 [==============================] - 0s 296ms/step\n",
      "1/1 [==============================] - 0s 310ms/step\n",
      "1/1 [==============================] - 0s 304ms/step\n",
      "1/1 [==============================] - 0s 308ms/step\n",
      "1/1 [==============================] - 0s 299ms/step\n",
      "1/1 [==============================] - 0s 309ms/step\n",
      "1/1 [==============================] - 0s 316ms/step\n",
      "1/1 [==============================] - 0s 325ms/step\n",
      "1/1 [==============================] - 0s 311ms/step\n",
      "1/1 [==============================] - 0s 112ms/step\n",
      "27/27 [==============================] - 38s 1s/step\n",
      "2.9802322e-08 1.0 1.0\n",
      "\n",
      " Epoch 49/50\n",
      "1/1 [==============================] - 0s 309ms/step\n",
      "1/1 [==============================] - 0s 298ms/step\n",
      "1/1 [==============================] - 0s 331ms/step\n",
      "1/1 [==============================] - 0s 304ms/step\n",
      "1/1 [==============================] - 0s 304ms/step\n",
      "1/1 [==============================] - 0s 301ms/step\n",
      "1/1 [==============================] - 0s 304ms/step\n"
     ]
    },
    {
     "name": "stdout",
     "output_type": "stream",
     "text": [
      "1/1 [==============================] - 0s 315ms/step\n",
      "1/1 [==============================] - 0s 321ms/step\n",
      "1/1 [==============================] - 0s 303ms/step\n",
      "1/1 [==============================] - 0s 301ms/step\n",
      "1/1 [==============================] - 0s 306ms/step\n",
      "1/1 [==============================] - 0s 309ms/step\n",
      "1/1 [==============================] - 0s 308ms/step\n",
      "1/1 [==============================] - 0s 300ms/step\n",
      "1/1 [==============================] - 0s 306ms/step\n",
      "1/1 [==============================] - 0s 305ms/step\n",
      "1/1 [==============================] - 0s 312ms/step\n",
      "1/1 [==============================] - 0s 314ms/step\n",
      "1/1 [==============================] - 0s 335ms/step\n",
      "1/1 [==============================] - 0s 308ms/step\n",
      "1/1 [==============================] - 0s 302ms/step\n",
      "1/1 [==============================] - 0s 308ms/step\n",
      "1/1 [==============================] - 0s 306ms/step\n",
      "1/1 [==============================] - 0s 301ms/step\n",
      "1/1 [==============================] - 0s 306ms/step\n",
      "1/1 [==============================] - 0s 110ms/step\n",
      "27/27 [==============================] - 38s 1s/step\n",
      "4.1723547e-06 1.0 1.0\n",
      "\n",
      " Epoch 50/50\n",
      "1/1 [==============================] - 0s 307ms/step\n",
      "1/1 [==============================] - 0s 301ms/step\n",
      "1/1 [==============================] - 0s 308ms/step\n",
      "1/1 [==============================] - 0s 323ms/step\n",
      "1/1 [==============================] - 0s 327ms/step\n",
      "1/1 [==============================] - 0s 315ms/step\n",
      "1/1 [==============================] - 0s 307ms/step\n",
      "1/1 [==============================] - 0s 327ms/step\n",
      "1/1 [==============================] - 0s 320ms/step\n",
      "1/1 [==============================] - 0s 321ms/step\n",
      "1/1 [==============================] - 0s 304ms/step\n",
      "1/1 [==============================] - 0s 325ms/step\n",
      "1/1 [==============================] - 0s 307ms/step\n",
      "1/1 [==============================] - 0s 307ms/step\n",
      "1/1 [==============================] - 0s 337ms/step\n",
      "1/1 [==============================] - 0s 314ms/step\n",
      "1/1 [==============================] - 0s 314ms/step\n",
      "1/1 [==============================] - 0s 324ms/step\n",
      "1/1 [==============================] - 0s 301ms/step\n",
      "1/1 [==============================] - 0s 303ms/step\n",
      "1/1 [==============================] - 0s 316ms/step\n",
      "1/1 [==============================] - 0s 312ms/step\n",
      "1/1 [==============================] - 0s 307ms/step\n",
      "1/1 [==============================] - 0s 301ms/step\n",
      "1/1 [==============================] - 0s 305ms/step\n",
      "1/1 [==============================] - 0s 325ms/step\n",
      "1/1 [==============================] - 0s 113ms/step\n",
      "27/27 [==============================] - 39s 1s/step\n",
      "1.6391282e-07 1.0 1.0\n"
     ]
    }
   ],
   "source": [
    "train(train_data, EPOCHS)"
   ]
  },
  {
   "cell_type": "code",
   "execution_count": null,
   "id": "7f5e4a58",
   "metadata": {},
   "outputs": [],
   "source": []
  },
  {
   "cell_type": "markdown",
   "id": "08a2f03a",
   "metadata": {},
   "source": [
    "# 6. Evaluate Model"
   ]
  },
  {
   "cell_type": "markdown",
   "id": "bdca1dfd",
   "metadata": {},
   "source": [
    "## 6.1 Import Metrics"
   ]
  },
  {
   "cell_type": "code",
   "execution_count": 96,
   "id": "1773c912",
   "metadata": {},
   "outputs": [],
   "source": [
    "# import metric calculations\n",
    "from tensorflow.keras.metrics import Precision, Recall"
   ]
  },
  {
   "cell_type": "markdown",
   "id": "17257fae",
   "metadata": {},
   "source": [
    "## 6.2 Make Predictions "
   ]
  },
  {
   "cell_type": "code",
   "execution_count": 97,
   "id": "fad07ec4",
   "metadata": {},
   "outputs": [
    {
     "name": "stderr",
     "output_type": "stream",
     "text": [
      "2023-05-26 10:31:53.442696: I tensorflow/core/common_runtime/executor.cc:1197] [/device:CPU:0] (DEBUG INFO) Executor start aborting (this does not indicate an error and you can ignore this message): INVALID_ARGUMENT: You must feed a value for placeholder tensor 'Placeholder/_18' with dtype float and shape [300]\n",
      "\t [[{{node Placeholder/_18}}]]\n",
      "2023-05-26 10:31:53.443140: I tensorflow/core/common_runtime/executor.cc:1197] [/device:CPU:0] (DEBUG INFO) Executor start aborting (this does not indicate an error and you can ignore this message): INVALID_ARGUMENT: You must feed a value for placeholder tensor 'Placeholder/_39' with dtype float and shape [300]\n",
      "\t [[{{node Placeholder/_39}}]]\n"
     ]
    }
   ],
   "source": [
    "# get a batch of test data\n",
    "test_input, test_val, y_true = test_data.as_numpy_iterator().next()"
   ]
  },
  {
   "cell_type": "code",
   "execution_count": 98,
   "id": "f4ba027c",
   "metadata": {},
   "outputs": [],
   "source": [
    "test_var = test_data.as_numpy_iterator().next()"
   ]
  },
  {
   "cell_type": "code",
   "execution_count": 99,
   "id": "6b8800f0",
   "metadata": {},
   "outputs": [
    {
     "data": {
      "text/plain": [
       "array([0., 0., 0., 1., 1., 0., 0., 0., 0., 1., 0., 0., 1., 1., 1., 0.],\n",
       "      dtype=float32)"
      ]
     },
     "execution_count": 99,
     "metadata": {},
     "output_type": "execute_result"
    }
   ],
   "source": [
    "test_var[2]"
   ]
  },
  {
   "cell_type": "code",
   "execution_count": 100,
   "id": "dd2b3af0",
   "metadata": {},
   "outputs": [
    {
     "data": {
      "text/plain": [
       "array([1., 1., 0., 0., 1., 0., 0., 0., 0., 0., 1., 1., 0., 0., 1., 0.],\n",
       "      dtype=float32)"
      ]
     },
     "execution_count": 100,
     "metadata": {},
     "output_type": "execute_result"
    }
   ],
   "source": [
    "y_true"
   ]
  },
  {
   "cell_type": "code",
   "execution_count": 101,
   "id": "430555d5",
   "metadata": {},
   "outputs": [
    {
     "name": "stdout",
     "output_type": "stream",
     "text": [
      "1/1 [==============================] - 0s 298ms/step\n"
     ]
    },
    {
     "data": {
      "text/plain": [
       "array([[1.0000000e+00],\n",
       "       [1.0000000e+00],\n",
       "       [2.8399708e-07],\n",
       "       [8.6050328e-08],\n",
       "       [1.0000000e+00],\n",
       "       [8.6433653e-07],\n",
       "       [4.1240259e-08],\n",
       "       [1.4265764e-05],\n",
       "       [8.9842437e-08],\n",
       "       [6.3369621e-06],\n",
       "       [9.9999809e-01],\n",
       "       [1.0000000e+00],\n",
       "       [9.5334990e-08],\n",
       "       [1.0323652e-06],\n",
       "       [1.0000000e+00],\n",
       "       [9.2817302e-08]], dtype=float32)"
      ]
     },
     "execution_count": 101,
     "metadata": {},
     "output_type": "execute_result"
    }
   ],
   "source": [
    "# predictions\n",
    "y_hat = siamese_model.predict([test_input, test_val])\n",
    "y_hat"
   ]
  },
  {
   "cell_type": "code",
   "execution_count": 102,
   "id": "c2f8cc55",
   "metadata": {},
   "outputs": [
    {
     "data": {
      "text/plain": [
       "[1, 1, 0, 0, 1, 0, 0, 0, 0, 0, 1, 1, 0, 0, 1, 0]"
      ]
     },
     "execution_count": 102,
     "metadata": {},
     "output_type": "execute_result"
    }
   ],
   "source": [
    "# post processing the results\n",
    "res = []\n",
    "for prediction in y_hat:\n",
    "    if prediction > 0.9:\n",
    "        res.append(1)\n",
    "    else:\n",
    "        res.append(0)\n",
    "res"
   ]
  },
  {
   "cell_type": "code",
   "execution_count": 103,
   "id": "997d57c6",
   "metadata": {},
   "outputs": [
    {
     "data": {
      "text/plain": [
       "array([1., 1., 0., 0., 1., 0., 0., 0., 0., 0., 1., 1., 0., 0., 1., 0.],\n",
       "      dtype=float32)"
      ]
     },
     "execution_count": 103,
     "metadata": {},
     "output_type": "execute_result"
    }
   ],
   "source": [
    "y_true"
   ]
  },
  {
   "cell_type": "markdown",
   "id": "52d17814",
   "metadata": {},
   "source": [
    "## 6.3 Calculate Metrics"
   ]
  },
  {
   "cell_type": "code",
   "execution_count": 104,
   "id": "1d2756dd",
   "metadata": {},
   "outputs": [
    {
     "data": {
      "text/plain": [
       "1.0"
      ]
     },
     "execution_count": 104,
     "metadata": {},
     "output_type": "execute_result"
    }
   ],
   "source": [
    "# creating a metric object with Recall\n",
    "m = Recall()\n",
    "\n",
    "# calculating the recall value\n",
    "m.update_state(y_true, y_hat)\n",
    "\n",
    "# recall result\n",
    "m.result().numpy()"
   ]
  },
  {
   "cell_type": "code",
   "execution_count": 105,
   "id": "1b8063b7",
   "metadata": {},
   "outputs": [
    {
     "data": {
      "text/plain": [
       "1.0"
      ]
     },
     "execution_count": 105,
     "metadata": {},
     "output_type": "execute_result"
    }
   ],
   "source": [
    "# creating a metric object with Precision\n",
    "m = Precision()\n",
    "\n",
    "# calculating the recall value\n",
    "m.update_state(y_true, y_hat)\n",
    "\n",
    "# recall result\n",
    "m.result().numpy()"
   ]
  },
  {
   "cell_type": "markdown",
   "id": "75a2df29",
   "metadata": {},
   "source": [
    "## 6.4 Visualizing results  "
   ]
  },
  {
   "cell_type": "code",
   "execution_count": 106,
   "id": "e7d5d572",
   "metadata": {},
   "outputs": [
    {
     "data": {
      "text/plain": [
       "<function matplotlib.pyplot.show(close=None, block=None)>"
      ]
     },
     "execution_count": 106,
     "metadata": {},
     "output_type": "execute_result"
    },
    {
     "data": {
      "image/png": "[encoded data removed]",
      "text/plain": [
       "<Figure size 800x500 with 2 Axes>"
      ]
     },
     "metadata": {},
     "output_type": "display_data"
    }
   ],
   "source": [
    "plt.figure(figsize=(8,5))  # plot size\n",
    "\n",
    "# first sub plot\n",
    "plt.subplot(1,2,1)\n",
    "plt.imshow(test_input[9])   # res indexing image references\n",
    "\n",
    "# second sub plot\n",
    "plt.subplot(1,2,2)\n",
    "plt.imshow(test_val[9])     # y_true indexing image references \n",
    "\n",
    "# rendering \n",
    "plt.show"
   ]
  },
  {
   "cell_type": "code",
   "execution_count": null,
   "id": "8c52b3ec",
   "metadata": {},
   "outputs": [],
   "source": []
  },
  {
   "cell_type": "code",
   "execution_count": null,
   "id": "590a7b51",
   "metadata": {},
   "outputs": [],
   "source": []
  },
  {
   "cell_type": "markdown",
   "id": "d6529b8e",
   "metadata": {},
   "source": [
    "# 7. Save Model"
   ]
  },
  {
   "cell_type": "code",
   "execution_count": 107,
   "id": "d7300bd6",
   "metadata": {},
   "outputs": [
    {
     "name": "stdout",
     "output_type": "stream",
     "text": [
      "WARNING:tensorflow:Compiled the loaded model, but the compiled metrics have yet to be built. `model.compile_metrics` will be empty until you train or evaluate the model.\n"
     ]
    }
   ],
   "source": [
    "# save weight\n",
    "siamese_model.save('SiameseModel.h5')"
   ]
  },
  {
   "cell_type": "code",
   "execution_count": 108,
   "id": "479ee888",
   "metadata": {},
   "outputs": [
    {
     "name": "stdout",
     "output_type": "stream",
     "text": [
      "WARNING:tensorflow:No training configuration found in the save file, so the model was *not* compiled. Compile it manually.\n"
     ]
    }
   ],
   "source": [
    "# reload model\n",
    "model = tf.keras.models.load_model('SiameseModel.h5',\n",
    "                                   custom_objects={'L1Dist':L1Dist, 'BinaryCrossentropy':tf.losses.BinaryCrossentropy})"
   ]
  },
  {
   "cell_type": "code",
   "execution_count": 109,
   "id": "381125c6",
   "metadata": {},
   "outputs": [
    {
     "name": "stdout",
     "output_type": "stream",
     "text": [
      "1/1 [==============================] - 0s 358ms/step\n"
     ]
    },
    {
     "data": {
      "text/plain": [
       "array([[1.0000000e+00],\n",
       "       [1.0000000e+00],\n",
       "       [2.8399708e-07],\n",
       "       [8.6050328e-08],\n",
       "       [1.0000000e+00],\n",
       "       [8.6433653e-07],\n",
       "       [4.1240259e-08],\n",
       "       [1.4265764e-05],\n",
       "       [8.9842437e-08],\n",
       "       [6.3369621e-06],\n",
       "       [9.9999809e-01],\n",
       "       [1.0000000e+00],\n",
       "       [9.5334990e-08],\n",
       "       [1.0323652e-06],\n",
       "       [1.0000000e+00],\n",
       "       [9.2817302e-08]], dtype=float32)"
      ]
     },
     "execution_count": 109,
     "metadata": {},
     "output_type": "execute_result"
    }
   ],
   "source": [
    "# make predictions with reloaded model\n",
    "model.predict([test_input, test_val])"
   ]
  },
  {
   "cell_type": "code",
   "execution_count": 110,
   "id": "617e6b52",
   "metadata": {},
   "outputs": [
    {
     "name": "stdout",
     "output_type": "stream",
     "text": [
      "Model: \"SiameseNetwork\"\n",
      "__________________________________________________________________________________________________\n",
      " Layer (type)                   Output Shape         Param #     Connected to                     \n",
      "==================================================================================================\n",
      " input_img (InputLayer)         [(None, 105, 105, 3  0           []                               \n",
      "                                )]                                                                \n",
      "                                                                                                  \n",
      " validation_img (InputLayer)    [(None, 105, 105, 3  0           []                               \n",
      "                                )]                                                                \n",
      "                                                                                                  \n",
      " embedding (Functional)         (None, 4096)         38960448    ['input_img[0][0]',              \n",
      "                                                                  'validation_img[0][0]']         \n",
      "                                                                                                  \n",
      " l1_dist_3 (L1Dist)             (None, 4096)         0           ['embedding[0][0]',              \n",
      "                                                                  'embedding[1][0]']              \n",
      "                                                                                                  \n",
      " dense_2 (Dense)                (None, 1)            4097        ['l1_dist_3[0][0]']              \n",
      "                                                                                                  \n",
      "==================================================================================================\n",
      "Total params: 38,964,545\n",
      "Trainable params: 38,964,545\n",
      "Non-trainable params: 0\n",
      "__________________________________________________________________________________________________\n"
     ]
    }
   ],
   "source": [
    "model.summary() # model summary"
   ]
  },
  {
   "cell_type": "markdown",
   "id": "137a9de1",
   "metadata": {},
   "source": [
    "# 8. Real Time Test"
   ]
  },
  {
   "cell_type": "markdown",
   "id": "09b7e8f1",
   "metadata": {},
   "source": [
    "## 8.1 Verification Function"
   ]
  },
  {
   "cell_type": "markdown",
   "id": "a45f5b91",
   "metadata": {},
   "source": [
    "- I have created 1 main folder 'application_data' and 2 sub folders 'input_image' and 'verification_images inside 'application_data'"
   ]
  },
  {
   "cell_type": "markdown",
   "id": "2dd7a995",
   "metadata": {},
   "source": [
    "- I have also copied 50 positive samples from 'POS_PATH' to 'verification_images' "
   ]
  },
  {
   "cell_type": "markdown",
   "id": "f4f7d181",
   "metadata": {},
   "source": [
    "- We will save our live input image to 'input_image' folder and compare it with our positive samples in 'verification_images' "
   ]
  },
  {
   "cell_type": "markdown",
   "id": "d4c0beea",
   "metadata": {},
   "source": [
    "- For better accuracy we will only verify the input image when it is matched more then 60% of the images in 'verification_images'"
   ]
  },
  {
   "cell_type": "code",
   "execution_count": 111,
   "id": "3ce23f85",
   "metadata": {
    "scrolled": true
   },
   "outputs": [
    {
     "data": {
      "text/plain": [
       "51"
      ]
     },
     "execution_count": 111,
     "metadata": {},
     "output_type": "execute_result"
    }
   ],
   "source": [
    "len(os.listdir(os.path.join('application_data', 'verification_images')))"
   ]
  },
  {
   "cell_type": "code",
   "execution_count": 112,
   "id": "dac856b5",
   "metadata": {},
   "outputs": [],
   "source": [
    "def verify(model, detection_threshold, verification_threshold):\n",
    "    # Build results array\n",
    "    results = []\n",
    "    for image in os.listdir(os.path.join('application_data', 'verification_images')):\n",
    "        input_img = preprocess(os.path.join('application_data', 'input_image', 'input_image.jpg'))\n",
    "        validation_img = preprocess(os.path.join('application_data', 'verification_images', image))\n",
    "        \n",
    "        # Make Predictions \n",
    "        result = model.predict(list(np.expand_dims([input_img, validation_img], axis=1)))\n",
    "        results.append(result)\n",
    "    \n",
    "    # Detection Threshold: Metric above which a prediciton is considered positive \n",
    "    detection = np.sum(np.array(results) > detection_threshold)\n",
    "    \n",
    "    # Verification Threshold: Proportion of positive predictions / total positive samples \n",
    "    verification = detection / len(os.listdir(os.path.join('application_data', 'verification_images'))) \n",
    "    verified = verification > verification_threshold\n",
    "    \n",
    "    return results, verified"
   ]
  },
  {
   "cell_type": "markdown",
   "id": "ba727ade",
   "metadata": {},
   "source": [
    "## 8.2 OpenCV Real Time Verification"
   ]
  },
  {
   "cell_type": "code",
   "execution_count": 113,
   "id": "f36a455e",
   "metadata": {},
   "outputs": [
    {
     "name": "stderr",
     "output_type": "stream",
     "text": [
      "QObject::moveToThread: Current thread (0x6a7a000) is not the object's thread (0x729d270).\n",
      "Cannot move to target thread (0x6a7a000)\n",
      "\n",
      "QObject::moveToThread: Current thread (0x6a7a000) is not the object's thread (0x729d270).\n",
      "Cannot move to target thread (0x6a7a000)\n",
      "\n",
      "QObject::moveToThread: Current thread (0x6a7a000) is not the object's thread (0x729d270).\n",
      "Cannot move to target thread (0x6a7a000)\n",
      "\n",
      "QObject::moveToThread: Current thread (0x6a7a000) is not the object's thread (0x729d270).\n",
      "Cannot move to target thread (0x6a7a000)\n",
      "\n",
      "QObject::moveToThread: Current thread (0x6a7a000) is not the object's thread (0x729d270).\n",
      "Cannot move to target thread (0x6a7a000)\n",
      "\n",
      "QObject::moveToThread: Current thread (0x6a7a000) is not the object's thread (0x729d270).\n",
      "Cannot move to target thread (0x6a7a000)\n",
      "\n",
      "QObject::moveToThread: Current thread (0x6a7a000) is not the object's thread (0x729d270).\n",
      "Cannot move to target thread (0x6a7a000)\n",
      "\n",
      "QObject::moveToThread: Current thread (0x6a7a000) is not the object's thread (0x729d270).\n",
      "Cannot move to target thread (0x6a7a000)\n",
      "\n",
      "QObject::moveToThread: Current thread (0x6a7a000) is not the object's thread (0x729d270).\n",
      "Cannot move to target thread (0x6a7a000)\n",
      "\n",
      "QObject::moveToThread: Current thread (0x6a7a000) is not the object's thread (0x729d270).\n",
      "Cannot move to target thread (0x6a7a000)\n",
      "\n",
      "QObject::moveToThread: Current thread (0x6a7a000) is not the object's thread (0x729d270).\n",
      "Cannot move to target thread (0x6a7a000)\n",
      "\n",
      "QObject::moveToThread: Current thread (0x6a7a000) is not the object's thread (0x729d270).\n",
      "Cannot move to target thread (0x6a7a000)\n",
      "\n",
      "QObject::moveToThread: Current thread (0x6a7a000) is not the object's thread (0x729d270).\n",
      "Cannot move to target thread (0x6a7a000)\n",
      "\n",
      "QObject::moveToThread: Current thread (0x6a7a000) is not the object's thread (0x729d270).\n",
      "Cannot move to target thread (0x6a7a000)\n",
      "\n",
      "QObject::moveToThread: Current thread (0x6a7a000) is not the object's thread (0x729d270).\n",
      "Cannot move to target thread (0x6a7a000)\n",
      "\n",
      "QObject::moveToThread: Current thread (0x6a7a000) is not the object's thread (0x729d270).\n",
      "Cannot move to target thread (0x6a7a000)\n",
      "\n",
      "QObject::moveToThread: Current thread (0x6a7a000) is not the object's thread (0x729d270).\n",
      "Cannot move to target thread (0x6a7a000)\n",
      "\n",
      "QObject::moveToThread: Current thread (0x6a7a000) is not the object's thread (0x729d270).\n",
      "Cannot move to target thread (0x6a7a000)\n",
      "\n",
      "QObject::moveToThread: Current thread (0x6a7a000) is not the object's thread (0x729d270).\n",
      "Cannot move to target thread (0x6a7a000)\n",
      "\n",
      "QObject::moveToThread: Current thread (0x6a7a000) is not the object's thread (0x729d270).\n",
      "Cannot move to target thread (0x6a7a000)\n",
      "\n",
      "QObject::moveToThread: Current thread (0x6a7a000) is not the object's thread (0x729d270).\n",
      "Cannot move to target thread (0x6a7a000)\n",
      "\n",
      "QObject::moveToThread: Current thread (0x6a7a000) is not the object's thread (0x729d270).\n",
      "Cannot move to target thread (0x6a7a000)\n",
      "\n",
      "QObject::moveToThread: Current thread (0x6a7a000) is not the object's thread (0x729d270).\n",
      "Cannot move to target thread (0x6a7a000)\n",
      "\n",
      "QObject::moveToThread: Current thread (0x6a7a000) is not the object's thread (0x729d270).\n",
      "Cannot move to target thread (0x6a7a000)\n",
      "\n",
      "QObject::moveToThread: Current thread (0x6a7a000) is not the object's thread (0x729d270).\n",
      "Cannot move to target thread (0x6a7a000)\n",
      "\n",
      "QObject::moveToThread: Current thread (0x6a7a000) is not the object's thread (0x729d270).\n",
      "Cannot move to target thread (0x6a7a000)\n",
      "\n",
      "QObject::moveToThread: Current thread (0x6a7a000) is not the object's thread (0x729d270).\n",
      "Cannot move to target thread (0x6a7a000)\n",
      "\n",
      "QObject::moveToThread: Current thread (0x6a7a000) is not the object's thread (0x729d270).\n",
      "Cannot move to target thread (0x6a7a000)\n",
      "\n",
      "QObject::moveToThread: Current thread (0x6a7a000) is not the object's thread (0x729d270).\n",
      "Cannot move to target thread (0x6a7a000)\n",
      "\n",
      "QObject::moveToThread: Current thread (0x6a7a000) is not the object's thread (0x729d270).\n",
      "Cannot move to target thread (0x6a7a000)\n",
      "\n",
      "QObject::moveToThread: Current thread (0x6a7a000) is not the object's thread (0x729d270).\n",
      "Cannot move to target thread (0x6a7a000)\n",
      "\n",
      "QObject::moveToThread: Current thread (0x6a7a000) is not the object's thread (0x729d270).\n",
      "Cannot move to target thread (0x6a7a000)\n",
      "\n",
      "QObject::moveToThread: Current thread (0x6a7a000) is not the object's thread (0x729d270).\n",
      "Cannot move to target thread (0x6a7a000)\n",
      "\n",
      "QObject::moveToThread: Current thread (0x6a7a000) is not the object's thread (0x729d270).\n",
      "Cannot move to target thread (0x6a7a000)\n",
      "\n",
      "QObject::moveToThread: Current thread (0x6a7a000) is not the object's thread (0x729d270).\n",
      "Cannot move to target thread (0x6a7a000)\n",
      "\n",
      "QObject::moveToThread: Current thread (0x6a7a000) is not the object's thread (0x729d270).\n",
      "Cannot move to target thread (0x6a7a000)\n",
      "\n",
      "QObject::moveToThread: Current thread (0x6a7a000) is not the object's thread (0x729d270).\n",
      "Cannot move to target thread (0x6a7a000)\n",
      "\n",
      "QObject::moveToThread: Current thread (0x6a7a000) is not the object's thread (0x729d270).\n",
      "Cannot move to target thread (0x6a7a000)\n",
      "\n",
      "QObject::moveToThread: Current thread (0x6a7a000) is not the object's thread (0x729d270).\n",
      "Cannot move to target thread (0x6a7a000)\n",
      "\n",
      "QObject::moveToThread: Current thread (0x6a7a000) is not the object's thread (0x729d270).\n",
      "Cannot move to target thread (0x6a7a000)\n",
      "\n",
      "QObject::moveToThread: Current thread (0x6a7a000) is not the object's thread (0x729d270).\n",
      "Cannot move to target thread (0x6a7a000)\n",
      "\n",
      "QObject::moveToThread: Current thread (0x6a7a000) is not the object's thread (0x729d270).\n",
      "Cannot move to target thread (0x6a7a000)\n",
      "\n",
      "QObject::moveToThread: Current thread (0x6a7a000) is not the object's thread (0x729d270).\n",
      "Cannot move to target thread (0x6a7a000)\n",
      "\n",
      "QObject::moveToThread: Current thread (0x6a7a000) is not the object's thread (0x729d270).\n",
      "Cannot move to target thread (0x6a7a000)\n",
      "\n",
      "QObject::moveToThread: Current thread (0x6a7a000) is not the object's thread (0x729d270).\n",
      "Cannot move to target thread (0x6a7a000)\n",
      "\n",
      "QObject::moveToThread: Current thread (0x6a7a000) is not the object's thread (0x729d270).\n",
      "Cannot move to target thread (0x6a7a000)\n",
      "\n",
      "QObject::moveToThread: Current thread (0x6a7a000) is not the object's thread (0x729d270).\n",
      "Cannot move to target thread (0x6a7a000)\n",
      "\n",
      "QObject::moveToThread: Current thread (0x6a7a000) is not the object's thread (0x729d270).\n",
      "Cannot move to target thread (0x6a7a000)\n",
      "\n",
      "QObject::moveToThread: Current thread (0x6a7a000) is not the object's thread (0x729d270).\n",
      "Cannot move to target thread (0x6a7a000)\n",
      "\n",
      "QObject::moveToThread: Current thread (0x6a7a000) is not the object's thread (0x729d270).\n",
      "Cannot move to target thread (0x6a7a000)\n",
      "\n",
      "QObject::moveToThread: Current thread (0x6a7a000) is not the object's thread (0x729d270).\n",
      "Cannot move to target thread (0x6a7a000)\n",
      "\n",
      "QObject::moveToThread: Current thread (0x6a7a000) is not the object's thread (0x729d270).\n",
      "Cannot move to target thread (0x6a7a000)\n",
      "\n",
      "QObject::moveToThread: Current thread (0x6a7a000) is not the object's thread (0x729d270).\n",
      "Cannot move to target thread (0x6a7a000)\n",
      "\n",
      "QObject::moveToThread: Current thread (0x6a7a000) is not the object's thread (0x729d270).\n",
      "Cannot move to target thread (0x6a7a000)\n",
      "\n",
      "QObject::moveToThread: Current thread (0x6a7a000) is not the object's thread (0x729d270).\n",
      "Cannot move to target thread (0x6a7a000)\n",
      "\n",
      "QObject::moveToThread: Current thread (0x6a7a000) is not the object's thread (0x729d270).\n",
      "Cannot move to target thread (0x6a7a000)\n",
      "\n",
      "QObject::moveToThread: Current thread (0x6a7a000) is not the object's thread (0x729d270).\n",
      "Cannot move to target thread (0x6a7a000)\n",
      "\n",
      "QObject::moveToThread: Current thread (0x6a7a000) is not the object's thread (0x729d270).\n",
      "Cannot move to target thread (0x6a7a000)\n",
      "\n",
      "QObject::moveToThread: Current thread (0x6a7a000) is not the object's thread (0x729d270).\n",
      "Cannot move to target thread (0x6a7a000)\n",
      "\n",
      "QObject::moveToThread: Current thread (0x6a7a000) is not the object's thread (0x729d270).\n",
      "Cannot move to target thread (0x6a7a000)\n",
      "\n",
      "QObject::moveToThread: Current thread (0x6a7a000) is not the object's thread (0x729d270).\n",
      "Cannot move to target thread (0x6a7a000)\n",
      "\n",
      "QObject::moveToThread: Current thread (0x6a7a000) is not the object's thread (0x729d270).\n",
      "Cannot move to target thread (0x6a7a000)\n",
      "\n",
      "QObject::moveToThread: Current thread (0x6a7a000) is not the object's thread (0x729d270).\n",
      "Cannot move to target thread (0x6a7a000)\n",
      "\n",
      "QObject::moveToThread: Current thread (0x6a7a000) is not the object's thread (0x729d270).\n",
      "Cannot move to target thread (0x6a7a000)\n",
      "\n",
      "QObject::moveToThread: Current thread (0x6a7a000) is not the object's thread (0x729d270).\n",
      "Cannot move to target thread (0x6a7a000)\n",
      "\n",
      "QObject::moveToThread: Current thread (0x6a7a000) is not the object's thread (0x729d270).\n",
      "Cannot move to target thread (0x6a7a000)\n",
      "\n",
      "QObject::moveToThread: Current thread (0x6a7a000) is not the object's thread (0x729d270).\n",
      "Cannot move to target thread (0x6a7a000)\n",
      "\n",
      "QObject::moveToThread: Current thread (0x6a7a000) is not the object's thread (0x729d270).\n",
      "Cannot move to target thread (0x6a7a000)\n",
      "\n",
      "QObject::moveToThread: Current thread (0x6a7a000) is not the object's thread (0x729d270).\n",
      "Cannot move to target thread (0x6a7a000)\n",
      "\n",
      "QObject::moveToThread: Current thread (0x6a7a000) is not the object's thread (0x729d270).\n",
      "Cannot move to target thread (0x6a7a000)\n",
      "\n",
      "QObject::moveToThread: Current thread (0x6a7a000) is not the object's thread (0x729d270).\n",
      "Cannot move to target thread (0x6a7a000)\n",
      "\n",
      "QObject::moveToThread: Current thread (0x6a7a000) is not the object's thread (0x729d270).\n",
      "Cannot move to target thread (0x6a7a000)\n",
      "\n",
      "QObject::moveToThread: Current thread (0x6a7a000) is not the object's thread (0x729d270).\n",
      "Cannot move to target thread (0x6a7a000)\n",
      "\n",
      "QObject::moveToThread: Current thread (0x6a7a000) is not the object's thread (0x729d270).\n",
      "Cannot move to target thread (0x6a7a000)\n",
      "\n",
      "QObject::moveToThread: Current thread (0x6a7a000) is not the object's thread (0x729d270).\n",
      "Cannot move to target thread (0x6a7a000)\n",
      "\n",
      "QObject::moveToThread: Current thread (0x6a7a000) is not the object's thread (0x729d270).\n",
      "Cannot move to target thread (0x6a7a000)\n",
      "\n",
      "QObject::moveToThread: Current thread (0x6a7a000) is not the object's thread (0x729d270).\n",
      "Cannot move to target thread (0x6a7a000)\n",
      "\n",
      "QObject::moveToThread: Current thread (0x6a7a000) is not the object's thread (0x729d270).\n",
      "Cannot move to target thread (0x6a7a000)\n",
      "\n",
      "QObject::moveToThread: Current thread (0x6a7a000) is not the object's thread (0x729d270).\n",
      "Cannot move to target thread (0x6a7a000)\n",
      "\n",
      "QObject::moveToThread: Current thread (0x6a7a000) is not the object's thread (0x729d270).\n",
      "Cannot move to target thread (0x6a7a000)\n",
      "\n",
      "QObject::moveToThread: Current thread (0x6a7a000) is not the object's thread (0x729d270).\n",
      "Cannot move to target thread (0x6a7a000)\n",
      "\n",
      "QObject::moveToThread: Current thread (0x6a7a000) is not the object's thread (0x729d270).\n",
      "Cannot move to target thread (0x6a7a000)\n",
      "\n",
      "QObject::moveToThread: Current thread (0x6a7a000) is not the object's thread (0x729d270).\n",
      "Cannot move to target thread (0x6a7a000)\n",
      "\n",
      "QObject::moveToThread: Current thread (0x6a7a000) is not the object's thread (0x729d270).\n",
      "Cannot move to target thread (0x6a7a000)\n",
      "\n",
      "QObject::moveToThread: Current thread (0x6a7a000) is not the object's thread (0x729d270).\n",
      "Cannot move to target thread (0x6a7a000)\n",
      "\n",
      "QObject::moveToThread: Current thread (0x6a7a000) is not the object's thread (0x729d270).\n",
      "Cannot move to target thread (0x6a7a000)\n",
      "\n",
      "QObject::moveToThread: Current thread (0x6a7a000) is not the object's thread (0x729d270).\n",
      "Cannot move to target thread (0x6a7a000)\n",
      "\n",
      "QObject::moveToThread: Current thread (0x6a7a000) is not the object's thread (0x729d270).\n",
      "Cannot move to target thread (0x6a7a000)\n",
      "\n",
      "QObject::moveToThread: Current thread (0x6a7a000) is not the object's thread (0x729d270).\n",
      "Cannot move to target thread (0x6a7a000)\n",
      "\n",
      "QObject::moveToThread: Current thread (0x6a7a000) is not the object's thread (0x729d270).\n",
      "Cannot move to target thread (0x6a7a000)\n",
      "\n",
      "QObject::moveToThread: Current thread (0x6a7a000) is not the object's thread (0x729d270).\n",
      "Cannot move to target thread (0x6a7a000)\n",
      "\n",
      "QObject::moveToThread: Current thread (0x6a7a000) is not the object's thread (0x729d270).\n",
      "Cannot move to target thread (0x6a7a000)\n",
      "\n",
      "QObject::moveToThread: Current thread (0x6a7a000) is not the object's thread (0x729d270).\n",
      "Cannot move to target thread (0x6a7a000)\n",
      "\n",
      "QObject::moveToThread: Current thread (0x6a7a000) is not the object's thread (0x729d270).\n",
      "Cannot move to target thread (0x6a7a000)\n",
      "\n",
      "QObject::moveToThread: Current thread (0x6a7a000) is not the object's thread (0x729d270).\n",
      "Cannot move to target thread (0x6a7a000)\n",
      "\n",
      "QObject::moveToThread: Current thread (0x6a7a000) is not the object's thread (0x729d270).\n",
      "Cannot move to target thread (0x6a7a000)\n",
      "\n",
      "QObject::moveToThread: Current thread (0x6a7a000) is not the object's thread (0x729d270).\n",
      "Cannot move to target thread (0x6a7a000)\n",
      "\n",
      "QObject::moveToThread: Current thread (0x6a7a000) is not the object's thread (0x729d270).\n",
      "Cannot move to target thread (0x6a7a000)\n",
      "\n",
      "QObject::moveToThread: Current thread (0x6a7a000) is not the object's thread (0x729d270).\n",
      "Cannot move to target thread (0x6a7a000)\n",
      "\n",
      "QObject::moveToThread: Current thread (0x6a7a000) is not the object's thread (0x729d270).\n",
      "Cannot move to target thread (0x6a7a000)\n",
      "\n",
      "QObject::moveToThread: Current thread (0x6a7a000) is not the object's thread (0x729d270).\n",
      "Cannot move to target thread (0x6a7a000)\n",
      "\n",
      "QObject::moveToThread: Current thread (0x6a7a000) is not the object's thread (0x729d270).\n",
      "Cannot move to target thread (0x6a7a000)\n",
      "\n",
      "QObject::moveToThread: Current thread (0x6a7a000) is not the object's thread (0x729d270).\n",
      "Cannot move to target thread (0x6a7a000)\n",
      "\n",
      "QObject::moveToThread: Current thread (0x6a7a000) is not the object's thread (0x729d270).\n",
      "Cannot move to target thread (0x6a7a000)\n",
      "\n",
      "QObject::moveToThread: Current thread (0x6a7a000) is not the object's thread (0x729d270).\n",
      "Cannot move to target thread (0x6a7a000)\n",
      "\n",
      "QObject::moveToThread: Current thread (0x6a7a000) is not the object's thread (0x729d270).\n",
      "Cannot move to target thread (0x6a7a000)\n",
      "\n",
      "QObject::moveToThread: Current thread (0x6a7a000) is not the object's thread (0x729d270).\n",
      "Cannot move to target thread (0x6a7a000)\n",
      "\n",
      "QObject::moveToThread: Current thread (0x6a7a000) is not the object's thread (0x729d270).\n",
      "Cannot move to target thread (0x6a7a000)\n",
      "\n",
      "QObject::moveToThread: Current thread (0x6a7a000) is not the object's thread (0x729d270).\n",
      "Cannot move to target thread (0x6a7a000)\n",
      "\n",
      "QObject::moveToThread: Current thread (0x6a7a000) is not the object's thread (0x729d270).\n",
      "Cannot move to target thread (0x6a7a000)\n",
      "\n",
      "QObject::moveToThread: Current thread (0x6a7a000) is not the object's thread (0x729d270).\n",
      "Cannot move to target thread (0x6a7a000)\n",
      "\n",
      "QObject::moveToThread: Current thread (0x6a7a000) is not the object's thread (0x729d270).\n",
      "Cannot move to target thread (0x6a7a000)\n",
      "\n",
      "QObject::moveToThread: Current thread (0x6a7a000) is not the object's thread (0x729d270).\n",
      "Cannot move to target thread (0x6a7a000)\n",
      "\n",
      "QObject::moveToThread: Current thread (0x6a7a000) is not the object's thread (0x729d270).\n",
      "Cannot move to target thread (0x6a7a000)\n",
      "\n",
      "QObject::moveToThread: Current thread (0x6a7a000) is not the object's thread (0x729d270).\n",
      "Cannot move to target thread (0x6a7a000)\n",
      "\n",
      "QObject::moveToThread: Current thread (0x6a7a000) is not the object's thread (0x729d270).\n",
      "Cannot move to target thread (0x6a7a000)\n",
      "\n",
      "QObject::moveToThread: Current thread (0x6a7a000) is not the object's thread (0x729d270).\n",
      "Cannot move to target thread (0x6a7a000)\n",
      "\n",
      "QObject::moveToThread: Current thread (0x6a7a000) is not the object's thread (0x729d270).\n",
      "Cannot move to target thread (0x6a7a000)\n",
      "\n",
      "QObject::moveToThread: Current thread (0x6a7a000) is not the object's thread (0x729d270).\n",
      "Cannot move to target thread (0x6a7a000)\n",
      "\n",
      "QObject::moveToThread: Current thread (0x6a7a000) is not the object's thread (0x729d270).\n",
      "Cannot move to target thread (0x6a7a000)\n",
      "\n",
      "QObject::moveToThread: Current thread (0x6a7a000) is not the object's thread (0x729d270).\n",
      "Cannot move to target thread (0x6a7a000)\n",
      "\n",
      "QObject::moveToThread: Current thread (0x6a7a000) is not the object's thread (0x729d270).\n",
      "Cannot move to target thread (0x6a7a000)\n",
      "\n",
      "QObject::moveToThread: Current thread (0x6a7a000) is not the object's thread (0x729d270).\n",
      "Cannot move to target thread (0x6a7a000)\n",
      "\n",
      "QObject::moveToThread: Current thread (0x6a7a000) is not the object's thread (0x729d270).\n",
      "Cannot move to target thread (0x6a7a000)\n",
      "\n",
      "QObject::moveToThread: Current thread (0x6a7a000) is not the object's thread (0x729d270).\n",
      "Cannot move to target thread (0x6a7a000)\n",
      "\n",
      "QObject::moveToThread: Current thread (0x6a7a000) is not the object's thread (0x729d270).\n",
      "Cannot move to target thread (0x6a7a000)\n",
      "\n",
      "QObject::moveToThread: Current thread (0x6a7a000) is not the object's thread (0x729d270).\n",
      "Cannot move to target thread (0x6a7a000)\n",
      "\n",
      "QObject::moveToThread: Current thread (0x6a7a000) is not the object's thread (0x729d270).\n",
      "Cannot move to target thread (0x6a7a000)\n",
      "\n",
      "QObject::moveToThread: Current thread (0x6a7a000) is not the object's thread (0x729d270).\n",
      "Cannot move to target thread (0x6a7a000)\n",
      "\n",
      "QObject::moveToThread: Current thread (0x6a7a000) is not the object's thread (0x729d270).\n",
      "Cannot move to target thread (0x6a7a000)\n",
      "\n",
      "QObject::moveToThread: Current thread (0x6a7a000) is not the object's thread (0x729d270).\n",
      "Cannot move to target thread (0x6a7a000)\n",
      "\n",
      "QObject::moveToThread: Current thread (0x6a7a000) is not the object's thread (0x729d270).\n",
      "Cannot move to target thread (0x6a7a000)\n",
      "\n",
      "QObject::moveToThread: Current thread (0x6a7a000) is not the object's thread (0x729d270).\n",
      "Cannot move to target thread (0x6a7a000)\n",
      "\n",
      "QObject::moveToThread: Current thread (0x6a7a000) is not the object's thread (0x729d270).\n",
      "Cannot move to target thread (0x6a7a000)\n",
      "\n",
      "QObject::moveToThread: Current thread (0x6a7a000) is not the object's thread (0x729d270).\n",
      "Cannot move to target thread (0x6a7a000)\n",
      "\n",
      "QObject::moveToThread: Current thread (0x6a7a000) is not the object's thread (0x729d270).\n",
      "Cannot move to target thread (0x6a7a000)\n",
      "\n",
      "QObject::moveToThread: Current thread (0x6a7a000) is not the object's thread (0x729d270).\n",
      "Cannot move to target thread (0x6a7a000)\n",
      "\n",
      "QObject::moveToThread: Current thread (0x6a7a000) is not the object's thread (0x729d270).\n",
      "Cannot move to target thread (0x6a7a000)\n",
      "\n",
      "QObject::moveToThread: Current thread (0x6a7a000) is not the object's thread (0x729d270).\n",
      "Cannot move to target thread (0x6a7a000)\n",
      "\n",
      "QObject::moveToThread: Current thread (0x6a7a000) is not the object's thread (0x729d270).\n",
      "Cannot move to target thread (0x6a7a000)\n",
      "\n"
     ]
    },
    {
     "name": "stdout",
     "output_type": "stream",
     "text": [
      "1/1 [==============================] - 0s 59ms/step\n",
      "1/1 [==============================] - 0s 48ms/step\n",
      "1/1 [==============================] - 0s 50ms/step\n",
      "1/1 [==============================] - 0s 52ms/step\n",
      "1/1 [==============================] - 0s 54ms/step\n",
      "1/1 [==============================] - 0s 55ms/step\n",
      "1/1 [==============================] - 0s 57ms/step\n",
      "1/1 [==============================] - 0s 54ms/step\n",
      "1/1 [==============================] - 0s 58ms/step\n",
      "1/1 [==============================] - 0s 57ms/step\n",
      "1/1 [==============================] - 0s 55ms/step\n",
      "1/1 [==============================] - 0s 59ms/step\n",
      "1/1 [==============================] - 0s 59ms/step\n",
      "1/1 [==============================] - 0s 55ms/step\n",
      "1/1 [==============================] - 0s 62ms/step\n",
      "1/1 [==============================] - 0s 60ms/step\n",
      "1/1 [==============================] - 0s 55ms/step\n",
      "1/1 [==============================] - 0s 55ms/step\n",
      "1/1 [==============================] - 0s 53ms/step\n",
      "1/1 [==============================] - 0s 56ms/step\n",
      "1/1 [==============================] - 0s 62ms/step\n",
      "1/1 [==============================] - 0s 61ms/step\n",
      "1/1 [==============================] - 0s 54ms/step\n",
      "1/1 [==============================] - 0s 55ms/step\n",
      "1/1 [==============================] - 0s 52ms/step\n",
      "1/1 [==============================] - 0s 52ms/step\n",
      "1/1 [==============================] - 0s 53ms/step\n",
      "1/1 [==============================] - 0s 55ms/step\n",
      "1/1 [==============================] - 0s 63ms/step\n",
      "1/1 [==============================] - 0s 64ms/step\n",
      "1/1 [==============================] - 0s 57ms/step\n",
      "1/1 [==============================] - 0s 66ms/step\n",
      "1/1 [==============================] - 0s 51ms/step\n",
      "1/1 [==============================] - 0s 54ms/step\n",
      "1/1 [==============================] - 0s 62ms/step\n",
      "1/1 [==============================] - 0s 54ms/step\n",
      "1/1 [==============================] - 0s 56ms/step\n",
      "1/1 [==============================] - 0s 69ms/step\n",
      "1/1 [==============================] - 0s 56ms/step\n",
      "1/1 [==============================] - 0s 54ms/step\n",
      "1/1 [==============================] - 0s 65ms/step\n",
      "1/1 [==============================] - 0s 61ms/step\n",
      "1/1 [==============================] - 0s 54ms/step\n",
      "1/1 [==============================] - 0s 55ms/step\n",
      "1/1 [==============================] - 0s 65ms/step\n",
      "1/1 [==============================] - 0s 62ms/step\n",
      "1/1 [==============================] - 0s 51ms/step\n",
      "1/1 [==============================] - 0s 63ms/step\n",
      "1/1 [==============================] - 0s 64ms/step\n",
      "1/1 [==============================] - 0s 51ms/step\n",
      "1/1 [==============================] - 0s 52ms/step\n",
      "False\n",
      "1/1 [==============================] - 0s 52ms/step\n",
      "1/1 [==============================] - 0s 53ms/step\n",
      "1/1 [==============================] - 0s 52ms/step\n",
      "1/1 [==============================] - 0s 52ms/step\n",
      "1/1 [==============================] - 0s 52ms/step\n",
      "1/1 [==============================] - 0s 52ms/step\n",
      "1/1 [==============================] - 0s 50ms/step\n",
      "1/1 [==============================] - 0s 50ms/step\n",
      "1/1 [==============================] - 0s 52ms/step\n",
      "1/1 [==============================] - 0s 49ms/step\n",
      "1/1 [==============================] - 0s 50ms/step\n",
      "1/1 [==============================] - 0s 48ms/step\n",
      "1/1 [==============================] - 0s 50ms/step\n",
      "1/1 [==============================] - 0s 50ms/step\n",
      "1/1 [==============================] - 0s 46ms/step\n",
      "1/1 [==============================] - 0s 49ms/step\n",
      "1/1 [==============================] - 0s 50ms/step\n",
      "1/1 [==============================] - 0s 50ms/step\n",
      "1/1 [==============================] - 0s 50ms/step\n",
      "1/1 [==============================] - 0s 50ms/step\n",
      "1/1 [==============================] - 0s 44ms/step\n",
      "1/1 [==============================] - 0s 51ms/step\n",
      "1/1 [==============================] - 0s 49ms/step\n",
      "1/1 [==============================] - 0s 49ms/step\n",
      "1/1 [==============================] - 0s 46ms/step\n",
      "1/1 [==============================] - 0s 50ms/step\n",
      "1/1 [==============================] - 0s 49ms/step\n",
      "1/1 [==============================] - 0s 48ms/step\n",
      "1/1 [==============================] - 0s 50ms/step\n",
      "1/1 [==============================] - 0s 49ms/step\n",
      "1/1 [==============================] - 0s 49ms/step\n",
      "1/1 [==============================] - 0s 48ms/step\n",
      "1/1 [==============================] - 0s 48ms/step\n",
      "1/1 [==============================] - 0s 50ms/step\n",
      "1/1 [==============================] - 0s 49ms/step\n",
      "1/1 [==============================] - 0s 49ms/step\n",
      "1/1 [==============================] - 0s 50ms/step\n",
      "1/1 [==============================] - 0s 48ms/step\n",
      "1/1 [==============================] - 0s 50ms/step\n",
      "1/1 [==============================] - 0s 49ms/step\n",
      "1/1 [==============================] - 0s 49ms/step\n",
      "1/1 [==============================] - 0s 49ms/step\n",
      "1/1 [==============================] - 0s 49ms/step\n",
      "1/1 [==============================] - 0s 47ms/step\n",
      "1/1 [==============================] - 0s 49ms/step\n",
      "1/1 [==============================] - 0s 50ms/step\n",
      "1/1 [==============================] - 0s 48ms/step\n",
      "1/1 [==============================] - 0s 49ms/step\n",
      "1/1 [==============================] - 0s 48ms/step\n",
      "1/1 [==============================] - 0s 49ms/step\n",
      "1/1 [==============================] - 0s 50ms/step\n",
      "True\n",
      "1/1 [==============================] - 0s 48ms/step\n",
      "1/1 [==============================] - 0s 49ms/step\n",
      "1/1 [==============================] - 0s 49ms/step\n",
      "1/1 [==============================] - 0s 49ms/step\n",
      "1/1 [==============================] - 0s 49ms/step\n",
      "1/1 [==============================] - 0s 50ms/step\n",
      "1/1 [==============================] - 0s 48ms/step\n",
      "1/1 [==============================] - 0s 49ms/step\n",
      "1/1 [==============================] - 0s 49ms/step\n",
      "1/1 [==============================] - 0s 49ms/step\n",
      "1/1 [==============================] - 0s 49ms/step\n",
      "1/1 [==============================] - 0s 51ms/step\n",
      "1/1 [==============================] - 0s 49ms/step\n",
      "1/1 [==============================] - 0s 50ms/step\n",
      "1/1 [==============================] - 0s 49ms/step\n",
      "1/1 [==============================] - 0s 49ms/step\n",
      "1/1 [==============================] - 0s 48ms/step\n",
      "1/1 [==============================] - 0s 48ms/step\n",
      "1/1 [==============================] - 0s 48ms/step\n",
      "1/1 [==============================] - 0s 49ms/step\n",
      "1/1 [==============================] - 0s 49ms/step\n",
      "1/1 [==============================] - 0s 45ms/step\n",
      "1/1 [==============================] - 0s 48ms/step\n",
      "1/1 [==============================] - 0s 45ms/step\n",
      "1/1 [==============================] - 0s 46ms/step\n",
      "1/1 [==============================] - 0s 49ms/step\n",
      "1/1 [==============================] - 0s 50ms/step\n",
      "1/1 [==============================] - 0s 48ms/step\n",
      "1/1 [==============================] - 0s 49ms/step\n",
      "1/1 [==============================] - 0s 48ms/step\n",
      "1/1 [==============================] - 0s 50ms/step\n",
      "1/1 [==============================] - 0s 51ms/step\n",
      "1/1 [==============================] - 0s 50ms/step\n",
      "1/1 [==============================] - 0s 45ms/step\n",
      "1/1 [==============================] - 0s 49ms/step\n",
      "1/1 [==============================] - 0s 49ms/step\n",
      "1/1 [==============================] - 0s 54ms/step\n",
      "1/1 [==============================] - 0s 49ms/step\n",
      "1/1 [==============================] - 0s 51ms/step\n",
      "1/1 [==============================] - 0s 54ms/step\n",
      "1/1 [==============================] - 0s 48ms/step\n",
      "1/1 [==============================] - 0s 51ms/step\n",
      "1/1 [==============================] - 0s 51ms/step\n",
      "1/1 [==============================] - 0s 56ms/step\n",
      "1/1 [==============================] - 0s 53ms/step\n",
      "1/1 [==============================] - 0s 53ms/step\n",
      "1/1 [==============================] - 0s 53ms/step\n",
      "1/1 [==============================] - 0s 51ms/step\n",
      "1/1 [==============================] - 0s 51ms/step\n",
      "1/1 [==============================] - 0s 47ms/step\n",
      "1/1 [==============================] - 0s 51ms/step\n",
      "True\n",
      "1/1 [==============================] - 0s 49ms/step\n",
      "1/1 [==============================] - 0s 50ms/step\n",
      "1/1 [==============================] - 0s 50ms/step\n",
      "1/1 [==============================] - 0s 49ms/step\n"
     ]
    },
    {
     "name": "stdout",
     "output_type": "stream",
     "text": [
      "1/1 [==============================] - 0s 49ms/step\n",
      "1/1 [==============================] - 0s 49ms/step\n",
      "1/1 [==============================] - 0s 48ms/step\n",
      "1/1 [==============================] - 0s 50ms/step\n",
      "1/1 [==============================] - 0s 48ms/step\n",
      "1/1 [==============================] - 0s 49ms/step\n",
      "1/1 [==============================] - 0s 49ms/step\n",
      "1/1 [==============================] - 0s 48ms/step\n",
      "1/1 [==============================] - 0s 48ms/step\n",
      "1/1 [==============================] - 0s 49ms/step\n",
      "1/1 [==============================] - 0s 50ms/step\n",
      "1/1 [==============================] - 0s 47ms/step\n",
      "1/1 [==============================] - 0s 45ms/step\n",
      "1/1 [==============================] - 0s 48ms/step\n",
      "1/1 [==============================] - 0s 49ms/step\n",
      "1/1 [==============================] - 0s 49ms/step\n",
      "1/1 [==============================] - 0s 49ms/step\n",
      "1/1 [==============================] - 0s 49ms/step\n",
      "1/1 [==============================] - 0s 50ms/step\n",
      "1/1 [==============================] - 0s 49ms/step\n",
      "1/1 [==============================] - 0s 54ms/step\n",
      "1/1 [==============================] - 0s 48ms/step\n",
      "1/1 [==============================] - 0s 51ms/step\n",
      "1/1 [==============================] - 0s 59ms/step\n",
      "1/1 [==============================] - 0s 55ms/step\n",
      "1/1 [==============================] - 0s 53ms/step\n",
      "1/1 [==============================] - 0s 49ms/step\n",
      "1/1 [==============================] - 0s 56ms/step\n",
      "1/1 [==============================] - 0s 54ms/step\n",
      "1/1 [==============================] - 0s 51ms/step\n",
      "1/1 [==============================] - 0s 50ms/step\n",
      "1/1 [==============================] - 0s 57ms/step\n",
      "1/1 [==============================] - 0s 52ms/step\n",
      "1/1 [==============================] - 0s 54ms/step\n",
      "1/1 [==============================] - 0s 52ms/step\n",
      "1/1 [==============================] - 0s 55ms/step\n",
      "1/1 [==============================] - 0s 56ms/step\n",
      "1/1 [==============================] - 0s 50ms/step\n",
      "1/1 [==============================] - 0s 50ms/step\n",
      "1/1 [==============================] - 0s 58ms/step\n",
      "1/1 [==============================] - 0s 55ms/step\n",
      "1/1 [==============================] - 0s 52ms/step\n",
      "1/1 [==============================] - 0s 50ms/step\n",
      "1/1 [==============================] - 0s 57ms/step\n",
      "1/1 [==============================] - 0s 55ms/step\n",
      "1/1 [==============================] - 0s 48ms/step\n",
      "1/1 [==============================] - 0s 55ms/step\n",
      "False\n",
      "1/1 [==============================] - 0s 50ms/step\n",
      "1/1 [==============================] - 0s 50ms/step\n",
      "1/1 [==============================] - 0s 49ms/step\n",
      "1/1 [==============================] - 0s 52ms/step\n",
      "1/1 [==============================] - 0s 50ms/step\n",
      "1/1 [==============================] - 0s 49ms/step\n",
      "1/1 [==============================] - 0s 49ms/step\n",
      "1/1 [==============================] - 0s 49ms/step\n",
      "1/1 [==============================] - 0s 56ms/step\n",
      "1/1 [==============================] - 0s 58ms/step\n",
      "1/1 [==============================] - 0s 57ms/step\n",
      "1/1 [==============================] - 0s 56ms/step\n",
      "1/1 [==============================] - 0s 52ms/step\n",
      "1/1 [==============================] - 0s 49ms/step\n",
      "1/1 [==============================] - 0s 49ms/step\n",
      "1/1 [==============================] - 0s 56ms/step\n",
      "1/1 [==============================] - 0s 50ms/step\n",
      "1/1 [==============================] - 0s 51ms/step\n",
      "1/1 [==============================] - 0s 55ms/step\n",
      "1/1 [==============================] - 0s 53ms/step\n",
      "1/1 [==============================] - 0s 54ms/step\n",
      "1/1 [==============================] - 0s 45ms/step\n",
      "1/1 [==============================] - 0s 56ms/step\n",
      "1/1 [==============================] - 0s 57ms/step\n",
      "1/1 [==============================] - 0s 53ms/step\n",
      "1/1 [==============================] - 0s 51ms/step\n",
      "1/1 [==============================] - 0s 49ms/step\n",
      "1/1 [==============================] - 0s 50ms/step\n",
      "1/1 [==============================] - 0s 53ms/step\n",
      "1/1 [==============================] - 0s 55ms/step\n",
      "1/1 [==============================] - 0s 55ms/step\n",
      "1/1 [==============================] - 0s 53ms/step\n",
      "1/1 [==============================] - 0s 49ms/step\n",
      "1/1 [==============================] - 0s 58ms/step\n",
      "1/1 [==============================] - 0s 56ms/step\n",
      "1/1 [==============================] - 0s 54ms/step\n",
      "1/1 [==============================] - 0s 45ms/step\n",
      "1/1 [==============================] - 0s 47ms/step\n",
      "1/1 [==============================] - 0s 55ms/step\n",
      "1/1 [==============================] - 0s 58ms/step\n",
      "1/1 [==============================] - 0s 53ms/step\n",
      "1/1 [==============================] - 0s 49ms/step\n",
      "1/1 [==============================] - 0s 49ms/step\n",
      "1/1 [==============================] - 0s 51ms/step\n",
      "1/1 [==============================] - 0s 59ms/step\n",
      "1/1 [==============================] - 0s 55ms/step\n",
      "1/1 [==============================] - 0s 51ms/step\n",
      "1/1 [==============================] - 0s 49ms/step\n",
      "1/1 [==============================] - 0s 46ms/step\n",
      "1/1 [==============================] - 0s 54ms/step\n",
      "1/1 [==============================] - 0s 56ms/step\n",
      "False\n",
      "1/1 [==============================] - 0s 46ms/step\n",
      "1/1 [==============================] - 0s 49ms/step\n",
      "1/1 [==============================] - 0s 46ms/step\n",
      "1/1 [==============================] - 0s 49ms/step\n",
      "1/1 [==============================] - 0s 51ms/step\n",
      "1/1 [==============================] - 0s 49ms/step\n",
      "1/1 [==============================] - 0s 52ms/step\n",
      "1/1 [==============================] - 0s 49ms/step\n",
      "1/1 [==============================] - 0s 48ms/step\n",
      "1/1 [==============================] - 0s 48ms/step\n",
      "1/1 [==============================] - 0s 49ms/step\n",
      "1/1 [==============================] - 0s 49ms/step\n",
      "1/1 [==============================] - 0s 48ms/step\n",
      "1/1 [==============================] - 0s 48ms/step\n",
      "1/1 [==============================] - 0s 45ms/step\n",
      "1/1 [==============================] - 0s 48ms/step\n",
      "1/1 [==============================] - 0s 49ms/step\n",
      "1/1 [==============================] - 0s 49ms/step\n",
      "1/1 [==============================] - 0s 48ms/step\n",
      "1/1 [==============================] - 0s 49ms/step\n",
      "1/1 [==============================] - 0s 49ms/step\n",
      "1/1 [==============================] - 0s 50ms/step\n",
      "1/1 [==============================] - 0s 48ms/step\n",
      "1/1 [==============================] - 0s 49ms/step\n",
      "1/1 [==============================] - 0s 48ms/step\n",
      "1/1 [==============================] - 0s 48ms/step\n",
      "1/1 [==============================] - 0s 49ms/step\n",
      "1/1 [==============================] - 0s 49ms/step\n",
      "1/1 [==============================] - 0s 45ms/step\n",
      "1/1 [==============================] - 0s 49ms/step\n",
      "1/1 [==============================] - 0s 52ms/step\n",
      "1/1 [==============================] - 0s 53ms/step\n",
      "1/1 [==============================] - 0s 51ms/step\n",
      "1/1 [==============================] - 0s 47ms/step\n",
      "1/1 [==============================] - 0s 52ms/step\n",
      "1/1 [==============================] - 0s 49ms/step\n",
      "1/1 [==============================] - 0s 56ms/step\n",
      "1/1 [==============================] - 0s 59ms/step\n",
      "1/1 [==============================] - 0s 47ms/step\n",
      "1/1 [==============================] - 0s 49ms/step\n",
      "1/1 [==============================] - 0s 68ms/step\n",
      "1/1 [==============================] - 0s 58ms/step\n",
      "1/1 [==============================] - 0s 55ms/step\n",
      "1/1 [==============================] - 0s 63ms/step\n",
      "1/1 [==============================] - 0s 57ms/step\n",
      "1/1 [==============================] - 0s 51ms/step\n",
      "1/1 [==============================] - 0s 59ms/step\n",
      "1/1 [==============================] - 0s 58ms/step\n",
      "1/1 [==============================] - 0s 51ms/step\n",
      "1/1 [==============================] - 0s 63ms/step\n",
      "1/1 [==============================] - 0s 59ms/step\n",
      "False\n",
      "1/1 [==============================] - 0s 46ms/step\n",
      "1/1 [==============================] - 0s 49ms/step\n",
      "1/1 [==============================] - 0s 48ms/step\n",
      "1/1 [==============================] - 0s 49ms/step\n",
      "1/1 [==============================] - 0s 51ms/step\n",
      "1/1 [==============================] - 0s 53ms/step\n",
      "1/1 [==============================] - 0s 53ms/step\n",
      "1/1 [==============================] - 0s 52ms/step\n"
     ]
    },
    {
     "name": "stdout",
     "output_type": "stream",
     "text": [
      "1/1 [==============================] - 0s 52ms/step\n",
      "1/1 [==============================] - 0s 48ms/step\n",
      "1/1 [==============================] - 0s 52ms/step\n",
      "1/1 [==============================] - 0s 58ms/step\n",
      "1/1 [==============================] - 0s 50ms/step\n",
      "1/1 [==============================] - 0s 50ms/step\n",
      "1/1 [==============================] - 0s 56ms/step\n",
      "1/1 [==============================] - 0s 53ms/step\n",
      "1/1 [==============================] - 0s 50ms/step\n",
      "1/1 [==============================] - 0s 47ms/step\n",
      "1/1 [==============================] - 0s 49ms/step\n",
      "1/1 [==============================] - 0s 48ms/step\n",
      "1/1 [==============================] - 0s 54ms/step\n",
      "1/1 [==============================] - 0s 55ms/step\n",
      "1/1 [==============================] - 0s 53ms/step\n",
      "1/1 [==============================] - 0s 44ms/step\n",
      "1/1 [==============================] - 0s 47ms/step\n",
      "1/1 [==============================] - 0s 47ms/step\n",
      "1/1 [==============================] - 0s 57ms/step\n",
      "1/1 [==============================] - 0s 56ms/step\n",
      "1/1 [==============================] - 0s 51ms/step\n",
      "1/1 [==============================] - 0s 46ms/step\n",
      "1/1 [==============================] - 0s 56ms/step\n",
      "1/1 [==============================] - 0s 55ms/step\n",
      "1/1 [==============================] - 0s 51ms/step\n",
      "1/1 [==============================] - 0s 48ms/step\n",
      "1/1 [==============================] - 0s 57ms/step\n",
      "1/1 [==============================] - 0s 57ms/step\n",
      "1/1 [==============================] - 0s 51ms/step\n",
      "1/1 [==============================] - 0s 50ms/step\n",
      "1/1 [==============================] - 0s 52ms/step\n",
      "1/1 [==============================] - 0s 54ms/step\n",
      "1/1 [==============================] - 0s 50ms/step\n",
      "1/1 [==============================] - 0s 52ms/step\n",
      "1/1 [==============================] - 0s 54ms/step\n",
      "1/1 [==============================] - 0s 54ms/step\n",
      "1/1 [==============================] - 0s 48ms/step\n",
      "1/1 [==============================] - 0s 52ms/step\n",
      "1/1 [==============================] - 0s 55ms/step\n",
      "1/1 [==============================] - 0s 52ms/step\n",
      "1/1 [==============================] - 0s 55ms/step\n",
      "1/1 [==============================] - 0s 57ms/step\n",
      "1/1 [==============================] - 0s 51ms/step\n",
      "False\n"
     ]
    }
   ],
   "source": [
    "cap = cv2.VideoCapture(0)\n",
    "while cap.isOpened():\n",
    "    ret, frame = cap.read()\n",
    "    frame = frame[120:120+250,200:200+250, :]\n",
    "    \n",
    "    cv2.imshow('Verification', frame)\n",
    "    \n",
    "    # Verification trigger\n",
    "    if cv2.waitKey(10) & 0xFF == ord('v'):\n",
    " \n",
    "\n",
    "        cv2.imwrite(os.path.join('application_data', 'input_image', 'input_image.jpg'), frame)\n",
    "        # Run verification\n",
    "        results, verified = verify(siamese_model, 0.7, 0.7)\n",
    "        print(verified)\n",
    "    \n",
    "    if cv2.waitKey(10) & 0xFF == ord('q'):\n",
    "        break\n",
    "cap.release()\n",
    "cv2.destroyAllWindows()"
   ]
  },
  {
   "cell_type": "code",
   "execution_count": null,
   "id": "7bc64943",
   "metadata": {},
   "outputs": [],
   "source": []
  }
 ],
 "metadata": {
  "kernelspec": {
   "display_name": "Python 3 (ipykernel)",
   "language": "python",
   "name": "python3"
  },
  "language_info": {
   "codemirror_mode": {
    "name": "ipython",
    "version": 3
   },
   "file_extension": ".py",
   "mimetype": "text/x-python",
   "name": "python",
   "nbconvert_exporter": "python",
   "pygments_lexer": "ipython3",
   "version": "3.10.9"
  }
 },
 "nbformat": 4,
 "nbformat_minor": 5
}
